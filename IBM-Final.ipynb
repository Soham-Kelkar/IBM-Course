{
 "cells": [
  {
   "cell_type": "markdown",
   "metadata": {},
   "source": [
    "<h4> Import the Libraries </h4>"
   ]
  },
  {
   "cell_type": "code",
   "execution_count": 11,
   "metadata": {},
   "outputs": [],
   "source": [
    "import requests\n",
    "from bs4 import BeautifulSoup\n",
    "\n",
    "import numpy as np \n",
    "import pandas as pd\n",
    "import folium \n",
    "\n",
    "from geopy.geocoders import Nominatim \n",
    "import matplotlib.cm as cm\n",
    "import matplotlib.colors as colors\n",
    "from sklearn.cluster import KMeans\n",
    "from sklearn.preprocessing import LabelEncoder\n",
    "\n",
    "pd.set_option('display.max_columns', None)\n",
    "pd.set_option('display.max_rows', None)"
   ]
  },
  {
   "cell_type": "markdown",
   "metadata": {},
   "source": [
    "<h4> Import the Website and convert it to a lxml </h4>"
   ]
  },
  {
   "cell_type": "code",
   "execution_count": 12,
   "metadata": {},
   "outputs": [],
   "source": [
    "website_url = requests.get('https://en.wikipedia.org/wiki/List_of_postal_codes_of_Canada:_M').text\n",
    "soup = BeautifulSoup(website_url, 'lxml')"
   ]
  },
  {
   "cell_type": "markdown",
   "metadata": {},
   "source": [
    "<h4> Get the required table and read it to a dataframe </h4>"
   ]
  },
  {
   "cell_type": "code",
   "execution_count": 13,
   "metadata": {},
   "outputs": [],
   "source": [
    "table = soup.find_all('table')[0] \n",
    "df_tor = pd.read_html(str(table))[0]\n",
    "df_tor.columns = ['Postal Code', 'Borough', 'Neighbourhood']\n",
    "df_tor = df_tor.iloc[1:]\n",
    "df_tor[df_tor == 'Not assigned'] = np.nan"
   ]
  },
  {
   "cell_type": "markdown",
   "metadata": {},
   "source": [
    "<h4> Covert desired datatype to string </h4>"
   ]
  },
  {
   "cell_type": "code",
   "execution_count": 14,
   "metadata": {},
   "outputs": [],
   "source": [
    "df_tor['Postal Code'] = df_tor['Postal Code'].astype('str')"
   ]
  },
  {
   "cell_type": "markdown",
   "metadata": {},
   "source": [
    "<h4> Remove the missing values in Borough column </h4>"
   ]
  },
  {
   "cell_type": "code",
   "execution_count": 15,
   "metadata": {},
   "outputs": [],
   "source": [
    "df_tor = df_tor[df_tor['Borough'].notnull()]"
   ]
  },
  {
   "cell_type": "markdown",
   "metadata": {},
   "source": [
    "<h4> Assign missing values in Neighbourhood column as the Borough </h4>"
   ]
  },
  {
   "cell_type": "code",
   "execution_count": 16,
   "metadata": {},
   "outputs": [],
   "source": [
    "df_tor.loc[df_tor['Neighbourhood'].isnull(), 'Neighbourhood'] = df_tor['Borough']"
   ]
  },
  {
   "cell_type": "markdown",
   "metadata": {},
   "source": [
    "<h4> Group the rows with the same Postal Code </h4>"
   ]
  },
  {
   "cell_type": "code",
   "execution_count": 17,
   "metadata": {},
   "outputs": [
    {
     "data": {
      "text/html": [
       "<div>\n",
       "<style scoped>\n",
       "    .dataframe tbody tr th:only-of-type {\n",
       "        vertical-align: middle;\n",
       "    }\n",
       "\n",
       "    .dataframe tbody tr th {\n",
       "        vertical-align: top;\n",
       "    }\n",
       "\n",
       "    .dataframe thead th {\n",
       "        text-align: right;\n",
       "    }\n",
       "</style>\n",
       "<table border=\"1\" class=\"dataframe\">\n",
       "  <thead>\n",
       "    <tr style=\"text-align: right;\">\n",
       "      <th></th>\n",
       "      <th>Postal Code</th>\n",
       "      <th>Borough</th>\n",
       "      <th>Neighbourhood</th>\n",
       "    </tr>\n",
       "  </thead>\n",
       "  <tbody>\n",
       "    <tr>\n",
       "      <th>0</th>\n",
       "      <td>M1B</td>\n",
       "      <td>Scarborough</td>\n",
       "      <td>Rouge, Malvern</td>\n",
       "    </tr>\n",
       "    <tr>\n",
       "      <th>1</th>\n",
       "      <td>M1C</td>\n",
       "      <td>Scarborough</td>\n",
       "      <td>Highland Creek, Rouge Hill, Port Union</td>\n",
       "    </tr>\n",
       "    <tr>\n",
       "      <th>2</th>\n",
       "      <td>M1E</td>\n",
       "      <td>Scarborough</td>\n",
       "      <td>Guildwood, Morningside, West Hill</td>\n",
       "    </tr>\n",
       "    <tr>\n",
       "      <th>3</th>\n",
       "      <td>M1G</td>\n",
       "      <td>Scarborough</td>\n",
       "      <td>Woburn</td>\n",
       "    </tr>\n",
       "    <tr>\n",
       "      <th>4</th>\n",
       "      <td>M1H</td>\n",
       "      <td>Scarborough</td>\n",
       "      <td>Cedarbrae</td>\n",
       "    </tr>\n",
       "  </tbody>\n",
       "</table>\n",
       "</div>"
      ],
      "text/plain": [
       "  Postal Code      Borough                           Neighbourhood\n",
       "0         M1B  Scarborough                          Rouge, Malvern\n",
       "1         M1C  Scarborough  Highland Creek, Rouge Hill, Port Union\n",
       "2         M1E  Scarborough       Guildwood, Morningside, West Hill\n",
       "3         M1G  Scarborough                                  Woburn\n",
       "4         M1H  Scarborough                               Cedarbrae"
      ]
     },
     "execution_count": 17,
     "metadata": {},
     "output_type": "execute_result"
    }
   ],
   "source": [
    "df_tor = df_tor.groupby('Postal Code').agg({'Borough':'first', \n",
    "                             'Neighbourhood': ', '.join}).reset_index()\n",
    "df_tor.head()"
   ]
  },
  {
   "cell_type": "markdown",
   "metadata": {},
   "source": [
    "<h4> Number of Rows in the DataFrame </h4>"
   ]
  },
  {
   "cell_type": "code",
   "execution_count": 18,
   "metadata": {},
   "outputs": [
    {
     "data": {
      "text/plain": [
       "103"
      ]
     },
     "execution_count": 18,
     "metadata": {},
     "output_type": "execute_result"
    }
   ],
   "source": [
    "df_tor.shape[0]"
   ]
  },
  {
   "cell_type": "markdown",
   "metadata": {},
   "source": [
    "<h4> Import the Locations CSV </h4>"
   ]
  },
  {
   "cell_type": "code",
   "execution_count": 19,
   "metadata": {},
   "outputs": [
    {
     "data": {
      "text/html": [
       "<div>\n",
       "<style scoped>\n",
       "    .dataframe tbody tr th:only-of-type {\n",
       "        vertical-align: middle;\n",
       "    }\n",
       "\n",
       "    .dataframe tbody tr th {\n",
       "        vertical-align: top;\n",
       "    }\n",
       "\n",
       "    .dataframe thead th {\n",
       "        text-align: right;\n",
       "    }\n",
       "</style>\n",
       "<table border=\"1\" class=\"dataframe\">\n",
       "  <thead>\n",
       "    <tr style=\"text-align: right;\">\n",
       "      <th></th>\n",
       "      <th>Postal Code</th>\n",
       "      <th>Latitude</th>\n",
       "      <th>Longitude</th>\n",
       "    </tr>\n",
       "  </thead>\n",
       "  <tbody>\n",
       "    <tr>\n",
       "      <th>0</th>\n",
       "      <td>M1B</td>\n",
       "      <td>43.806686</td>\n",
       "      <td>-79.194353</td>\n",
       "    </tr>\n",
       "    <tr>\n",
       "      <th>1</th>\n",
       "      <td>M1C</td>\n",
       "      <td>43.784535</td>\n",
       "      <td>-79.160497</td>\n",
       "    </tr>\n",
       "    <tr>\n",
       "      <th>2</th>\n",
       "      <td>M1E</td>\n",
       "      <td>43.763573</td>\n",
       "      <td>-79.188711</td>\n",
       "    </tr>\n",
       "    <tr>\n",
       "      <th>3</th>\n",
       "      <td>M1G</td>\n",
       "      <td>43.770992</td>\n",
       "      <td>-79.216917</td>\n",
       "    </tr>\n",
       "    <tr>\n",
       "      <th>4</th>\n",
       "      <td>M1H</td>\n",
       "      <td>43.773136</td>\n",
       "      <td>-79.239476</td>\n",
       "    </tr>\n",
       "  </tbody>\n",
       "</table>\n",
       "</div>"
      ],
      "text/plain": [
       "  Postal Code   Latitude  Longitude\n",
       "0         M1B  43.806686 -79.194353\n",
       "1         M1C  43.784535 -79.160497\n",
       "2         M1E  43.763573 -79.188711\n",
       "3         M1G  43.770992 -79.216917\n",
       "4         M1H  43.773136 -79.239476"
      ]
     },
     "execution_count": 19,
     "metadata": {},
     "output_type": "execute_result"
    }
   ],
   "source": [
    "locations = pd.read_csv('Geospatial_Coordinates.csv')\n",
    "locations['Postal Code'] = locations['Postal Code'].astype(str)\n",
    "locations['Latitude'] = locations['Latitude'].astype(float)\n",
    "locations['Longitude'] = locations['Longitude'].astype(float)\n",
    "locations.head()"
   ]
  },
  {
   "cell_type": "markdown",
   "metadata": {},
   "source": [
    "<h4> Merge the two tables  </h4>"
   ]
  },
  {
   "cell_type": "code",
   "execution_count": 20,
   "metadata": {},
   "outputs": [
    {
     "data": {
      "text/html": [
       "<div>\n",
       "<style scoped>\n",
       "    .dataframe tbody tr th:only-of-type {\n",
       "        vertical-align: middle;\n",
       "    }\n",
       "\n",
       "    .dataframe tbody tr th {\n",
       "        vertical-align: top;\n",
       "    }\n",
       "\n",
       "    .dataframe thead th {\n",
       "        text-align: right;\n",
       "    }\n",
       "</style>\n",
       "<table border=\"1\" class=\"dataframe\">\n",
       "  <thead>\n",
       "    <tr style=\"text-align: right;\">\n",
       "      <th></th>\n",
       "      <th>Postal Code</th>\n",
       "      <th>Borough</th>\n",
       "      <th>Neighbourhood</th>\n",
       "      <th>Latitude</th>\n",
       "      <th>Longitude</th>\n",
       "    </tr>\n",
       "  </thead>\n",
       "  <tbody>\n",
       "    <tr>\n",
       "      <th>0</th>\n",
       "      <td>M1B</td>\n",
       "      <td>Scarborough</td>\n",
       "      <td>Rouge, Malvern</td>\n",
       "      <td>43.806686</td>\n",
       "      <td>-79.194353</td>\n",
       "    </tr>\n",
       "    <tr>\n",
       "      <th>1</th>\n",
       "      <td>M1C</td>\n",
       "      <td>Scarborough</td>\n",
       "      <td>Highland Creek, Rouge Hill, Port Union</td>\n",
       "      <td>43.784535</td>\n",
       "      <td>-79.160497</td>\n",
       "    </tr>\n",
       "    <tr>\n",
       "      <th>2</th>\n",
       "      <td>M1E</td>\n",
       "      <td>Scarborough</td>\n",
       "      <td>Guildwood, Morningside, West Hill</td>\n",
       "      <td>43.763573</td>\n",
       "      <td>-79.188711</td>\n",
       "    </tr>\n",
       "    <tr>\n",
       "      <th>3</th>\n",
       "      <td>M1G</td>\n",
       "      <td>Scarborough</td>\n",
       "      <td>Woburn</td>\n",
       "      <td>43.770992</td>\n",
       "      <td>-79.216917</td>\n",
       "    </tr>\n",
       "    <tr>\n",
       "      <th>4</th>\n",
       "      <td>M1H</td>\n",
       "      <td>Scarborough</td>\n",
       "      <td>Cedarbrae</td>\n",
       "      <td>43.773136</td>\n",
       "      <td>-79.239476</td>\n",
       "    </tr>\n",
       "  </tbody>\n",
       "</table>\n",
       "</div>"
      ],
      "text/plain": [
       "  Postal Code      Borough                           Neighbourhood   Latitude  \\\n",
       "0         M1B  Scarborough                          Rouge, Malvern  43.806686   \n",
       "1         M1C  Scarborough  Highland Creek, Rouge Hill, Port Union  43.784535   \n",
       "2         M1E  Scarborough       Guildwood, Morningside, West Hill  43.763573   \n",
       "3         M1G  Scarborough                                  Woburn  43.770992   \n",
       "4         M1H  Scarborough                               Cedarbrae  43.773136   \n",
       "\n",
       "   Longitude  \n",
       "0 -79.194353  \n",
       "1 -79.160497  \n",
       "2 -79.188711  \n",
       "3 -79.216917  \n",
       "4 -79.239476  "
      ]
     },
     "execution_count": 20,
     "metadata": {},
     "output_type": "execute_result"
    }
   ],
   "source": [
    "df_tor = df_tor.merge(right=locations, how='left', on='Postal Code')\n",
    "df_tor.head()"
   ]
  },
  {
   "cell_type": "markdown",
   "metadata": {},
   "source": [
    "<h5> Get the location of Toronto </h5>"
   ]
  },
  {
   "cell_type": "code",
   "execution_count": 22,
   "metadata": {},
   "outputs": [
    {
     "name": "stdout",
     "output_type": "stream",
     "text": [
      "The geograpical coordinate of Toronto are 43.653963, -79.387207.\n"
     ]
    }
   ],
   "source": [
    "address = 'Toronto'\n",
    "\n",
    "geolocator = Nominatim(user_agent=\"tr_explorer\")\n",
    "location = geolocator.geocode(address)\n",
    "latitude = location.latitude\n",
    "longitude = location.longitude\n",
    "print('The geograpical coordinate of Toronto are {}, {}.'.format(latitude, longitude))"
   ]
  },
  {
   "cell_type": "markdown",
   "metadata": {},
   "source": [
    "<h5> Create a Map of Toronto </h5>"
   ]
  },
  {
   "cell_type": "code",
   "execution_count": 23,
   "metadata": {},
   "outputs": [],
   "source": [
    "map_tr = folium.Map(location=[latitude, longitude], zoom_start=10)\n",
    "\n",
    "# add markers to map\n",
    "for lat, lng, borough, neighborhood in zip(df_tor['Latitude'], df_tor['Longitude'], df_tor['Borough'], df_tor['Neighbourhood']):\n",
    "    label = '{}, {}'.format(neighborhood, borough)\n",
    "    label = folium.Popup(label, parse_html=True)\n",
    "    folium.CircleMarker(\n",
    "        [lat, lng],\n",
    "        radius=5,\n",
    "        popup=label,\n",
    "        color='blue',\n",
    "        fill=True,\n",
    "        fill_color='#3186cc',\n",
    "        fill_opacity=0.7,\n",
    "        parse_html=False).add_to(map_tr)  "
   ]
  },
  {
   "cell_type": "code",
   "execution_count": 24,
   "metadata": {},
   "outputs": [
    {
     "data": {
      "text/html": [
       "<div>\n",
       "<style scoped>\n",
       "    .dataframe tbody tr th:only-of-type {\n",
       "        vertical-align: middle;\n",
       "    }\n",
       "\n",
       "    .dataframe tbody tr th {\n",
       "        vertical-align: top;\n",
       "    }\n",
       "\n",
       "    .dataframe thead th {\n",
       "        text-align: right;\n",
       "    }\n",
       "</style>\n",
       "<table border=\"1\" class=\"dataframe\">\n",
       "  <thead>\n",
       "    <tr style=\"text-align: right;\">\n",
       "      <th></th>\n",
       "      <th>Postal Code</th>\n",
       "      <th>Borough</th>\n",
       "      <th>Neighbourhood</th>\n",
       "      <th>Latitude</th>\n",
       "      <th>Longitude</th>\n",
       "    </tr>\n",
       "  </thead>\n",
       "  <tbody>\n",
       "    <tr>\n",
       "      <th>0</th>\n",
       "      <td>M1B</td>\n",
       "      <td>Scarborough</td>\n",
       "      <td>Rouge, Malvern</td>\n",
       "      <td>43.806686</td>\n",
       "      <td>-79.194353</td>\n",
       "    </tr>\n",
       "    <tr>\n",
       "      <th>1</th>\n",
       "      <td>M1C</td>\n",
       "      <td>Scarborough</td>\n",
       "      <td>Highland Creek, Rouge Hill, Port Union</td>\n",
       "      <td>43.784535</td>\n",
       "      <td>-79.160497</td>\n",
       "    </tr>\n",
       "    <tr>\n",
       "      <th>2</th>\n",
       "      <td>M1E</td>\n",
       "      <td>Scarborough</td>\n",
       "      <td>Guildwood, Morningside, West Hill</td>\n",
       "      <td>43.763573</td>\n",
       "      <td>-79.188711</td>\n",
       "    </tr>\n",
       "    <tr>\n",
       "      <th>3</th>\n",
       "      <td>M1G</td>\n",
       "      <td>Scarborough</td>\n",
       "      <td>Woburn</td>\n",
       "      <td>43.770992</td>\n",
       "      <td>-79.216917</td>\n",
       "    </tr>\n",
       "    <tr>\n",
       "      <th>4</th>\n",
       "      <td>M1H</td>\n",
       "      <td>Scarborough</td>\n",
       "      <td>Cedarbrae</td>\n",
       "      <td>43.773136</td>\n",
       "      <td>-79.239476</td>\n",
       "    </tr>\n",
       "  </tbody>\n",
       "</table>\n",
       "</div>"
      ],
      "text/plain": [
       "  Postal Code      Borough                           Neighbourhood   Latitude  \\\n",
       "0         M1B  Scarborough                          Rouge, Malvern  43.806686   \n",
       "1         M1C  Scarborough  Highland Creek, Rouge Hill, Port Union  43.784535   \n",
       "2         M1E  Scarborough       Guildwood, Morningside, West Hill  43.763573   \n",
       "3         M1G  Scarborough                                  Woburn  43.770992   \n",
       "4         M1H  Scarborough                               Cedarbrae  43.773136   \n",
       "\n",
       "   Longitude  \n",
       "0 -79.194353  \n",
       "1 -79.160497  \n",
       "2 -79.188711  \n",
       "3 -79.216917  \n",
       "4 -79.239476  "
      ]
     },
     "execution_count": 24,
     "metadata": {},
     "output_type": "execute_result"
    }
   ],
   "source": [
    "toronto_data = df_tor\n",
    "toronto_data.head()"
   ]
  },
  {
   "cell_type": "markdown",
   "metadata": {},
   "source": [
    "<h5> Draw the Map using Folium </h5>"
   ]
  },
  {
   "cell_type": "code",
   "execution_count": 25,
   "metadata": {},
   "outputs": [
    {
     "data": {
      "text/html": [
       "<div style=\"width:100%;\"><div style=\"position:relative;width:100%;height:0;padding-bottom:60%;\"><iframe src=\"data:text/html;charset=utf-8;base64,PCFET0NUWVBFIGh0bWw+CjxoZWFkPiAgICAKICAgIDxtZXRhIGh0dHAtZXF1aXY9ImNvbnRlbnQtdHlwZSIgY29udGVudD0idGV4dC9odG1sOyBjaGFyc2V0PVVURi04IiAvPgogICAgCiAgICAgICAgPHNjcmlwdD4KICAgICAgICAgICAgTF9OT19UT1VDSCA9IGZhbHNlOwogICAgICAgICAgICBMX0RJU0FCTEVfM0QgPSBmYWxzZTsKICAgICAgICA8L3NjcmlwdD4KICAgIAogICAgPHNjcmlwdCBzcmM9Imh0dHBzOi8vY2RuLmpzZGVsaXZyLm5ldC9ucG0vbGVhZmxldEAxLjUuMS9kaXN0L2xlYWZsZXQuanMiPjwvc2NyaXB0PgogICAgPHNjcmlwdCBzcmM9Imh0dHBzOi8vY29kZS5qcXVlcnkuY29tL2pxdWVyeS0xLjEyLjQubWluLmpzIj48L3NjcmlwdD4KICAgIDxzY3JpcHQgc3JjPSJodHRwczovL21heGNkbi5ib290c3RyYXBjZG4uY29tL2Jvb3RzdHJhcC8zLjIuMC9qcy9ib290c3RyYXAubWluLmpzIj48L3NjcmlwdD4KICAgIDxzY3JpcHQgc3JjPSJodHRwczovL2NkbmpzLmNsb3VkZmxhcmUuY29tL2FqYXgvbGlicy9MZWFmbGV0LmF3ZXNvbWUtbWFya2Vycy8yLjAuMi9sZWFmbGV0LmF3ZXNvbWUtbWFya2Vycy5qcyI+PC9zY3JpcHQ+CiAgICA8bGluayByZWw9InN0eWxlc2hlZXQiIGhyZWY9Imh0dHBzOi8vY2RuLmpzZGVsaXZyLm5ldC9ucG0vbGVhZmxldEAxLjUuMS9kaXN0L2xlYWZsZXQuY3NzIi8+CiAgICA8bGluayByZWw9InN0eWxlc2hlZXQiIGhyZWY9Imh0dHBzOi8vbWF4Y2RuLmJvb3RzdHJhcGNkbi5jb20vYm9vdHN0cmFwLzMuMi4wL2Nzcy9ib290c3RyYXAubWluLmNzcyIvPgogICAgPGxpbmsgcmVsPSJzdHlsZXNoZWV0IiBocmVmPSJodHRwczovL21heGNkbi5ib290c3RyYXBjZG4uY29tL2Jvb3RzdHJhcC8zLjIuMC9jc3MvYm9vdHN0cmFwLXRoZW1lLm1pbi5jc3MiLz4KICAgIDxsaW5rIHJlbD0ic3R5bGVzaGVldCIgaHJlZj0iaHR0cHM6Ly9tYXhjZG4uYm9vdHN0cmFwY2RuLmNvbS9mb250LWF3ZXNvbWUvNC42LjMvY3NzL2ZvbnQtYXdlc29tZS5taW4uY3NzIi8+CiAgICA8bGluayByZWw9InN0eWxlc2hlZXQiIGhyZWY9Imh0dHBzOi8vY2RuanMuY2xvdWRmbGFyZS5jb20vYWpheC9saWJzL0xlYWZsZXQuYXdlc29tZS1tYXJrZXJzLzIuMC4yL2xlYWZsZXQuYXdlc29tZS1tYXJrZXJzLmNzcyIvPgogICAgPGxpbmsgcmVsPSJzdHlsZXNoZWV0IiBocmVmPSJodHRwczovL3Jhd2Nkbi5naXRoYWNrLmNvbS9weXRob24tdmlzdWFsaXphdGlvbi9mb2xpdW0vbWFzdGVyL2ZvbGl1bS90ZW1wbGF0ZXMvbGVhZmxldC5hd2Vzb21lLnJvdGF0ZS5jc3MiLz4KICAgIDxzdHlsZT5odG1sLCBib2R5IHt3aWR0aDogMTAwJTtoZWlnaHQ6IDEwMCU7bWFyZ2luOiAwO3BhZGRpbmc6IDA7fTwvc3R5bGU+CiAgICA8c3R5bGU+I21hcCB7cG9zaXRpb246YWJzb2x1dGU7dG9wOjA7Ym90dG9tOjA7cmlnaHQ6MDtsZWZ0OjA7fTwvc3R5bGU+CiAgICAKICAgICAgICAgICAgPG1ldGEgbmFtZT0idmlld3BvcnQiIGNvbnRlbnQ9IndpZHRoPWRldmljZS13aWR0aCwKICAgICAgICAgICAgICAgIGluaXRpYWwtc2NhbGU9MS4wLCBtYXhpbXVtLXNjYWxlPTEuMCwgdXNlci1zY2FsYWJsZT1ubyIgLz4KICAgICAgICAgICAgPHN0eWxlPgogICAgICAgICAgICAgICAgI21hcF8xMTFjODcyMmQ4MzA0OTQzYjhhMDFmMTRjMzRlMWYwMyB7CiAgICAgICAgICAgICAgICAgICAgcG9zaXRpb246IHJlbGF0aXZlOwogICAgICAgICAgICAgICAgICAgIHdpZHRoOiAxMDAuMCU7CiAgICAgICAgICAgICAgICAgICAgaGVpZ2h0OiAxMDAuMCU7CiAgICAgICAgICAgICAgICAgICAgbGVmdDogMC4wJTsKICAgICAgICAgICAgICAgICAgICB0b3A6IDAuMCU7CiAgICAgICAgICAgICAgICB9CiAgICAgICAgICAgIDwvc3R5bGU+CiAgICAgICAgCjwvaGVhZD4KPGJvZHk+ICAgIAogICAgCiAgICAgICAgICAgIDxkaXYgY2xhc3M9ImZvbGl1bS1tYXAiIGlkPSJtYXBfMTExYzg3MjJkODMwNDk0M2I4YTAxZjE0YzM0ZTFmMDMiID48L2Rpdj4KICAgICAgICAKPC9ib2R5Pgo8c2NyaXB0PiAgICAKICAgIAogICAgICAgICAgICB2YXIgbWFwXzExMWM4NzIyZDgzMDQ5NDNiOGEwMWYxNGMzNGUxZjAzID0gTC5tYXAoCiAgICAgICAgICAgICAgICAibWFwXzExMWM4NzIyZDgzMDQ5NDNiOGEwMWYxNGMzNGUxZjAzIiwKICAgICAgICAgICAgICAgIHsKICAgICAgICAgICAgICAgICAgICBjZW50ZXI6IFs0My42NTM5NjMsIC03OS4zODcyMDddLAogICAgICAgICAgICAgICAgICAgIGNyczogTC5DUlMuRVBTRzM4NTcsCiAgICAgICAgICAgICAgICAgICAgem9vbTogMTEsCiAgICAgICAgICAgICAgICAgICAgem9vbUNvbnRyb2w6IHRydWUsCiAgICAgICAgICAgICAgICAgICAgcHJlZmVyQ2FudmFzOiBmYWxzZSwKICAgICAgICAgICAgICAgIH0KICAgICAgICAgICAgKTsKCiAgICAgICAgICAgIAoKICAgICAgICAKICAgIAogICAgICAgICAgICB2YXIgdGlsZV9sYXllcl84N2MyMTBmYjNhN2I0NTI2ODczMTEzYjlmOTVlNGIxZSA9IEwudGlsZUxheWVyKAogICAgICAgICAgICAgICAgImh0dHBzOi8ve3N9LnRpbGUub3BlbnN0cmVldG1hcC5vcmcve3p9L3t4fS97eX0ucG5nIiwKICAgICAgICAgICAgICAgIHsiYXR0cmlidXRpb24iOiAiRGF0YSBieSBcdTAwMjZjb3B5OyBcdTAwM2NhIGhyZWY9XCJodHRwOi8vb3BlbnN0cmVldG1hcC5vcmdcIlx1MDAzZU9wZW5TdHJlZXRNYXBcdTAwM2MvYVx1MDAzZSwgdW5kZXIgXHUwMDNjYSBocmVmPVwiaHR0cDovL3d3dy5vcGVuc3RyZWV0bWFwLm9yZy9jb3B5cmlnaHRcIlx1MDAzZU9EYkxcdTAwM2MvYVx1MDAzZS4iLCAiZGV0ZWN0UmV0aW5hIjogZmFsc2UsICJtYXhOYXRpdmVab29tIjogMTgsICJtYXhab29tIjogMTgsICJtaW5ab29tIjogMCwgIm5vV3JhcCI6IGZhbHNlLCAib3BhY2l0eSI6IDEsICJzdWJkb21haW5zIjogImFiYyIsICJ0bXMiOiBmYWxzZX0KICAgICAgICAgICAgKS5hZGRUbyhtYXBfMTExYzg3MjJkODMwNDk0M2I4YTAxZjE0YzM0ZTFmMDMpOwogICAgICAgIAogICAgCiAgICAgICAgICAgIHZhciBjaXJjbGVfbWFya2VyXzQwMWIyYmNiYWM5YjQ3NmY5MTk2YjlmZmE5ZmE2MjYwID0gTC5jaXJjbGVNYXJrZXIoCiAgICAgICAgICAgICAgICBbNDMuODA2Njg2Mjk5OTk5OTk2LCAtNzkuMTk0MzUzNDAwMDAwMDFdLAogICAgICAgICAgICAgICAgeyJidWJibGluZ01vdXNlRXZlbnRzIjogdHJ1ZSwgImNvbG9yIjogImJsdWUiLCAiZGFzaEFycmF5IjogbnVsbCwgImRhc2hPZmZzZXQiOiBudWxsLCAiZmlsbCI6IHRydWUsICJmaWxsQ29sb3IiOiAiIzMxODZjYyIsICJmaWxsT3BhY2l0eSI6IDAuNywgImZpbGxSdWxlIjogImV2ZW5vZGQiLCAibGluZUNhcCI6ICJyb3VuZCIsICJsaW5lSm9pbiI6ICJyb3VuZCIsICJvcGFjaXR5IjogMS4wLCAicmFkaXVzIjogNSwgInN0cm9rZSI6IHRydWUsICJ3ZWlnaHQiOiAzfQogICAgICAgICAgICApLmFkZFRvKG1hcF8xMTFjODcyMmQ4MzA0OTQzYjhhMDFmMTRjMzRlMWYwMyk7CiAgICAgICAgCiAgICAKICAgICAgICB2YXIgcG9wdXBfOGRkNDEyZWI0MGZhNDg0NWE0ODE5MzAxNjQyMTJhNzUgPSBMLnBvcHVwKHsibWF4V2lkdGgiOiAiMTAwJSJ9KTsKCiAgICAgICAgCiAgICAgICAgICAgIHZhciBodG1sX2Y5NzEwZWRlOTc0ZjQwYjhiZWFhYzFmZDMwYjExODdmID0gJChgPGRpdiBpZD0iaHRtbF9mOTcxMGVkZTk3NGY0MGI4YmVhYWMxZmQzMGIxMTg3ZiIgc3R5bGU9IndpZHRoOiAxMDAuMCU7IGhlaWdodDogMTAwLjAlOyI+Um91Z2UsIE1hbHZlcm48L2Rpdj5gKVswXTsKICAgICAgICAgICAgcG9wdXBfOGRkNDEyZWI0MGZhNDg0NWE0ODE5MzAxNjQyMTJhNzUuc2V0Q29udGVudChodG1sX2Y5NzEwZWRlOTc0ZjQwYjhiZWFhYzFmZDMwYjExODdmKTsKICAgICAgICAKCiAgICAgICAgY2lyY2xlX21hcmtlcl80MDFiMmJjYmFjOWI0NzZmOTE5NmI5ZmZhOWZhNjI2MC5iaW5kUG9wdXAocG9wdXBfOGRkNDEyZWI0MGZhNDg0NWE0ODE5MzAxNjQyMTJhNzUpCiAgICAgICAgOwoKICAgICAgICAKICAgIAogICAgCiAgICAgICAgICAgIHZhciBjaXJjbGVfbWFya2VyXzVkZDljYjY2YzMyNTRhOGU5M2Y1MTBkOTcyMjM5YjVlID0gTC5jaXJjbGVNYXJrZXIoCiAgICAgICAgICAgICAgICBbNDMuNzg0NTM1MSwgLTc5LjE2MDQ5NzA5OTk5OTk5XSwKICAgICAgICAgICAgICAgIHsiYnViYmxpbmdNb3VzZUV2ZW50cyI6IHRydWUsICJjb2xvciI6ICJibHVlIiwgImRhc2hBcnJheSI6IG51bGwsICJkYXNoT2Zmc2V0IjogbnVsbCwgImZpbGwiOiB0cnVlLCAiZmlsbENvbG9yIjogIiMzMTg2Y2MiLCAiZmlsbE9wYWNpdHkiOiAwLjcsICJmaWxsUnVsZSI6ICJldmVub2RkIiwgImxpbmVDYXAiOiAicm91bmQiLCAibGluZUpvaW4iOiAicm91bmQiLCAib3BhY2l0eSI6IDEuMCwgInJhZGl1cyI6IDUsICJzdHJva2UiOiB0cnVlLCAid2VpZ2h0IjogM30KICAgICAgICAgICAgKS5hZGRUbyhtYXBfMTExYzg3MjJkODMwNDk0M2I4YTAxZjE0YzM0ZTFmMDMpOwogICAgICAgIAogICAgCiAgICAgICAgdmFyIHBvcHVwX2RlOTY2NzQ0ZmQ0YzRlMjc4N2JkNTFiMjdhM2EzYjFhID0gTC5wb3B1cCh7Im1heFdpZHRoIjogIjEwMCUifSk7CgogICAgICAgIAogICAgICAgICAgICB2YXIgaHRtbF9lNzY5NjFjOWZhYmU0MzRkODRlNmRiNjgxNDljMTM2ZSA9ICQoYDxkaXYgaWQ9Imh0bWxfZTc2OTYxYzlmYWJlNDM0ZDg0ZTZkYjY4MTQ5YzEzNmUiIHN0eWxlPSJ3aWR0aDogMTAwLjAlOyBoZWlnaHQ6IDEwMC4wJTsiPkhpZ2hsYW5kIENyZWVrLCBSb3VnZSBIaWxsLCBQb3J0IFVuaW9uPC9kaXY+YClbMF07CiAgICAgICAgICAgIHBvcHVwX2RlOTY2NzQ0ZmQ0YzRlMjc4N2JkNTFiMjdhM2EzYjFhLnNldENvbnRlbnQoaHRtbF9lNzY5NjFjOWZhYmU0MzRkODRlNmRiNjgxNDljMTM2ZSk7CiAgICAgICAgCgogICAgICAgIGNpcmNsZV9tYXJrZXJfNWRkOWNiNjZjMzI1NGE4ZTkzZjUxMGQ5NzIyMzliNWUuYmluZFBvcHVwKHBvcHVwX2RlOTY2NzQ0ZmQ0YzRlMjc4N2JkNTFiMjdhM2EzYjFhKQogICAgICAgIDsKCiAgICAgICAgCiAgICAKICAgIAogICAgICAgICAgICB2YXIgY2lyY2xlX21hcmtlcl8yOTIwZDMyZjA0MTI0ZTg0OTRmMWUyN2MyODk1MmUxYyA9IEwuY2lyY2xlTWFya2VyKAogICAgICAgICAgICAgICAgWzQzLjc2MzU3MjYsIC03OS4xODg3MTE1XSwKICAgICAgICAgICAgICAgIHsiYnViYmxpbmdNb3VzZUV2ZW50cyI6IHRydWUsICJjb2xvciI6ICJibHVlIiwgImRhc2hBcnJheSI6IG51bGwsICJkYXNoT2Zmc2V0IjogbnVsbCwgImZpbGwiOiB0cnVlLCAiZmlsbENvbG9yIjogIiMzMTg2Y2MiLCAiZmlsbE9wYWNpdHkiOiAwLjcsICJmaWxsUnVsZSI6ICJldmVub2RkIiwgImxpbmVDYXAiOiAicm91bmQiLCAibGluZUpvaW4iOiAicm91bmQiLCAib3BhY2l0eSI6IDEuMCwgInJhZGl1cyI6IDUsICJzdHJva2UiOiB0cnVlLCAid2VpZ2h0IjogM30KICAgICAgICAgICAgKS5hZGRUbyhtYXBfMTExYzg3MjJkODMwNDk0M2I4YTAxZjE0YzM0ZTFmMDMpOwogICAgICAgIAogICAgCiAgICAgICAgdmFyIHBvcHVwX2Q4ZWIwNjE0N2EyZTQ5MjQ5YWI1NTczM2M1OTZhNGU4ID0gTC5wb3B1cCh7Im1heFdpZHRoIjogIjEwMCUifSk7CgogICAgICAgIAogICAgICAgICAgICB2YXIgaHRtbF80ZDQzZGY2MGExZjk0N2Q2YjEyMjA5MGQ4OTcxZjllZCA9ICQoYDxkaXYgaWQ9Imh0bWxfNGQ0M2RmNjBhMWY5NDdkNmIxMjIwOTBkODk3MWY5ZWQiIHN0eWxlPSJ3aWR0aDogMTAwLjAlOyBoZWlnaHQ6IDEwMC4wJTsiPkd1aWxkd29vZCwgTW9ybmluZ3NpZGUsIFdlc3QgSGlsbDwvZGl2PmApWzBdOwogICAgICAgICAgICBwb3B1cF9kOGViMDYxNDdhMmU0OTI0OWFiNTU3MzNjNTk2YTRlOC5zZXRDb250ZW50KGh0bWxfNGQ0M2RmNjBhMWY5NDdkNmIxMjIwOTBkODk3MWY5ZWQpOwogICAgICAgIAoKICAgICAgICBjaXJjbGVfbWFya2VyXzI5MjBkMzJmMDQxMjRlODQ5NGYxZTI3YzI4OTUyZTFjLmJpbmRQb3B1cChwb3B1cF9kOGViMDYxNDdhMmU0OTI0OWFiNTU3MzNjNTk2YTRlOCkKICAgICAgICA7CgogICAgICAgIAogICAgCiAgICAKICAgICAgICAgICAgdmFyIGNpcmNsZV9tYXJrZXJfMjlkZjUwYzIzYWI0NGRmNTk2YmRhNTNlOTc3ZTk2NjkgPSBMLmNpcmNsZU1hcmtlcigKICAgICAgICAgICAgICAgIFs0My43NzA5OTIxLCAtNzkuMjE2OTE3NDAwMDAwMDFdLAogICAgICAgICAgICAgICAgeyJidWJibGluZ01vdXNlRXZlbnRzIjogdHJ1ZSwgImNvbG9yIjogImJsdWUiLCAiZGFzaEFycmF5IjogbnVsbCwgImRhc2hPZmZzZXQiOiBudWxsLCAiZmlsbCI6IHRydWUsICJmaWxsQ29sb3IiOiAiIzMxODZjYyIsICJmaWxsT3BhY2l0eSI6IDAuNywgImZpbGxSdWxlIjogImV2ZW5vZGQiLCAibGluZUNhcCI6ICJyb3VuZCIsICJsaW5lSm9pbiI6ICJyb3VuZCIsICJvcGFjaXR5IjogMS4wLCAicmFkaXVzIjogNSwgInN0cm9rZSI6IHRydWUsICJ3ZWlnaHQiOiAzfQogICAgICAgICAgICApLmFkZFRvKG1hcF8xMTFjODcyMmQ4MzA0OTQzYjhhMDFmMTRjMzRlMWYwMyk7CiAgICAgICAgCiAgICAKICAgICAgICB2YXIgcG9wdXBfZWQ4MzY2YjZhNTljNDdiMjkzOWUxOGRmYTZjZTgyOGUgPSBMLnBvcHVwKHsibWF4V2lkdGgiOiAiMTAwJSJ9KTsKCiAgICAgICAgCiAgICAgICAgICAgIHZhciBodG1sXzVhYTBjNGU5ZWQ5YzQ5ODdiMjFjNWQ4ZjgyYjMzMDk3ID0gJChgPGRpdiBpZD0iaHRtbF81YWEwYzRlOWVkOWM0OTg3YjIxYzVkOGY4MmIzMzA5NyIgc3R5bGU9IndpZHRoOiAxMDAuMCU7IGhlaWdodDogMTAwLjAlOyI+V29idXJuPC9kaXY+YClbMF07CiAgICAgICAgICAgIHBvcHVwX2VkODM2NmI2YTU5YzQ3YjI5MzllMThkZmE2Y2U4MjhlLnNldENvbnRlbnQoaHRtbF81YWEwYzRlOWVkOWM0OTg3YjIxYzVkOGY4MmIzMzA5Nyk7CiAgICAgICAgCgogICAgICAgIGNpcmNsZV9tYXJrZXJfMjlkZjUwYzIzYWI0NGRmNTk2YmRhNTNlOTc3ZTk2NjkuYmluZFBvcHVwKHBvcHVwX2VkODM2NmI2YTU5YzQ3YjI5MzllMThkZmE2Y2U4MjhlKQogICAgICAgIDsKCiAgICAgICAgCiAgICAKICAgIAogICAgICAgICAgICB2YXIgY2lyY2xlX21hcmtlcl9hMzlkMTIzNWQyZmI0ZTZjOWY5ZDJlMzAxMGY4YmNiZiA9IEwuY2lyY2xlTWFya2VyKAogICAgICAgICAgICAgICAgWzQzLjc3MzEzNiwgLTc5LjIzOTQ3NjA5OTk5OTk5XSwKICAgICAgICAgICAgICAgIHsiYnViYmxpbmdNb3VzZUV2ZW50cyI6IHRydWUsICJjb2xvciI6ICJibHVlIiwgImRhc2hBcnJheSI6IG51bGwsICJkYXNoT2Zmc2V0IjogbnVsbCwgImZpbGwiOiB0cnVlLCAiZmlsbENvbG9yIjogIiMzMTg2Y2MiLCAiZmlsbE9wYWNpdHkiOiAwLjcsICJmaWxsUnVsZSI6ICJldmVub2RkIiwgImxpbmVDYXAiOiAicm91bmQiLCAibGluZUpvaW4iOiAicm91bmQiLCAib3BhY2l0eSI6IDEuMCwgInJhZGl1cyI6IDUsICJzdHJva2UiOiB0cnVlLCAid2VpZ2h0IjogM30KICAgICAgICAgICAgKS5hZGRUbyhtYXBfMTExYzg3MjJkODMwNDk0M2I4YTAxZjE0YzM0ZTFmMDMpOwogICAgICAgIAogICAgCiAgICAgICAgdmFyIHBvcHVwXzQ2MWIyODY1YWI2MDRhMGNiMmY5YmY3YTcwNDFiMDA2ID0gTC5wb3B1cCh7Im1heFdpZHRoIjogIjEwMCUifSk7CgogICAgICAgIAogICAgICAgICAgICB2YXIgaHRtbF84YjU5ZThmMTk3MTM0MTI1ODA3ZmNmMTllMjEyYWUyNiA9ICQoYDxkaXYgaWQ9Imh0bWxfOGI1OWU4ZjE5NzEzNDEyNTgwN2ZjZjE5ZTIxMmFlMjYiIHN0eWxlPSJ3aWR0aDogMTAwLjAlOyBoZWlnaHQ6IDEwMC4wJTsiPkNlZGFyYnJhZTwvZGl2PmApWzBdOwogICAgICAgICAgICBwb3B1cF80NjFiMjg2NWFiNjA0YTBjYjJmOWJmN2E3MDQxYjAwNi5zZXRDb250ZW50KGh0bWxfOGI1OWU4ZjE5NzEzNDEyNTgwN2ZjZjE5ZTIxMmFlMjYpOwogICAgICAgIAoKICAgICAgICBjaXJjbGVfbWFya2VyX2EzOWQxMjM1ZDJmYjRlNmM5ZjlkMmUzMDEwZjhiY2JmLmJpbmRQb3B1cChwb3B1cF80NjFiMjg2NWFiNjA0YTBjYjJmOWJmN2E3MDQxYjAwNikKICAgICAgICA7CgogICAgICAgIAogICAgCiAgICAKICAgICAgICAgICAgdmFyIGNpcmNsZV9tYXJrZXJfYTk1ZWNlNzA5MmI3NDA4YzkxNmRlMTFkY2I5MWQwNGUgPSBMLmNpcmNsZU1hcmtlcigKICAgICAgICAgICAgICAgIFs0My43NDQ3MzQyLCAtNzkuMjM5NDc2MDk5OTk5OTldLAogICAgICAgICAgICAgICAgeyJidWJibGluZ01vdXNlRXZlbnRzIjogdHJ1ZSwgImNvbG9yIjogImJsdWUiLCAiZGFzaEFycmF5IjogbnVsbCwgImRhc2hPZmZzZXQiOiBudWxsLCAiZmlsbCI6IHRydWUsICJmaWxsQ29sb3IiOiAiIzMxODZjYyIsICJmaWxsT3BhY2l0eSI6IDAuNywgImZpbGxSdWxlIjogImV2ZW5vZGQiLCAibGluZUNhcCI6ICJyb3VuZCIsICJsaW5lSm9pbiI6ICJyb3VuZCIsICJvcGFjaXR5IjogMS4wLCAicmFkaXVzIjogNSwgInN0cm9rZSI6IHRydWUsICJ3ZWlnaHQiOiAzfQogICAgICAgICAgICApLmFkZFRvKG1hcF8xMTFjODcyMmQ4MzA0OTQzYjhhMDFmMTRjMzRlMWYwMyk7CiAgICAgICAgCiAgICAKICAgICAgICB2YXIgcG9wdXBfZmJmZGY4YjIzNDRkNDY4MGJhN2Y5NzA2ZGRhZWY0OWQgPSBMLnBvcHVwKHsibWF4V2lkdGgiOiAiMTAwJSJ9KTsKCiAgICAgICAgCiAgICAgICAgICAgIHZhciBodG1sXzJkYzc1MjIxM2FiMjQ0YjVhMzJiMjcyYjUxMTgzOGNmID0gJChgPGRpdiBpZD0iaHRtbF8yZGM3NTIyMTNhYjI0NGI1YTMyYjI3MmI1MTE4MzhjZiIgc3R5bGU9IndpZHRoOiAxMDAuMCU7IGhlaWdodDogMTAwLjAlOyI+U2NhcmJvcm91Z2ggVmlsbGFnZTwvZGl2PmApWzBdOwogICAgICAgICAgICBwb3B1cF9mYmZkZjhiMjM0NGQ0NjgwYmE3Zjk3MDZkZGFlZjQ5ZC5zZXRDb250ZW50KGh0bWxfMmRjNzUyMjEzYWIyNDRiNWEzMmIyNzJiNTExODM4Y2YpOwogICAgICAgIAoKICAgICAgICBjaXJjbGVfbWFya2VyX2E5NWVjZTcwOTJiNzQwOGM5MTZkZTExZGNiOTFkMDRlLmJpbmRQb3B1cChwb3B1cF9mYmZkZjhiMjM0NGQ0NjgwYmE3Zjk3MDZkZGFlZjQ5ZCkKICAgICAgICA7CgogICAgICAgIAogICAgCiAgICAKICAgICAgICAgICAgdmFyIGNpcmNsZV9tYXJrZXJfNmE5NWRhNDBjMzIzNDkwYWE3MjFiYTg4YTQ3NDUyN2YgPSBMLmNpcmNsZU1hcmtlcigKICAgICAgICAgICAgICAgIFs0My43Mjc5MjkyLCAtNzkuMjYyMDI5NDAwMDAwMDJdLAogICAgICAgICAgICAgICAgeyJidWJibGluZ01vdXNlRXZlbnRzIjogdHJ1ZSwgImNvbG9yIjogImJsdWUiLCAiZGFzaEFycmF5IjogbnVsbCwgImRhc2hPZmZzZXQiOiBudWxsLCAiZmlsbCI6IHRydWUsICJmaWxsQ29sb3IiOiAiIzMxODZjYyIsICJmaWxsT3BhY2l0eSI6IDAuNywgImZpbGxSdWxlIjogImV2ZW5vZGQiLCAibGluZUNhcCI6ICJyb3VuZCIsICJsaW5lSm9pbiI6ICJyb3VuZCIsICJvcGFjaXR5IjogMS4wLCAicmFkaXVzIjogNSwgInN0cm9rZSI6IHRydWUsICJ3ZWlnaHQiOiAzfQogICAgICAgICAgICApLmFkZFRvKG1hcF8xMTFjODcyMmQ4MzA0OTQzYjhhMDFmMTRjMzRlMWYwMyk7CiAgICAgICAgCiAgICAKICAgICAgICB2YXIgcG9wdXBfZTRjNmM3ZGUxMTI5NDdmMTlhM2UzN2UxZjE2ODA5ZjYgPSBMLnBvcHVwKHsibWF4V2lkdGgiOiAiMTAwJSJ9KTsKCiAgICAgICAgCiAgICAgICAgICAgIHZhciBodG1sX2U3YjEzMmRlODU4NTRmM2FiMTllODI1NDU0NGYwYjEyID0gJChgPGRpdiBpZD0iaHRtbF9lN2IxMzJkZTg1ODU0ZjNhYjE5ZTgyNTQ1NDRmMGIxMiIgc3R5bGU9IndpZHRoOiAxMDAuMCU7IGhlaWdodDogMTAwLjAlOyI+RWFzdCBCaXJjaG1vdW50IFBhcmssIElvbnZpZXcsIEtlbm5lZHkgUGFyazwvZGl2PmApWzBdOwogICAgICAgICAgICBwb3B1cF9lNGM2YzdkZTExMjk0N2YxOWEzZTM3ZTFmMTY4MDlmNi5zZXRDb250ZW50KGh0bWxfZTdiMTMyZGU4NTg1NGYzYWIxOWU4MjU0NTQ0ZjBiMTIpOwogICAgICAgIAoKICAgICAgICBjaXJjbGVfbWFya2VyXzZhOTVkYTQwYzMyMzQ5MGFhNzIxYmE4OGE0NzQ1MjdmLmJpbmRQb3B1cChwb3B1cF9lNGM2YzdkZTExMjk0N2YxOWEzZTM3ZTFmMTY4MDlmNikKICAgICAgICA7CgogICAgICAgIAogICAgCiAgICAKICAgICAgICAgICAgdmFyIGNpcmNsZV9tYXJrZXJfODQwZDdjMTIxYTc3NDFkMGEzNjE4ZWQ3ZmIwZWQ5MzYgPSBMLmNpcmNsZU1hcmtlcigKICAgICAgICAgICAgICAgIFs0My43MTExMTE3MDAwMDAwMDQsIC03OS4yODQ1NzcyXSwKICAgICAgICAgICAgICAgIHsiYnViYmxpbmdNb3VzZUV2ZW50cyI6IHRydWUsICJjb2xvciI6ICJibHVlIiwgImRhc2hBcnJheSI6IG51bGwsICJkYXNoT2Zmc2V0IjogbnVsbCwgImZpbGwiOiB0cnVlLCAiZmlsbENvbG9yIjogIiMzMTg2Y2MiLCAiZmlsbE9wYWNpdHkiOiAwLjcsICJmaWxsUnVsZSI6ICJldmVub2RkIiwgImxpbmVDYXAiOiAicm91bmQiLCAibGluZUpvaW4iOiAicm91bmQiLCAib3BhY2l0eSI6IDEuMCwgInJhZGl1cyI6IDUsICJzdHJva2UiOiB0cnVlLCAid2VpZ2h0IjogM30KICAgICAgICAgICAgKS5hZGRUbyhtYXBfMTExYzg3MjJkODMwNDk0M2I4YTAxZjE0YzM0ZTFmMDMpOwogICAgICAgIAogICAgCiAgICAgICAgdmFyIHBvcHVwXzYwMTI1NWM4NDNmYzRiZGNhMWI0MDE1ZmNmMDE4MmY4ID0gTC5wb3B1cCh7Im1heFdpZHRoIjogIjEwMCUifSk7CgogICAgICAgIAogICAgICAgICAgICB2YXIgaHRtbF81MzBkZGIwYzdiNGU0MTM5ODgzOGVkY2UxNmYzZWUyMCA9ICQoYDxkaXYgaWQ9Imh0bWxfNTMwZGRiMGM3YjRlNDEzOTg4MzhlZGNlMTZmM2VlMjAiIHN0eWxlPSJ3aWR0aDogMTAwLjAlOyBoZWlnaHQ6IDEwMC4wJTsiPkNsYWlybGVhLCBHb2xkZW4gTWlsZSwgT2FrcmlkZ2U8L2Rpdj5gKVswXTsKICAgICAgICAgICAgcG9wdXBfNjAxMjU1Yzg0M2ZjNGJkY2ExYjQwMTVmY2YwMTgyZjguc2V0Q29udGVudChodG1sXzUzMGRkYjBjN2I0ZTQxMzk4ODM4ZWRjZTE2ZjNlZTIwKTsKICAgICAgICAKCiAgICAgICAgY2lyY2xlX21hcmtlcl84NDBkN2MxMjFhNzc0MWQwYTM2MThlZDdmYjBlZDkzNi5iaW5kUG9wdXAocG9wdXBfNjAxMjU1Yzg0M2ZjNGJkY2ExYjQwMTVmY2YwMTgyZjgpCiAgICAgICAgOwoKICAgICAgICAKICAgIAogICAgCiAgICAgICAgICAgIHZhciBjaXJjbGVfbWFya2VyX2I5Y2E0MWY3NTMxZjQ1MjNhMDhkMmYwZmVmN2VjNTA2ID0gTC5jaXJjbGVNYXJrZXIoCiAgICAgICAgICAgICAgICBbNDMuNzE2MzE2LCAtNzkuMjM5NDc2MDk5OTk5OTldLAogICAgICAgICAgICAgICAgeyJidWJibGluZ01vdXNlRXZlbnRzIjogdHJ1ZSwgImNvbG9yIjogImJsdWUiLCAiZGFzaEFycmF5IjogbnVsbCwgImRhc2hPZmZzZXQiOiBudWxsLCAiZmlsbCI6IHRydWUsICJmaWxsQ29sb3IiOiAiIzMxODZjYyIsICJmaWxsT3BhY2l0eSI6IDAuNywgImZpbGxSdWxlIjogImV2ZW5vZGQiLCAibGluZUNhcCI6ICJyb3VuZCIsICJsaW5lSm9pbiI6ICJyb3VuZCIsICJvcGFjaXR5IjogMS4wLCAicmFkaXVzIjogNSwgInN0cm9rZSI6IHRydWUsICJ3ZWlnaHQiOiAzfQogICAgICAgICAgICApLmFkZFRvKG1hcF8xMTFjODcyMmQ4MzA0OTQzYjhhMDFmMTRjMzRlMWYwMyk7CiAgICAgICAgCiAgICAKICAgICAgICB2YXIgcG9wdXBfMTVmNjQ4ODVlMjJjNGUwYWJjZDg3ZjY1MDhhYzljZDMgPSBMLnBvcHVwKHsibWF4V2lkdGgiOiAiMTAwJSJ9KTsKCiAgICAgICAgCiAgICAgICAgICAgIHZhciBodG1sXzcwNDc1ZDFhM2RiNjQwOTU4NTQxMjIxMDA0YTc0YTY2ID0gJChgPGRpdiBpZD0iaHRtbF83MDQ3NWQxYTNkYjY0MDk1ODU0MTIyMTAwNGE3NGE2NiIgc3R5bGU9IndpZHRoOiAxMDAuMCU7IGhlaWdodDogMTAwLjAlOyI+Q2xpZmZjcmVzdCwgQ2xpZmZzaWRlLCBTY2FyYm9yb3VnaCBWaWxsYWdlIFdlc3Q8L2Rpdj5gKVswXTsKICAgICAgICAgICAgcG9wdXBfMTVmNjQ4ODVlMjJjNGUwYWJjZDg3ZjY1MDhhYzljZDMuc2V0Q29udGVudChodG1sXzcwNDc1ZDFhM2RiNjQwOTU4NTQxMjIxMDA0YTc0YTY2KTsKICAgICAgICAKCiAgICAgICAgY2lyY2xlX21hcmtlcl9iOWNhNDFmNzUzMWY0NTIzYTA4ZDJmMGZlZjdlYzUwNi5iaW5kUG9wdXAocG9wdXBfMTVmNjQ4ODVlMjJjNGUwYWJjZDg3ZjY1MDhhYzljZDMpCiAgICAgICAgOwoKICAgICAgICAKICAgIAogICAgCiAgICAgICAgICAgIHZhciBjaXJjbGVfbWFya2VyXzMzN2I0YTBiMjhjNTRmZDQ4ODI5NmI3M2M5OWQzMjEzID0gTC5jaXJjbGVNYXJrZXIoCiAgICAgICAgICAgICAgICBbNDMuNjkyNjU3MDAwMDAwMDA0LCAtNzkuMjY0ODQ4MV0sCiAgICAgICAgICAgICAgICB7ImJ1YmJsaW5nTW91c2VFdmVudHMiOiB0cnVlLCAiY29sb3IiOiAiYmx1ZSIsICJkYXNoQXJyYXkiOiBudWxsLCAiZGFzaE9mZnNldCI6IG51bGwsICJmaWxsIjogdHJ1ZSwgImZpbGxDb2xvciI6ICIjMzE4NmNjIiwgImZpbGxPcGFjaXR5IjogMC43LCAiZmlsbFJ1bGUiOiAiZXZlbm9kZCIsICJsaW5lQ2FwIjogInJvdW5kIiwgImxpbmVKb2luIjogInJvdW5kIiwgIm9wYWNpdHkiOiAxLjAsICJyYWRpdXMiOiA1LCAic3Ryb2tlIjogdHJ1ZSwgIndlaWdodCI6IDN9CiAgICAgICAgICAgICkuYWRkVG8obWFwXzExMWM4NzIyZDgzMDQ5NDNiOGEwMWYxNGMzNGUxZjAzKTsKICAgICAgICAKICAgIAogICAgICAgIHZhciBwb3B1cF8wZTNiZGFlNmQ5MDc0YTlkOGE2NmRhNzkxNmQwNzU4NSA9IEwucG9wdXAoeyJtYXhXaWR0aCI6ICIxMDAlIn0pOwoKICAgICAgICAKICAgICAgICAgICAgdmFyIGh0bWxfMDJlMjAxZDZiYzVmNDUwZmI1ZGRlMzM2YWIwMjY0NWIgPSAkKGA8ZGl2IGlkPSJodG1sXzAyZTIwMWQ2YmM1ZjQ1MGZiNWRkZTMzNmFiMDI2NDViIiBzdHlsZT0id2lkdGg6IDEwMC4wJTsgaGVpZ2h0OiAxMDAuMCU7Ij5CaXJjaCBDbGlmZiwgQ2xpZmZzaWRlIFdlc3Q8L2Rpdj5gKVswXTsKICAgICAgICAgICAgcG9wdXBfMGUzYmRhZTZkOTA3NGE5ZDhhNjZkYTc5MTZkMDc1ODUuc2V0Q29udGVudChodG1sXzAyZTIwMWQ2YmM1ZjQ1MGZiNWRkZTMzNmFiMDI2NDViKTsKICAgICAgICAKCiAgICAgICAgY2lyY2xlX21hcmtlcl8zMzdiNGEwYjI4YzU0ZmQ0ODgyOTZiNzNjOTlkMzIxMy5iaW5kUG9wdXAocG9wdXBfMGUzYmRhZTZkOTA3NGE5ZDhhNjZkYTc5MTZkMDc1ODUpCiAgICAgICAgOwoKICAgICAgICAKICAgIAogICAgCiAgICAgICAgICAgIHZhciBjaXJjbGVfbWFya2VyX2E0OWVmMDcxOTJjODQ4ZDY4OTI5YmFiYWZkMGViMTJmID0gTC5jaXJjbGVNYXJrZXIoCiAgICAgICAgICAgICAgICBbNDMuNzU3NDA5NiwgLTc5LjI3MzMwNDAwMDAwMDAxXSwKICAgICAgICAgICAgICAgIHsiYnViYmxpbmdNb3VzZUV2ZW50cyI6IHRydWUsICJjb2xvciI6ICJibHVlIiwgImRhc2hBcnJheSI6IG51bGwsICJkYXNoT2Zmc2V0IjogbnVsbCwgImZpbGwiOiB0cnVlLCAiZmlsbENvbG9yIjogIiMzMTg2Y2MiLCAiZmlsbE9wYWNpdHkiOiAwLjcsICJmaWxsUnVsZSI6ICJldmVub2RkIiwgImxpbmVDYXAiOiAicm91bmQiLCAibGluZUpvaW4iOiAicm91bmQiLCAib3BhY2l0eSI6IDEuMCwgInJhZGl1cyI6IDUsICJzdHJva2UiOiB0cnVlLCAid2VpZ2h0IjogM30KICAgICAgICAgICAgKS5hZGRUbyhtYXBfMTExYzg3MjJkODMwNDk0M2I4YTAxZjE0YzM0ZTFmMDMpOwogICAgICAgIAogICAgCiAgICAgICAgdmFyIHBvcHVwXzJhOGQzN2Y2MTUzZDQ3ODI5ZjRhN2MyMDc5YTNlMmU1ID0gTC5wb3B1cCh7Im1heFdpZHRoIjogIjEwMCUifSk7CgogICAgICAgIAogICAgICAgICAgICB2YXIgaHRtbF9iNjk3MjBkNTBhYjc0M2Q3OWUzMzhhYWIyZjgzMDg5ZCA9ICQoYDxkaXYgaWQ9Imh0bWxfYjY5NzIwZDUwYWI3NDNkNzllMzM4YWFiMmY4MzA4OWQiIHN0eWxlPSJ3aWR0aDogMTAwLjAlOyBoZWlnaHQ6IDEwMC4wJTsiPkRvcnNldCBQYXJrLCBTY2FyYm9yb3VnaCBUb3duIENlbnRyZSwgV2V4Zm9yZCBIZWlnaHRzPC9kaXY+YClbMF07CiAgICAgICAgICAgIHBvcHVwXzJhOGQzN2Y2MTUzZDQ3ODI5ZjRhN2MyMDc5YTNlMmU1LnNldENvbnRlbnQoaHRtbF9iNjk3MjBkNTBhYjc0M2Q3OWUzMzhhYWIyZjgzMDg5ZCk7CiAgICAgICAgCgogICAgICAgIGNpcmNsZV9tYXJrZXJfYTQ5ZWYwNzE5MmM4NDhkNjg5MjliYWJhZmQwZWIxMmYuYmluZFBvcHVwKHBvcHVwXzJhOGQzN2Y2MTUzZDQ3ODI5ZjRhN2MyMDc5YTNlMmU1KQogICAgICAgIDsKCiAgICAgICAgCiAgICAKICAgIAogICAgICAgICAgICB2YXIgY2lyY2xlX21hcmtlcl8yOWJjOGM0OThjNDY0YWEyOTVkNTg2OGZmNmQ4YjFjOSA9IEwuY2lyY2xlTWFya2VyKAogICAgICAgICAgICAgICAgWzQzLjc1MDA3MTUwMDAwMDAwNCwgLTc5LjI5NTg0OTFdLAogICAgICAgICAgICAgICAgeyJidWJibGluZ01vdXNlRXZlbnRzIjogdHJ1ZSwgImNvbG9yIjogImJsdWUiLCAiZGFzaEFycmF5IjogbnVsbCwgImRhc2hPZmZzZXQiOiBudWxsLCAiZmlsbCI6IHRydWUsICJmaWxsQ29sb3IiOiAiIzMxODZjYyIsICJmaWxsT3BhY2l0eSI6IDAuNywgImZpbGxSdWxlIjogImV2ZW5vZGQiLCAibGluZUNhcCI6ICJyb3VuZCIsICJsaW5lSm9pbiI6ICJyb3VuZCIsICJvcGFjaXR5IjogMS4wLCAicmFkaXVzIjogNSwgInN0cm9rZSI6IHRydWUsICJ3ZWlnaHQiOiAzfQogICAgICAgICAgICApLmFkZFRvKG1hcF8xMTFjODcyMmQ4MzA0OTQzYjhhMDFmMTRjMzRlMWYwMyk7CiAgICAgICAgCiAgICAKICAgICAgICB2YXIgcG9wdXBfYmI4NDE5YTg2ZTk1NDM0ODlmM2YzNGVmZDQ4ZTA1NjcgPSBMLnBvcHVwKHsibWF4V2lkdGgiOiAiMTAwJSJ9KTsKCiAgICAgICAgCiAgICAgICAgICAgIHZhciBodG1sX2Q3M2U1ZDk3MGFkNTQyOGY4MzViMjRlMGZjYjU4YmE3ID0gJChgPGRpdiBpZD0iaHRtbF9kNzNlNWQ5NzBhZDU0MjhmODM1YjI0ZTBmY2I1OGJhNyIgc3R5bGU9IndpZHRoOiAxMDAuMCU7IGhlaWdodDogMTAwLjAlOyI+TWFyeXZhbGUsIFdleGZvcmQ8L2Rpdj5gKVswXTsKICAgICAgICAgICAgcG9wdXBfYmI4NDE5YTg2ZTk1NDM0ODlmM2YzNGVmZDQ4ZTA1Njcuc2V0Q29udGVudChodG1sX2Q3M2U1ZDk3MGFkNTQyOGY4MzViMjRlMGZjYjU4YmE3KTsKICAgICAgICAKCiAgICAgICAgY2lyY2xlX21hcmtlcl8yOWJjOGM0OThjNDY0YWEyOTVkNTg2OGZmNmQ4YjFjOS5iaW5kUG9wdXAocG9wdXBfYmI4NDE5YTg2ZTk1NDM0ODlmM2YzNGVmZDQ4ZTA1NjcpCiAgICAgICAgOwoKICAgICAgICAKICAgIAogICAgCiAgICAgICAgICAgIHZhciBjaXJjbGVfbWFya2VyX2E0MWEyMzVhOTI4NTQ5NzI4ZmFmNDdlM2JjZTBiNDcyID0gTC5jaXJjbGVNYXJrZXIoCiAgICAgICAgICAgICAgICBbNDMuNzk0MjAwMywgLTc5LjI2MjAyOTQwMDAwMDAyXSwKICAgICAgICAgICAgICAgIHsiYnViYmxpbmdNb3VzZUV2ZW50cyI6IHRydWUsICJjb2xvciI6ICJibHVlIiwgImRhc2hBcnJheSI6IG51bGwsICJkYXNoT2Zmc2V0IjogbnVsbCwgImZpbGwiOiB0cnVlLCAiZmlsbENvbG9yIjogIiMzMTg2Y2MiLCAiZmlsbE9wYWNpdHkiOiAwLjcsICJmaWxsUnVsZSI6ICJldmVub2RkIiwgImxpbmVDYXAiOiAicm91bmQiLCAibGluZUpvaW4iOiAicm91bmQiLCAib3BhY2l0eSI6IDEuMCwgInJhZGl1cyI6IDUsICJzdHJva2UiOiB0cnVlLCAid2VpZ2h0IjogM30KICAgICAgICAgICAgKS5hZGRUbyhtYXBfMTExYzg3MjJkODMwNDk0M2I4YTAxZjE0YzM0ZTFmMDMpOwogICAgICAgIAogICAgCiAgICAgICAgdmFyIHBvcHVwX2I3ZTY1OTU5NGVmNTRjMjY5YWE1Njg2NTQ1YjEwNWMwID0gTC5wb3B1cCh7Im1heFdpZHRoIjogIjEwMCUifSk7CgogICAgICAgIAogICAgICAgICAgICB2YXIgaHRtbF8xODY0NGU3ZThhZjE0Nzk5YWYwOGJmZDE5MDQ3ZTk1ZCA9ICQoYDxkaXYgaWQ9Imh0bWxfMTg2NDRlN2U4YWYxNDc5OWFmMDhiZmQxOTA0N2U5NWQiIHN0eWxlPSJ3aWR0aDogMTAwLjAlOyBoZWlnaHQ6IDEwMC4wJTsiPkFnaW5jb3VydDwvZGl2PmApWzBdOwogICAgICAgICAgICBwb3B1cF9iN2U2NTk1OTRlZjU0YzI2OWFhNTY4NjU0NWIxMDVjMC5zZXRDb250ZW50KGh0bWxfMTg2NDRlN2U4YWYxNDc5OWFmMDhiZmQxOTA0N2U5NWQpOwogICAgICAgIAoKICAgICAgICBjaXJjbGVfbWFya2VyX2E0MWEyMzVhOTI4NTQ5NzI4ZmFmNDdlM2JjZTBiNDcyLmJpbmRQb3B1cChwb3B1cF9iN2U2NTk1OTRlZjU0YzI2OWFhNTY4NjU0NWIxMDVjMCkKICAgICAgICA7CgogICAgICAgIAogICAgCiAgICAKICAgICAgICAgICAgdmFyIGNpcmNsZV9tYXJrZXJfZWU2NjQ0YmNjMTUzNGI3MDk4MGZmMDMzYzZlMjdmNDQgPSBMLmNpcmNsZU1hcmtlcigKICAgICAgICAgICAgICAgIFs0My43ODE2Mzc1LCAtNzkuMzA0MzAyMV0sCiAgICAgICAgICAgICAgICB7ImJ1YmJsaW5nTW91c2VFdmVudHMiOiB0cnVlLCAiY29sb3IiOiAiYmx1ZSIsICJkYXNoQXJyYXkiOiBudWxsLCAiZGFzaE9mZnNldCI6IG51bGwsICJmaWxsIjogdHJ1ZSwgImZpbGxDb2xvciI6ICIjMzE4NmNjIiwgImZpbGxPcGFjaXR5IjogMC43LCAiZmlsbFJ1bGUiOiAiZXZlbm9kZCIsICJsaW5lQ2FwIjogInJvdW5kIiwgImxpbmVKb2luIjogInJvdW5kIiwgIm9wYWNpdHkiOiAxLjAsICJyYWRpdXMiOiA1LCAic3Ryb2tlIjogdHJ1ZSwgIndlaWdodCI6IDN9CiAgICAgICAgICAgICkuYWRkVG8obWFwXzExMWM4NzIyZDgzMDQ5NDNiOGEwMWYxNGMzNGUxZjAzKTsKICAgICAgICAKICAgIAogICAgICAgIHZhciBwb3B1cF9lNDRjZDQ4MTlmNzA0MjU1OTRjMDc3NWYxNjQwOTcyMiA9IEwucG9wdXAoeyJtYXhXaWR0aCI6ICIxMDAlIn0pOwoKICAgICAgICAKICAgICAgICAgICAgdmFyIGh0bWxfYTIwNjNkNGQzYmYzNDE0NzgyODJkNzIwODIyM2Q5NDMgPSAkKGA8ZGl2IGlkPSJodG1sX2EyMDYzZDRkM2JmMzQxNDc4MjgyZDcyMDgyMjNkOTQzIiBzdHlsZT0id2lkdGg6IDEwMC4wJTsgaGVpZ2h0OiAxMDAuMCU7Ij5DbGFya3MgQ29ybmVycywgU3VsbGl2YW4sIFRhbSBPJiMzOTtTaGFudGVyPC9kaXY+YClbMF07CiAgICAgICAgICAgIHBvcHVwX2U0NGNkNDgxOWY3MDQyNTU5NGMwNzc1ZjE2NDA5NzIyLnNldENvbnRlbnQoaHRtbF9hMjA2M2Q0ZDNiZjM0MTQ3ODI4MmQ3MjA4MjIzZDk0Myk7CiAgICAgICAgCgogICAgICAgIGNpcmNsZV9tYXJrZXJfZWU2NjQ0YmNjMTUzNGI3MDk4MGZmMDMzYzZlMjdmNDQuYmluZFBvcHVwKHBvcHVwX2U0NGNkNDgxOWY3MDQyNTU5NGMwNzc1ZjE2NDA5NzIyKQogICAgICAgIDsKCiAgICAgICAgCiAgICAKICAgIAogICAgICAgICAgICB2YXIgY2lyY2xlX21hcmtlcl82OTE0YjI0NThmYmM0ZDRkODJhNTcyNWJiMjFmNDdjMiA9IEwuY2lyY2xlTWFya2VyKAogICAgICAgICAgICAgICAgWzQzLjgxNTI1MjIsIC03OS4yODQ1NzcyXSwKICAgICAgICAgICAgICAgIHsiYnViYmxpbmdNb3VzZUV2ZW50cyI6IHRydWUsICJjb2xvciI6ICJibHVlIiwgImRhc2hBcnJheSI6IG51bGwsICJkYXNoT2Zmc2V0IjogbnVsbCwgImZpbGwiOiB0cnVlLCAiZmlsbENvbG9yIjogIiMzMTg2Y2MiLCAiZmlsbE9wYWNpdHkiOiAwLjcsICJmaWxsUnVsZSI6ICJldmVub2RkIiwgImxpbmVDYXAiOiAicm91bmQiLCAibGluZUpvaW4iOiAicm91bmQiLCAib3BhY2l0eSI6IDEuMCwgInJhZGl1cyI6IDUsICJzdHJva2UiOiB0cnVlLCAid2VpZ2h0IjogM30KICAgICAgICAgICAgKS5hZGRUbyhtYXBfMTExYzg3MjJkODMwNDk0M2I4YTAxZjE0YzM0ZTFmMDMpOwogICAgICAgIAogICAgCiAgICAgICAgdmFyIHBvcHVwXzgzMjJkMDkzOWE4OTQxYTNiOTkzMDYzYjYzMzBhN2VlID0gTC5wb3B1cCh7Im1heFdpZHRoIjogIjEwMCUifSk7CgogICAgICAgIAogICAgICAgICAgICB2YXIgaHRtbF8yNDA1Mzk2MTUwNDM0ZGY0YjlkYzA2OWM4YmE5MzgyNSA9ICQoYDxkaXYgaWQ9Imh0bWxfMjQwNTM5NjE1MDQzNGRmNGI5ZGMwNjljOGJhOTM4MjUiIHN0eWxlPSJ3aWR0aDogMTAwLjAlOyBoZWlnaHQ6IDEwMC4wJTsiPkFnaW5jb3VydCBOb3J0aCwgTCYjMzk7QW1vcmVhdXggRWFzdCwgTWlsbGlrZW4sIFN0ZWVsZXMgRWFzdDwvZGl2PmApWzBdOwogICAgICAgICAgICBwb3B1cF84MzIyZDA5MzlhODk0MWEzYjk5MzA2M2I2MzMwYTdlZS5zZXRDb250ZW50KGh0bWxfMjQwNTM5NjE1MDQzNGRmNGI5ZGMwNjljOGJhOTM4MjUpOwogICAgICAgIAoKICAgICAgICBjaXJjbGVfbWFya2VyXzY5MTRiMjQ1OGZiYzRkNGQ4MmE1NzI1YmIyMWY0N2MyLmJpbmRQb3B1cChwb3B1cF84MzIyZDA5MzlhODk0MWEzYjk5MzA2M2I2MzMwYTdlZSkKICAgICAgICA7CgogICAgICAgIAogICAgCiAgICAKICAgICAgICAgICAgdmFyIGNpcmNsZV9tYXJrZXJfM2EzZWY5NDk4ZWViNGQyYWJlYjIzZDBiOWVhN2Q3NzIgPSBMLmNpcmNsZU1hcmtlcigKICAgICAgICAgICAgICAgIFs0My43OTk1MjUyMDAwMDAwMDUsIC03OS4zMTgzODg3XSwKICAgICAgICAgICAgICAgIHsiYnViYmxpbmdNb3VzZUV2ZW50cyI6IHRydWUsICJjb2xvciI6ICJibHVlIiwgImRhc2hBcnJheSI6IG51bGwsICJkYXNoT2Zmc2V0IjogbnVsbCwgImZpbGwiOiB0cnVlLCAiZmlsbENvbG9yIjogIiMzMTg2Y2MiLCAiZmlsbE9wYWNpdHkiOiAwLjcsICJmaWxsUnVsZSI6ICJldmVub2RkIiwgImxpbmVDYXAiOiAicm91bmQiLCAibGluZUpvaW4iOiAicm91bmQiLCAib3BhY2l0eSI6IDEuMCwgInJhZGl1cyI6IDUsICJzdHJva2UiOiB0cnVlLCAid2VpZ2h0IjogM30KICAgICAgICAgICAgKS5hZGRUbyhtYXBfMTExYzg3MjJkODMwNDk0M2I4YTAxZjE0YzM0ZTFmMDMpOwogICAgICAgIAogICAgCiAgICAgICAgdmFyIHBvcHVwXzcwN2ZjZGYwYThiNTQ3ZmRhZjExZDFkMDJkYTNhMzFlID0gTC5wb3B1cCh7Im1heFdpZHRoIjogIjEwMCUifSk7CgogICAgICAgIAogICAgICAgICAgICB2YXIgaHRtbF9kNTczMTcxNzAwMGI0YTI0YmQzZmZjYWI2NTgwMjljNSA9ICQoYDxkaXYgaWQ9Imh0bWxfZDU3MzE3MTcwMDBiNGEyNGJkM2ZmY2FiNjU4MDI5YzUiIHN0eWxlPSJ3aWR0aDogMTAwLjAlOyBoZWlnaHQ6IDEwMC4wJTsiPkwmIzM5O0Ftb3JlYXV4IFdlc3Q8L2Rpdj5gKVswXTsKICAgICAgICAgICAgcG9wdXBfNzA3ZmNkZjBhOGI1NDdmZGFmMTFkMWQwMmRhM2EzMWUuc2V0Q29udGVudChodG1sX2Q1NzMxNzE3MDAwYjRhMjRiZDNmZmNhYjY1ODAyOWM1KTsKICAgICAgICAKCiAgICAgICAgY2lyY2xlX21hcmtlcl8zYTNlZjk0OThlZWI0ZDJhYmViMjNkMGI5ZWE3ZDc3Mi5iaW5kUG9wdXAocG9wdXBfNzA3ZmNkZjBhOGI1NDdmZGFmMTFkMWQwMmRhM2EzMWUpCiAgICAgICAgOwoKICAgICAgICAKICAgIAogICAgCiAgICAgICAgICAgIHZhciBjaXJjbGVfbWFya2VyXzhiNjE0NmRlZTYyZTQ5NDZiZDY2ZTQyYTM0NDE1OTkxID0gTC5jaXJjbGVNYXJrZXIoCiAgICAgICAgICAgICAgICBbNDMuODM2MTI0NzAwMDAwMDA2LCAtNzkuMjA1NjM2MDk5OTk5OTldLAogICAgICAgICAgICAgICAgeyJidWJibGluZ01vdXNlRXZlbnRzIjogdHJ1ZSwgImNvbG9yIjogImJsdWUiLCAiZGFzaEFycmF5IjogbnVsbCwgImRhc2hPZmZzZXQiOiBudWxsLCAiZmlsbCI6IHRydWUsICJmaWxsQ29sb3IiOiAiIzMxODZjYyIsICJmaWxsT3BhY2l0eSI6IDAuNywgImZpbGxSdWxlIjogImV2ZW5vZGQiLCAibGluZUNhcCI6ICJyb3VuZCIsICJsaW5lSm9pbiI6ICJyb3VuZCIsICJvcGFjaXR5IjogMS4wLCAicmFkaXVzIjogNSwgInN0cm9rZSI6IHRydWUsICJ3ZWlnaHQiOiAzfQogICAgICAgICAgICApLmFkZFRvKG1hcF8xMTFjODcyMmQ4MzA0OTQzYjhhMDFmMTRjMzRlMWYwMyk7CiAgICAgICAgCiAgICAKICAgICAgICB2YXIgcG9wdXBfYWNiYjJlMjQwMmRiNGE0OGIxODZjYTI3YmZiODRiZmYgPSBMLnBvcHVwKHsibWF4V2lkdGgiOiAiMTAwJSJ9KTsKCiAgICAgICAgCiAgICAgICAgICAgIHZhciBodG1sX2Y4NDBiOGQwZmRkNjRkNTQ4MDUwNDExODk5NjE5ZmRmID0gJChgPGRpdiBpZD0iaHRtbF9mODQwYjhkMGZkZDY0ZDU0ODA1MDQxMTg5OTYxOWZkZiIgc3R5bGU9IndpZHRoOiAxMDAuMCU7IGhlaWdodDogMTAwLjAlOyI+VXBwZXIgUm91Z2U8L2Rpdj5gKVswXTsKICAgICAgICAgICAgcG9wdXBfYWNiYjJlMjQwMmRiNGE0OGIxODZjYTI3YmZiODRiZmYuc2V0Q29udGVudChodG1sX2Y4NDBiOGQwZmRkNjRkNTQ4MDUwNDExODk5NjE5ZmRmKTsKICAgICAgICAKCiAgICAgICAgY2lyY2xlX21hcmtlcl84YjYxNDZkZWU2MmU0OTQ2YmQ2NmU0MmEzNDQxNTk5MS5iaW5kUG9wdXAocG9wdXBfYWNiYjJlMjQwMmRiNGE0OGIxODZjYTI3YmZiODRiZmYpCiAgICAgICAgOwoKICAgICAgICAKICAgIAogICAgCiAgICAgICAgICAgIHZhciBjaXJjbGVfbWFya2VyXzZhOWVhMDMwNmFjNTRhYzA5NjA3NTY0NzkwZjdkYzg3ID0gTC5jaXJjbGVNYXJrZXIoCiAgICAgICAgICAgICAgICBbNDMuODAzNzYyMiwgLTc5LjM2MzQ1MTddLAogICAgICAgICAgICAgICAgeyJidWJibGluZ01vdXNlRXZlbnRzIjogdHJ1ZSwgImNvbG9yIjogImJsdWUiLCAiZGFzaEFycmF5IjogbnVsbCwgImRhc2hPZmZzZXQiOiBudWxsLCAiZmlsbCI6IHRydWUsICJmaWxsQ29sb3IiOiAiIzMxODZjYyIsICJmaWxsT3BhY2l0eSI6IDAuNywgImZpbGxSdWxlIjogImV2ZW5vZGQiLCAibGluZUNhcCI6ICJyb3VuZCIsICJsaW5lSm9pbiI6ICJyb3VuZCIsICJvcGFjaXR5IjogMS4wLCAicmFkaXVzIjogNSwgInN0cm9rZSI6IHRydWUsICJ3ZWlnaHQiOiAzfQogICAgICAgICAgICApLmFkZFRvKG1hcF8xMTFjODcyMmQ4MzA0OTQzYjhhMDFmMTRjMzRlMWYwMyk7CiAgICAgICAgCiAgICAKICAgICAgICB2YXIgcG9wdXBfMmRiNDg3OGI0OWRiNDUxZDlkYTIxNWIyOTkzNDhiYmMgPSBMLnBvcHVwKHsibWF4V2lkdGgiOiAiMTAwJSJ9KTsKCiAgICAgICAgCiAgICAgICAgICAgIHZhciBodG1sX2JlY2VkYTcxNmExNTQ2NDM5N2I0ZDJkMDlkMzExNDNjID0gJChgPGRpdiBpZD0iaHRtbF9iZWNlZGE3MTZhMTU0NjQzOTdiNGQyZDA5ZDMxMTQzYyIgc3R5bGU9IndpZHRoOiAxMDAuMCU7IGhlaWdodDogMTAwLjAlOyI+SGlsbGNyZXN0IFZpbGxhZ2U8L2Rpdj5gKVswXTsKICAgICAgICAgICAgcG9wdXBfMmRiNDg3OGI0OWRiNDUxZDlkYTIxNWIyOTkzNDhiYmMuc2V0Q29udGVudChodG1sX2JlY2VkYTcxNmExNTQ2NDM5N2I0ZDJkMDlkMzExNDNjKTsKICAgICAgICAKCiAgICAgICAgY2lyY2xlX21hcmtlcl82YTllYTAzMDZhYzU0YWMwOTYwNzU2NDc5MGY3ZGM4Ny5iaW5kUG9wdXAocG9wdXBfMmRiNDg3OGI0OWRiNDUxZDlkYTIxNWIyOTkzNDhiYmMpCiAgICAgICAgOwoKICAgICAgICAKICAgIAogICAgCiAgICAgICAgICAgIHZhciBjaXJjbGVfbWFya2VyXzRhYzFjNjY2MzlhNTQ3YjhiMmFkZmQ2NWQyNWJiN2JkID0gTC5jaXJjbGVNYXJrZXIoCiAgICAgICAgICAgICAgICBbNDMuNzc4NTE3NSwgLTc5LjM0NjU1NTddLAogICAgICAgICAgICAgICAgeyJidWJibGluZ01vdXNlRXZlbnRzIjogdHJ1ZSwgImNvbG9yIjogImJsdWUiLCAiZGFzaEFycmF5IjogbnVsbCwgImRhc2hPZmZzZXQiOiBudWxsLCAiZmlsbCI6IHRydWUsICJmaWxsQ29sb3IiOiAiIzMxODZjYyIsICJmaWxsT3BhY2l0eSI6IDAuNywgImZpbGxSdWxlIjogImV2ZW5vZGQiLCAibGluZUNhcCI6ICJyb3VuZCIsICJsaW5lSm9pbiI6ICJyb3VuZCIsICJvcGFjaXR5IjogMS4wLCAicmFkaXVzIjogNSwgInN0cm9rZSI6IHRydWUsICJ3ZWlnaHQiOiAzfQogICAgICAgICAgICApLmFkZFRvKG1hcF8xMTFjODcyMmQ4MzA0OTQzYjhhMDFmMTRjMzRlMWYwMyk7CiAgICAgICAgCiAgICAKICAgICAgICB2YXIgcG9wdXBfMTg4N2JlYTJmOGYwNGE1MzliYzU0M2M4MGFlNDFiNTYgPSBMLnBvcHVwKHsibWF4V2lkdGgiOiAiMTAwJSJ9KTsKCiAgICAgICAgCiAgICAgICAgICAgIHZhciBodG1sXzIxYTY5YjEwY2Y1YzQxYzNhODVkZjc3ZWM5MDc1NGU3ID0gJChgPGRpdiBpZD0iaHRtbF8yMWE2OWIxMGNmNWM0MWMzYTg1ZGY3N2VjOTA3NTRlNyIgc3R5bGU9IndpZHRoOiAxMDAuMCU7IGhlaWdodDogMTAwLjAlOyI+RmFpcnZpZXcsIEhlbnJ5IEZhcm0sIE9yaW9sZTwvZGl2PmApWzBdOwogICAgICAgICAgICBwb3B1cF8xODg3YmVhMmY4ZjA0YTUzOWJjNTQzYzgwYWU0MWI1Ni5zZXRDb250ZW50KGh0bWxfMjFhNjliMTBjZjVjNDFjM2E4NWRmNzdlYzkwNzU0ZTcpOwogICAgICAgIAoKICAgICAgICBjaXJjbGVfbWFya2VyXzRhYzFjNjY2MzlhNTQ3YjhiMmFkZmQ2NWQyNWJiN2JkLmJpbmRQb3B1cChwb3B1cF8xODg3YmVhMmY4ZjA0YTUzOWJjNTQzYzgwYWU0MWI1NikKICAgICAgICA7CgogICAgICAgIAogICAgCiAgICAKICAgICAgICAgICAgdmFyIGNpcmNsZV9tYXJrZXJfOGExZDUxYzk2ZDU2NDVhNjhkYzk4ODcxNTdiMWRkZjQgPSBMLmNpcmNsZU1hcmtlcigKICAgICAgICAgICAgICAgIFs0My43ODY5NDczLCAtNzkuMzg1OTc1XSwKICAgICAgICAgICAgICAgIHsiYnViYmxpbmdNb3VzZUV2ZW50cyI6IHRydWUsICJjb2xvciI6ICJibHVlIiwgImRhc2hBcnJheSI6IG51bGwsICJkYXNoT2Zmc2V0IjogbnVsbCwgImZpbGwiOiB0cnVlLCAiZmlsbENvbG9yIjogIiMzMTg2Y2MiLCAiZmlsbE9wYWNpdHkiOiAwLjcsICJmaWxsUnVsZSI6ICJldmVub2RkIiwgImxpbmVDYXAiOiAicm91bmQiLCAibGluZUpvaW4iOiAicm91bmQiLCAib3BhY2l0eSI6IDEuMCwgInJhZGl1cyI6IDUsICJzdHJva2UiOiB0cnVlLCAid2VpZ2h0IjogM30KICAgICAgICAgICAgKS5hZGRUbyhtYXBfMTExYzg3MjJkODMwNDk0M2I4YTAxZjE0YzM0ZTFmMDMpOwogICAgICAgIAogICAgCiAgICAgICAgdmFyIHBvcHVwX2IwMzM4NWQzNjYxOTQ3NTNiNDc2MTY1MDI4Mjg3YWQ0ID0gTC5wb3B1cCh7Im1heFdpZHRoIjogIjEwMCUifSk7CgogICAgICAgIAogICAgICAgICAgICB2YXIgaHRtbF85ZDE5YTljNzdhZTI0ZTU4YTM1ZWRiNzcwNjdhOWI3MSA9ICQoYDxkaXYgaWQ9Imh0bWxfOWQxOWE5Yzc3YWUyNGU1OGEzNWVkYjc3MDY3YTliNzEiIHN0eWxlPSJ3aWR0aDogMTAwLjAlOyBoZWlnaHQ6IDEwMC4wJTsiPkJheXZpZXcgVmlsbGFnZTwvZGl2PmApWzBdOwogICAgICAgICAgICBwb3B1cF9iMDMzODVkMzY2MTk0NzUzYjQ3NjE2NTAyODI4N2FkNC5zZXRDb250ZW50KGh0bWxfOWQxOWE5Yzc3YWUyNGU1OGEzNWVkYjc3MDY3YTliNzEpOwogICAgICAgIAoKICAgICAgICBjaXJjbGVfbWFya2VyXzhhMWQ1MWM5NmQ1NjQ1YTY4ZGM5ODg3MTU3YjFkZGY0LmJpbmRQb3B1cChwb3B1cF9iMDMzODVkMzY2MTk0NzUzYjQ3NjE2NTAyODI4N2FkNCkKICAgICAgICA7CgogICAgICAgIAogICAgCiAgICAKICAgICAgICAgICAgdmFyIGNpcmNsZV9tYXJrZXJfZjljNzhlMjdjNGQ3NDc2MmJkNWIyNTkzMGVjZjljYTMgPSBMLmNpcmNsZU1hcmtlcigKICAgICAgICAgICAgICAgIFs0My43NTc0OTAyLCAtNzkuMzc0NzE0MDk5OTk5OTldLAogICAgICAgICAgICAgICAgeyJidWJibGluZ01vdXNlRXZlbnRzIjogdHJ1ZSwgImNvbG9yIjogImJsdWUiLCAiZGFzaEFycmF5IjogbnVsbCwgImRhc2hPZmZzZXQiOiBudWxsLCAiZmlsbCI6IHRydWUsICJmaWxsQ29sb3IiOiAiIzMxODZjYyIsICJmaWxsT3BhY2l0eSI6IDAuNywgImZpbGxSdWxlIjogImV2ZW5vZGQiLCAibGluZUNhcCI6ICJyb3VuZCIsICJsaW5lSm9pbiI6ICJyb3VuZCIsICJvcGFjaXR5IjogMS4wLCAicmFkaXVzIjogNSwgInN0cm9rZSI6IHRydWUsICJ3ZWlnaHQiOiAzfQogICAgICAgICAgICApLmFkZFRvKG1hcF8xMTFjODcyMmQ4MzA0OTQzYjhhMDFmMTRjMzRlMWYwMyk7CiAgICAgICAgCiAgICAKICAgICAgICB2YXIgcG9wdXBfYzE3NzJiZjU0OTAyNGU1YTgzZjk0MGYzMTUzOTNiZTYgPSBMLnBvcHVwKHsibWF4V2lkdGgiOiAiMTAwJSJ9KTsKCiAgICAgICAgCiAgICAgICAgICAgIHZhciBodG1sXzFlN2ZjNTI3ZDZlNTQ0NjFiNzc3YTljNThjNDk2YTU3ID0gJChgPGRpdiBpZD0iaHRtbF8xZTdmYzUyN2Q2ZTU0NDYxYjc3N2E5YzU4YzQ5NmE1NyIgc3R5bGU9IndpZHRoOiAxMDAuMCU7IGhlaWdodDogMTAwLjAlOyI+U2lsdmVyIEhpbGxzLCBZb3JrIE1pbGxzPC9kaXY+YClbMF07CiAgICAgICAgICAgIHBvcHVwX2MxNzcyYmY1NDkwMjRlNWE4M2Y5NDBmMzE1MzkzYmU2LnNldENvbnRlbnQoaHRtbF8xZTdmYzUyN2Q2ZTU0NDYxYjc3N2E5YzU4YzQ5NmE1Nyk7CiAgICAgICAgCgogICAgICAgIGNpcmNsZV9tYXJrZXJfZjljNzhlMjdjNGQ3NDc2MmJkNWIyNTkzMGVjZjljYTMuYmluZFBvcHVwKHBvcHVwX2MxNzcyYmY1NDkwMjRlNWE4M2Y5NDBmMzE1MzkzYmU2KQogICAgICAgIDsKCiAgICAgICAgCiAgICAKICAgIAogICAgICAgICAgICB2YXIgY2lyY2xlX21hcmtlcl83OWRlMmViODhhYTQ0MjA3YjQyNmE5MjY0NmE1YjU2YiA9IEwuY2lyY2xlTWFya2VyKAogICAgICAgICAgICAgICAgWzQzLjc4OTA1MywgLTc5LjQwODQ5Mjc5OTk5OTk5XSwKICAgICAgICAgICAgICAgIHsiYnViYmxpbmdNb3VzZUV2ZW50cyI6IHRydWUsICJjb2xvciI6ICJibHVlIiwgImRhc2hBcnJheSI6IG51bGwsICJkYXNoT2Zmc2V0IjogbnVsbCwgImZpbGwiOiB0cnVlLCAiZmlsbENvbG9yIjogIiMzMTg2Y2MiLCAiZmlsbE9wYWNpdHkiOiAwLjcsICJmaWxsUnVsZSI6ICJldmVub2RkIiwgImxpbmVDYXAiOiAicm91bmQiLCAibGluZUpvaW4iOiAicm91bmQiLCAib3BhY2l0eSI6IDEuMCwgInJhZGl1cyI6IDUsICJzdHJva2UiOiB0cnVlLCAid2VpZ2h0IjogM30KICAgICAgICAgICAgKS5hZGRUbyhtYXBfMTExYzg3MjJkODMwNDk0M2I4YTAxZjE0YzM0ZTFmMDMpOwogICAgICAgIAogICAgCiAgICAgICAgdmFyIHBvcHVwX2M1ZDYyM2M1ZWE5ODQwMzNiNGYyMzZlZWMzYTgyN2ZhID0gTC5wb3B1cCh7Im1heFdpZHRoIjogIjEwMCUifSk7CgogICAgICAgIAogICAgICAgICAgICB2YXIgaHRtbF9lZTU0ODgyZjEyNzY0ZGJiOThhN2MxMTBiMjg1ODRhNiA9ICQoYDxkaXYgaWQ9Imh0bWxfZWU1NDg4MmYxMjc2NGRiYjk4YTdjMTEwYjI4NTg0YTYiIHN0eWxlPSJ3aWR0aDogMTAwLjAlOyBoZWlnaHQ6IDEwMC4wJTsiPk5ld3RvbmJyb29rLCBXaWxsb3dkYWxlPC9kaXY+YClbMF07CiAgICAgICAgICAgIHBvcHVwX2M1ZDYyM2M1ZWE5ODQwMzNiNGYyMzZlZWMzYTgyN2ZhLnNldENvbnRlbnQoaHRtbF9lZTU0ODgyZjEyNzY0ZGJiOThhN2MxMTBiMjg1ODRhNik7CiAgICAgICAgCgogICAgICAgIGNpcmNsZV9tYXJrZXJfNzlkZTJlYjg4YWE0NDIwN2I0MjZhOTI2NDZhNWI1NmIuYmluZFBvcHVwKHBvcHVwX2M1ZDYyM2M1ZWE5ODQwMzNiNGYyMzZlZWMzYTgyN2ZhKQogICAgICAgIDsKCiAgICAgICAgCiAgICAKICAgIAogICAgICAgICAgICB2YXIgY2lyY2xlX21hcmtlcl9kNjE1YmExOGIwM2I0ZTBjYWI2MzM2YTc2ZWZjMTE1MCA9IEwuY2lyY2xlTWFya2VyKAogICAgICAgICAgICAgICAgWzQzLjc3MDExOTksIC03OS40MDg0OTI3OTk5OTk5OV0sCiAgICAgICAgICAgICAgICB7ImJ1YmJsaW5nTW91c2VFdmVudHMiOiB0cnVlLCAiY29sb3IiOiAiYmx1ZSIsICJkYXNoQXJyYXkiOiBudWxsLCAiZGFzaE9mZnNldCI6IG51bGwsICJmaWxsIjogdHJ1ZSwgImZpbGxDb2xvciI6ICIjMzE4NmNjIiwgImZpbGxPcGFjaXR5IjogMC43LCAiZmlsbFJ1bGUiOiAiZXZlbm9kZCIsICJsaW5lQ2FwIjogInJvdW5kIiwgImxpbmVKb2luIjogInJvdW5kIiwgIm9wYWNpdHkiOiAxLjAsICJyYWRpdXMiOiA1LCAic3Ryb2tlIjogdHJ1ZSwgIndlaWdodCI6IDN9CiAgICAgICAgICAgICkuYWRkVG8obWFwXzExMWM4NzIyZDgzMDQ5NDNiOGEwMWYxNGMzNGUxZjAzKTsKICAgICAgICAKICAgIAogICAgICAgIHZhciBwb3B1cF85NjFiNzRhMjYwMWM0NDA4YWM0NjI0ZjQ4ZTFiM2E3MiA9IEwucG9wdXAoeyJtYXhXaWR0aCI6ICIxMDAlIn0pOwoKICAgICAgICAKICAgICAgICAgICAgdmFyIGh0bWxfMWI5ZDBlYWE1ODgxNDI3MTlhNjk2ZjUwNGQyMGU2N2IgPSAkKGA8ZGl2IGlkPSJodG1sXzFiOWQwZWFhNTg4MTQyNzE5YTY5NmY1MDRkMjBlNjdiIiBzdHlsZT0id2lkdGg6IDEwMC4wJTsgaGVpZ2h0OiAxMDAuMCU7Ij5XaWxsb3dkYWxlIFNvdXRoPC9kaXY+YClbMF07CiAgICAgICAgICAgIHBvcHVwXzk2MWI3NGEyNjAxYzQ0MDhhYzQ2MjRmNDhlMWIzYTcyLnNldENvbnRlbnQoaHRtbF8xYjlkMGVhYTU4ODE0MjcxOWE2OTZmNTA0ZDIwZTY3Yik7CiAgICAgICAgCgogICAgICAgIGNpcmNsZV9tYXJrZXJfZDYxNWJhMThiMDNiNGUwY2FiNjMzNmE3NmVmYzExNTAuYmluZFBvcHVwKHBvcHVwXzk2MWI3NGEyNjAxYzQ0MDhhYzQ2MjRmNDhlMWIzYTcyKQogICAgICAgIDsKCiAgICAgICAgCiAgICAKICAgIAogICAgICAgICAgICB2YXIgY2lyY2xlX21hcmtlcl8yNDAwMGMwMTk5OTA0ZTVhOGI2Y2U5OGNiNDQ0OTAyNyA9IEwuY2lyY2xlTWFya2VyKAogICAgICAgICAgICAgICAgWzQzLjc1Mjc1ODI5OTk5OTk5NiwgLTc5LjQwMDA0OTNdLAogICAgICAgICAgICAgICAgeyJidWJibGluZ01vdXNlRXZlbnRzIjogdHJ1ZSwgImNvbG9yIjogImJsdWUiLCAiZGFzaEFycmF5IjogbnVsbCwgImRhc2hPZmZzZXQiOiBudWxsLCAiZmlsbCI6IHRydWUsICJmaWxsQ29sb3IiOiAiIzMxODZjYyIsICJmaWxsT3BhY2l0eSI6IDAuNywgImZpbGxSdWxlIjogImV2ZW5vZGQiLCAibGluZUNhcCI6ICJyb3VuZCIsICJsaW5lSm9pbiI6ICJyb3VuZCIsICJvcGFjaXR5IjogMS4wLCAicmFkaXVzIjogNSwgInN0cm9rZSI6IHRydWUsICJ3ZWlnaHQiOiAzfQogICAgICAgICAgICApLmFkZFRvKG1hcF8xMTFjODcyMmQ4MzA0OTQzYjhhMDFmMTRjMzRlMWYwMyk7CiAgICAgICAgCiAgICAKICAgICAgICB2YXIgcG9wdXBfMjE1MTBiMzdjOTYzNGFhMmIxN2NmNmMwYmFiZDYzZDUgPSBMLnBvcHVwKHsibWF4V2lkdGgiOiAiMTAwJSJ9KTsKCiAgICAgICAgCiAgICAgICAgICAgIHZhciBodG1sXzY0MGQ1OTMzMDU2MzQ5YmI5MDUwMWIwOWFlMDkwNjZiID0gJChgPGRpdiBpZD0iaHRtbF82NDBkNTkzMzA1NjM0OWJiOTA1MDFiMDlhZTA5MDY2YiIgc3R5bGU9IndpZHRoOiAxMDAuMCU7IGhlaWdodDogMTAwLjAlOyI+WW9yayBNaWxscyBXZXN0PC9kaXY+YClbMF07CiAgICAgICAgICAgIHBvcHVwXzIxNTEwYjM3Yzk2MzRhYTJiMTdjZjZjMGJhYmQ2M2Q1LnNldENvbnRlbnQoaHRtbF82NDBkNTkzMzA1NjM0OWJiOTA1MDFiMDlhZTA5MDY2Yik7CiAgICAgICAgCgogICAgICAgIGNpcmNsZV9tYXJrZXJfMjQwMDBjMDE5OTkwNGU1YThiNmNlOThjYjQ0NDkwMjcuYmluZFBvcHVwKHBvcHVwXzIxNTEwYjM3Yzk2MzRhYTJiMTdjZjZjMGJhYmQ2M2Q1KQogICAgICAgIDsKCiAgICAgICAgCiAgICAKICAgIAogICAgICAgICAgICB2YXIgY2lyY2xlX21hcmtlcl9hMDFjMTlhOThjNWM0MWRiODQ3ODgwNjdmOTYyZjViNSA9IEwuY2lyY2xlTWFya2VyKAogICAgICAgICAgICAgICAgWzQzLjc4MjczNjQsIC03OS40NDIyNTkzXSwKICAgICAgICAgICAgICAgIHsiYnViYmxpbmdNb3VzZUV2ZW50cyI6IHRydWUsICJjb2xvciI6ICJibHVlIiwgImRhc2hBcnJheSI6IG51bGwsICJkYXNoT2Zmc2V0IjogbnVsbCwgImZpbGwiOiB0cnVlLCAiZmlsbENvbG9yIjogIiMzMTg2Y2MiLCAiZmlsbE9wYWNpdHkiOiAwLjcsICJmaWxsUnVsZSI6ICJldmVub2RkIiwgImxpbmVDYXAiOiAicm91bmQiLCAibGluZUpvaW4iOiAicm91bmQiLCAib3BhY2l0eSI6IDEuMCwgInJhZGl1cyI6IDUsICJzdHJva2UiOiB0cnVlLCAid2VpZ2h0IjogM30KICAgICAgICAgICAgKS5hZGRUbyhtYXBfMTExYzg3MjJkODMwNDk0M2I4YTAxZjE0YzM0ZTFmMDMpOwogICAgICAgIAogICAgCiAgICAgICAgdmFyIHBvcHVwX2YxYmEyNTRhNTNkZjRmZTFiMGQ2YmU1MGFkOWI1YzExID0gTC5wb3B1cCh7Im1heFdpZHRoIjogIjEwMCUifSk7CgogICAgICAgIAogICAgICAgICAgICB2YXIgaHRtbF83YWM3OGEzZTk4ZTQ0MDA0OGRiZGFmNDI4Mjk4YzIwZCA9ICQoYDxkaXYgaWQ9Imh0bWxfN2FjNzhhM2U5OGU0NDAwNDhkYmRhZjQyODI5OGMyMGQiIHN0eWxlPSJ3aWR0aDogMTAwLjAlOyBoZWlnaHQ6IDEwMC4wJTsiPldpbGxvd2RhbGUgV2VzdDwvZGl2PmApWzBdOwogICAgICAgICAgICBwb3B1cF9mMWJhMjU0YTUzZGY0ZmUxYjBkNmJlNTBhZDliNWMxMS5zZXRDb250ZW50KGh0bWxfN2FjNzhhM2U5OGU0NDAwNDhkYmRhZjQyODI5OGMyMGQpOwogICAgICAgIAoKICAgICAgICBjaXJjbGVfbWFya2VyX2EwMWMxOWE5OGM1YzQxZGI4NDc4ODA2N2Y5NjJmNWI1LmJpbmRQb3B1cChwb3B1cF9mMWJhMjU0YTUzZGY0ZmUxYjBkNmJlNTBhZDliNWMxMSkKICAgICAgICA7CgogICAgICAgIAogICAgCiAgICAKICAgICAgICAgICAgdmFyIGNpcmNsZV9tYXJrZXJfZjI2ZjdlZTMzYzNiNGU4ZThhZDFmM2I2OTk0ZTYxYTAgPSBMLmNpcmNsZU1hcmtlcigKICAgICAgICAgICAgICAgIFs0My43NTMyNTg2LCAtNzkuMzI5NjU2NV0sCiAgICAgICAgICAgICAgICB7ImJ1YmJsaW5nTW91c2VFdmVudHMiOiB0cnVlLCAiY29sb3IiOiAiYmx1ZSIsICJkYXNoQXJyYXkiOiBudWxsLCAiZGFzaE9mZnNldCI6IG51bGwsICJmaWxsIjogdHJ1ZSwgImZpbGxDb2xvciI6ICIjMzE4NmNjIiwgImZpbGxPcGFjaXR5IjogMC43LCAiZmlsbFJ1bGUiOiAiZXZlbm9kZCIsICJsaW5lQ2FwIjogInJvdW5kIiwgImxpbmVKb2luIjogInJvdW5kIiwgIm9wYWNpdHkiOiAxLjAsICJyYWRpdXMiOiA1LCAic3Ryb2tlIjogdHJ1ZSwgIndlaWdodCI6IDN9CiAgICAgICAgICAgICkuYWRkVG8obWFwXzExMWM4NzIyZDgzMDQ5NDNiOGEwMWYxNGMzNGUxZjAzKTsKICAgICAgICAKICAgIAogICAgICAgIHZhciBwb3B1cF8xZjg3YWM3NDA4MzY0MjgyYTFhYmJhNWQ2YmFmZTI4NiA9IEwucG9wdXAoeyJtYXhXaWR0aCI6ICIxMDAlIn0pOwoKICAgICAgICAKICAgICAgICAgICAgdmFyIGh0bWxfZWQyMTYxZDgyYmJmNDA3MDgxMjUzYWIyNTE0NGU4ZTEgPSAkKGA8ZGl2IGlkPSJodG1sX2VkMjE2MWQ4MmJiZjQwNzA4MTI1M2FiMjUxNDRlOGUxIiBzdHlsZT0id2lkdGg6IDEwMC4wJTsgaGVpZ2h0OiAxMDAuMCU7Ij5QYXJrd29vZHM8L2Rpdj5gKVswXTsKICAgICAgICAgICAgcG9wdXBfMWY4N2FjNzQwODM2NDI4MmExYWJiYTVkNmJhZmUyODYuc2V0Q29udGVudChodG1sX2VkMjE2MWQ4MmJiZjQwNzA4MTI1M2FiMjUxNDRlOGUxKTsKICAgICAgICAKCiAgICAgICAgY2lyY2xlX21hcmtlcl9mMjZmN2VlMzNjM2I0ZThlOGFkMWYzYjY5OTRlNjFhMC5iaW5kUG9wdXAocG9wdXBfMWY4N2FjNzQwODM2NDI4MmExYWJiYTVkNmJhZmUyODYpCiAgICAgICAgOwoKICAgICAgICAKICAgIAogICAgCiAgICAgICAgICAgIHZhciBjaXJjbGVfbWFya2VyX2VkYzY3MTU3MDIyYjQ1YTE4Mjc1OThmNDdiMGVjOTZhID0gTC5jaXJjbGVNYXJrZXIoCiAgICAgICAgICAgICAgICBbNDMuNzQ1OTA1Nzk5OTk5OTk2LCAtNzkuMzUyMTg4XSwKICAgICAgICAgICAgICAgIHsiYnViYmxpbmdNb3VzZUV2ZW50cyI6IHRydWUsICJjb2xvciI6ICJibHVlIiwgImRhc2hBcnJheSI6IG51bGwsICJkYXNoT2Zmc2V0IjogbnVsbCwgImZpbGwiOiB0cnVlLCAiZmlsbENvbG9yIjogIiMzMTg2Y2MiLCAiZmlsbE9wYWNpdHkiOiAwLjcsICJmaWxsUnVsZSI6ICJldmVub2RkIiwgImxpbmVDYXAiOiAicm91bmQiLCAibGluZUpvaW4iOiAicm91bmQiLCAib3BhY2l0eSI6IDEuMCwgInJhZGl1cyI6IDUsICJzdHJva2UiOiB0cnVlLCAid2VpZ2h0IjogM30KICAgICAgICAgICAgKS5hZGRUbyhtYXBfMTExYzg3MjJkODMwNDk0M2I4YTAxZjE0YzM0ZTFmMDMpOwogICAgICAgIAogICAgCiAgICAgICAgdmFyIHBvcHVwX2M5OWQwMzM1OWE5NjRiNDFhYTg2NDQzMDQwMDZiMGIyID0gTC5wb3B1cCh7Im1heFdpZHRoIjogIjEwMCUifSk7CgogICAgICAgIAogICAgICAgICAgICB2YXIgaHRtbF83OTZiZTM3MDE4ODY0M2Q3OGE4Njc0OTAzMWJmNjM2MiA9ICQoYDxkaXYgaWQ9Imh0bWxfNzk2YmUzNzAxODg2NDNkNzhhODY3NDkwMzFiZjYzNjIiIHN0eWxlPSJ3aWR0aDogMTAwLjAlOyBoZWlnaHQ6IDEwMC4wJTsiPkRvbiBNaWxscyBOb3J0aDwvZGl2PmApWzBdOwogICAgICAgICAgICBwb3B1cF9jOTlkMDMzNTlhOTY0YjQxYWE4NjQ0MzA0MDA2YjBiMi5zZXRDb250ZW50KGh0bWxfNzk2YmUzNzAxODg2NDNkNzhhODY3NDkwMzFiZjYzNjIpOwogICAgICAgIAoKICAgICAgICBjaXJjbGVfbWFya2VyX2VkYzY3MTU3MDIyYjQ1YTE4Mjc1OThmNDdiMGVjOTZhLmJpbmRQb3B1cChwb3B1cF9jOTlkMDMzNTlhOTY0YjQxYWE4NjQ0MzA0MDA2YjBiMikKICAgICAgICA7CgogICAgICAgIAogICAgCiAgICAKICAgICAgICAgICAgdmFyIGNpcmNsZV9tYXJrZXJfMTM0NmEyZmIzN2Q2NGIwNjhjMjZkMzUzYTg1MmIwZDMgPSBMLmNpcmNsZU1hcmtlcigKICAgICAgICAgICAgICAgIFs0My43MjU4OTk3MDAwMDAwMSwgLTc5LjM0MDkyM10sCiAgICAgICAgICAgICAgICB7ImJ1YmJsaW5nTW91c2VFdmVudHMiOiB0cnVlLCAiY29sb3IiOiAiYmx1ZSIsICJkYXNoQXJyYXkiOiBudWxsLCAiZGFzaE9mZnNldCI6IG51bGwsICJmaWxsIjogdHJ1ZSwgImZpbGxDb2xvciI6ICIjMzE4NmNjIiwgImZpbGxPcGFjaXR5IjogMC43LCAiZmlsbFJ1bGUiOiAiZXZlbm9kZCIsICJsaW5lQ2FwIjogInJvdW5kIiwgImxpbmVKb2luIjogInJvdW5kIiwgIm9wYWNpdHkiOiAxLjAsICJyYWRpdXMiOiA1LCAic3Ryb2tlIjogdHJ1ZSwgIndlaWdodCI6IDN9CiAgICAgICAgICAgICkuYWRkVG8obWFwXzExMWM4NzIyZDgzMDQ5NDNiOGEwMWYxNGMzNGUxZjAzKTsKICAgICAgICAKICAgIAogICAgICAgIHZhciBwb3B1cF8zNzUxNmNmZGFjN2M0ZDc3YTdlMDhiOWEzZDk4ZmUxZCA9IEwucG9wdXAoeyJtYXhXaWR0aCI6ICIxMDAlIn0pOwoKICAgICAgICAKICAgICAgICAgICAgdmFyIGh0bWxfNmRmY2RiODJkYjdjNDdhNjlhMjc5NDg2NWVmNjE4ZWUgPSAkKGA8ZGl2IGlkPSJodG1sXzZkZmNkYjgyZGI3YzQ3YTY5YTI3OTQ4NjVlZjYxOGVlIiBzdHlsZT0id2lkdGg6IDEwMC4wJTsgaGVpZ2h0OiAxMDAuMCU7Ij5GbGVtaW5nZG9uIFBhcmssIERvbiBNaWxscyBTb3V0aDwvZGl2PmApWzBdOwogICAgICAgICAgICBwb3B1cF8zNzUxNmNmZGFjN2M0ZDc3YTdlMDhiOWEzZDk4ZmUxZC5zZXRDb250ZW50KGh0bWxfNmRmY2RiODJkYjdjNDdhNjlhMjc5NDg2NWVmNjE4ZWUpOwogICAgICAgIAoKICAgICAgICBjaXJjbGVfbWFya2VyXzEzNDZhMmZiMzdkNjRiMDY4YzI2ZDM1M2E4NTJiMGQzLmJpbmRQb3B1cChwb3B1cF8zNzUxNmNmZGFjN2M0ZDc3YTdlMDhiOWEzZDk4ZmUxZCkKICAgICAgICA7CgogICAgICAgIAogICAgCiAgICAKICAgICAgICAgICAgdmFyIGNpcmNsZV9tYXJrZXJfYTUwM2E0MGE3MzNhNGE4MTkzNGEzNDZmZDM3N2VkZTAgPSBMLmNpcmNsZU1hcmtlcigKICAgICAgICAgICAgICAgIFs0My43NTQzMjgzLCAtNzkuNDQyMjU5M10sCiAgICAgICAgICAgICAgICB7ImJ1YmJsaW5nTW91c2VFdmVudHMiOiB0cnVlLCAiY29sb3IiOiAiYmx1ZSIsICJkYXNoQXJyYXkiOiBudWxsLCAiZGFzaE9mZnNldCI6IG51bGwsICJmaWxsIjogdHJ1ZSwgImZpbGxDb2xvciI6ICIjMzE4NmNjIiwgImZpbGxPcGFjaXR5IjogMC43LCAiZmlsbFJ1bGUiOiAiZXZlbm9kZCIsICJsaW5lQ2FwIjogInJvdW5kIiwgImxpbmVKb2luIjogInJvdW5kIiwgIm9wYWNpdHkiOiAxLjAsICJyYWRpdXMiOiA1LCAic3Ryb2tlIjogdHJ1ZSwgIndlaWdodCI6IDN9CiAgICAgICAgICAgICkuYWRkVG8obWFwXzExMWM4NzIyZDgzMDQ5NDNiOGEwMWYxNGMzNGUxZjAzKTsKICAgICAgICAKICAgIAogICAgICAgIHZhciBwb3B1cF8wMDQ1MGUxYzU2MTA0M2VkOTJhMjU1ZmIwNTc4M2FiYSA9IEwucG9wdXAoeyJtYXhXaWR0aCI6ICIxMDAlIn0pOwoKICAgICAgICAKICAgICAgICAgICAgdmFyIGh0bWxfN2EyNmE2N2M4NDEzNGYzMWEyNjg2ZmFkYTdlNzA0ODkgPSAkKGA8ZGl2IGlkPSJodG1sXzdhMjZhNjdjODQxMzRmMzFhMjY4NmZhZGE3ZTcwNDg5IiBzdHlsZT0id2lkdGg6IDEwMC4wJTsgaGVpZ2h0OiAxMDAuMCU7Ij5CYXRodXJzdCBNYW5vciwgRG93bnN2aWV3IE5vcnRoLCBXaWxzb24gSGVpZ2h0czwvZGl2PmApWzBdOwogICAgICAgICAgICBwb3B1cF8wMDQ1MGUxYzU2MTA0M2VkOTJhMjU1ZmIwNTc4M2FiYS5zZXRDb250ZW50KGh0bWxfN2EyNmE2N2M4NDEzNGYzMWEyNjg2ZmFkYTdlNzA0ODkpOwogICAgICAgIAoKICAgICAgICBjaXJjbGVfbWFya2VyX2E1MDNhNDBhNzMzYTRhODE5MzRhMzQ2ZmQzNzdlZGUwLmJpbmRQb3B1cChwb3B1cF8wMDQ1MGUxYzU2MTA0M2VkOTJhMjU1ZmIwNTc4M2FiYSkKICAgICAgICA7CgogICAgICAgIAogICAgCiAgICAKICAgICAgICAgICAgdmFyIGNpcmNsZV9tYXJrZXJfNzVjOWNkZmVlOTU3NDAwYmE3MmY1MGRjM2NjMTRiOTkgPSBMLmNpcmNsZU1hcmtlcigKICAgICAgICAgICAgICAgIFs0My43Njc5ODAzLCAtNzkuNDg3MjYxOTAwMDAwMDFdLAogICAgICAgICAgICAgICAgeyJidWJibGluZ01vdXNlRXZlbnRzIjogdHJ1ZSwgImNvbG9yIjogImJsdWUiLCAiZGFzaEFycmF5IjogbnVsbCwgImRhc2hPZmZzZXQiOiBudWxsLCAiZmlsbCI6IHRydWUsICJmaWxsQ29sb3IiOiAiIzMxODZjYyIsICJmaWxsT3BhY2l0eSI6IDAuNywgImZpbGxSdWxlIjogImV2ZW5vZGQiLCAibGluZUNhcCI6ICJyb3VuZCIsICJsaW5lSm9pbiI6ICJyb3VuZCIsICJvcGFjaXR5IjogMS4wLCAicmFkaXVzIjogNSwgInN0cm9rZSI6IHRydWUsICJ3ZWlnaHQiOiAzfQogICAgICAgICAgICApLmFkZFRvKG1hcF8xMTFjODcyMmQ4MzA0OTQzYjhhMDFmMTRjMzRlMWYwMyk7CiAgICAgICAgCiAgICAKICAgICAgICB2YXIgcG9wdXBfMzBmOTAwNWMwYzQ0NGFkZThmNWVmOGY1YmI1ZDkxOGUgPSBMLnBvcHVwKHsibWF4V2lkdGgiOiAiMTAwJSJ9KTsKCiAgICAgICAgCiAgICAgICAgICAgIHZhciBodG1sXzUxYzU1ZjNiZjNjYjQwY2Q5ZWNkZGQwNTFmMzlhM2JiID0gJChgPGRpdiBpZD0iaHRtbF81MWM1NWYzYmYzY2I0MGNkOWVjZGRkMDUxZjM5YTNiYiIgc3R5bGU9IndpZHRoOiAxMDAuMCU7IGhlaWdodDogMTAwLjAlOyI+Tm9ydGh3b29kIFBhcmssIFlvcmsgVW5pdmVyc2l0eTwvZGl2PmApWzBdOwogICAgICAgICAgICBwb3B1cF8zMGY5MDA1YzBjNDQ0YWRlOGY1ZWY4ZjViYjVkOTE4ZS5zZXRDb250ZW50KGh0bWxfNTFjNTVmM2JmM2NiNDBjZDllY2RkZDA1MWYzOWEzYmIpOwogICAgICAgIAoKICAgICAgICBjaXJjbGVfbWFya2VyXzc1YzljZGZlZTk1NzQwMGJhNzJmNTBkYzNjYzE0Yjk5LmJpbmRQb3B1cChwb3B1cF8zMGY5MDA1YzBjNDQ0YWRlOGY1ZWY4ZjViYjVkOTE4ZSkKICAgICAgICA7CgogICAgICAgIAogICAgCiAgICAKICAgICAgICAgICAgdmFyIGNpcmNsZV9tYXJrZXJfOGJiNWE2N2NjYzRkNGMxMjhjMWZlNDBjNjFhNDk3YmMgPSBMLmNpcmNsZU1hcmtlcigKICAgICAgICAgICAgICAgIFs0My43Mzc0NzMyMDAwMDAwMDQsIC03OS40NjQ3NjMyOTk5OTk5OV0sCiAgICAgICAgICAgICAgICB7ImJ1YmJsaW5nTW91c2VFdmVudHMiOiB0cnVlLCAiY29sb3IiOiAiYmx1ZSIsICJkYXNoQXJyYXkiOiBudWxsLCAiZGFzaE9mZnNldCI6IG51bGwsICJmaWxsIjogdHJ1ZSwgImZpbGxDb2xvciI6ICIjMzE4NmNjIiwgImZpbGxPcGFjaXR5IjogMC43LCAiZmlsbFJ1bGUiOiAiZXZlbm9kZCIsICJsaW5lQ2FwIjogInJvdW5kIiwgImxpbmVKb2luIjogInJvdW5kIiwgIm9wYWNpdHkiOiAxLjAsICJyYWRpdXMiOiA1LCAic3Ryb2tlIjogdHJ1ZSwgIndlaWdodCI6IDN9CiAgICAgICAgICAgICkuYWRkVG8obWFwXzExMWM4NzIyZDgzMDQ5NDNiOGEwMWYxNGMzNGUxZjAzKTsKICAgICAgICAKICAgIAogICAgICAgIHZhciBwb3B1cF9jNmVjNGMwMTZlY2U0YTkwODAwOTcyZDI4MDJlOGIwZCA9IEwucG9wdXAoeyJtYXhXaWR0aCI6ICIxMDAlIn0pOwoKICAgICAgICAKICAgICAgICAgICAgdmFyIGh0bWxfNDI1MzMzYTljNDI4NDk2OTg0MGFmYTQxY2Y2MzVmZjggPSAkKGA8ZGl2IGlkPSJodG1sXzQyNTMzM2E5YzQyODQ5Njk4NDBhZmE0MWNmNjM1ZmY4IiBzdHlsZT0id2lkdGg6IDEwMC4wJTsgaGVpZ2h0OiAxMDAuMCU7Ij5DRkIgVG9yb250bywgRG93bnN2aWV3IEVhc3Q8L2Rpdj5gKVswXTsKICAgICAgICAgICAgcG9wdXBfYzZlYzRjMDE2ZWNlNGE5MDgwMDk3MmQyODAyZThiMGQuc2V0Q29udGVudChodG1sXzQyNTMzM2E5YzQyODQ5Njk4NDBhZmE0MWNmNjM1ZmY4KTsKICAgICAgICAKCiAgICAgICAgY2lyY2xlX21hcmtlcl84YmI1YTY3Y2NjNGQ0YzEyOGMxZmU0MGM2MWE0OTdiYy5iaW5kUG9wdXAocG9wdXBfYzZlYzRjMDE2ZWNlNGE5MDgwMDk3MmQyODAyZThiMGQpCiAgICAgICAgOwoKICAgICAgICAKICAgIAogICAgCiAgICAgICAgICAgIHZhciBjaXJjbGVfbWFya2VyXzY3YzU5ODMzNzFiZTQ4MTRiODI4OGQxMmU4MzcxNjE2ID0gTC5jaXJjbGVNYXJrZXIoCiAgICAgICAgICAgICAgICBbNDMuNzM5MDE0NiwgLTc5LjUwNjk0MzZdLAogICAgICAgICAgICAgICAgeyJidWJibGluZ01vdXNlRXZlbnRzIjogdHJ1ZSwgImNvbG9yIjogImJsdWUiLCAiZGFzaEFycmF5IjogbnVsbCwgImRhc2hPZmZzZXQiOiBudWxsLCAiZmlsbCI6IHRydWUsICJmaWxsQ29sb3IiOiAiIzMxODZjYyIsICJmaWxsT3BhY2l0eSI6IDAuNywgImZpbGxSdWxlIjogImV2ZW5vZGQiLCAibGluZUNhcCI6ICJyb3VuZCIsICJsaW5lSm9pbiI6ICJyb3VuZCIsICJvcGFjaXR5IjogMS4wLCAicmFkaXVzIjogNSwgInN0cm9rZSI6IHRydWUsICJ3ZWlnaHQiOiAzfQogICAgICAgICAgICApLmFkZFRvKG1hcF8xMTFjODcyMmQ4MzA0OTQzYjhhMDFmMTRjMzRlMWYwMyk7CiAgICAgICAgCiAgICAKICAgICAgICB2YXIgcG9wdXBfZmQzMDY4NmIyMDdlNDgyM2E4MGE3MDE1ODcyYmI4MTEgPSBMLnBvcHVwKHsibWF4V2lkdGgiOiAiMTAwJSJ9KTsKCiAgICAgICAgCiAgICAgICAgICAgIHZhciBodG1sXzcxNjA2ZTZhY2I0OTQ5MThhMDljYjkzOGJlMjU2OTM1ID0gJChgPGRpdiBpZD0iaHRtbF83MTYwNmU2YWNiNDk0OTE4YTA5Y2I5MzhiZTI1NjkzNSIgc3R5bGU9IndpZHRoOiAxMDAuMCU7IGhlaWdodDogMTAwLjAlOyI+RG93bnN2aWV3IFdlc3Q8L2Rpdj5gKVswXTsKICAgICAgICAgICAgcG9wdXBfZmQzMDY4NmIyMDdlNDgyM2E4MGE3MDE1ODcyYmI4MTEuc2V0Q29udGVudChodG1sXzcxNjA2ZTZhY2I0OTQ5MThhMDljYjkzOGJlMjU2OTM1KTsKICAgICAgICAKCiAgICAgICAgY2lyY2xlX21hcmtlcl82N2M1OTgzMzcxYmU0ODE0YjgyODhkMTJlODM3MTYxNi5iaW5kUG9wdXAocG9wdXBfZmQzMDY4NmIyMDdlNDgyM2E4MGE3MDE1ODcyYmI4MTEpCiAgICAgICAgOwoKICAgICAgICAKICAgIAogICAgCiAgICAgICAgICAgIHZhciBjaXJjbGVfbWFya2VyXzUwM2ZkYjI4ZmI0NzQ0NDA5ZTY1ZjZlYTlkMGM5NGFjID0gTC5jaXJjbGVNYXJrZXIoCiAgICAgICAgICAgICAgICBbNDMuNzI4NDk2NCwgLTc5LjQ5NTY5NzQwMDAwMDAxXSwKICAgICAgICAgICAgICAgIHsiYnViYmxpbmdNb3VzZUV2ZW50cyI6IHRydWUsICJjb2xvciI6ICJibHVlIiwgImRhc2hBcnJheSI6IG51bGwsICJkYXNoT2Zmc2V0IjogbnVsbCwgImZpbGwiOiB0cnVlLCAiZmlsbENvbG9yIjogIiMzMTg2Y2MiLCAiZmlsbE9wYWNpdHkiOiAwLjcsICJmaWxsUnVsZSI6ICJldmVub2RkIiwgImxpbmVDYXAiOiAicm91bmQiLCAibGluZUpvaW4iOiAicm91bmQiLCAib3BhY2l0eSI6IDEuMCwgInJhZGl1cyI6IDUsICJzdHJva2UiOiB0cnVlLCAid2VpZ2h0IjogM30KICAgICAgICAgICAgKS5hZGRUbyhtYXBfMTExYzg3MjJkODMwNDk0M2I4YTAxZjE0YzM0ZTFmMDMpOwogICAgICAgIAogICAgCiAgICAgICAgdmFyIHBvcHVwXzQ2MTQxNGE3YTJjMDQwNzc4OTIwMTE5MWUwNjY1MTY4ID0gTC5wb3B1cCh7Im1heFdpZHRoIjogIjEwMCUifSk7CgogICAgICAgIAogICAgICAgICAgICB2YXIgaHRtbF84ZGM3ZmIzYWQ4OTM0NjAxOGE1YTQ2OGZlZTJkMGMzZiA9ICQoYDxkaXYgaWQ9Imh0bWxfOGRjN2ZiM2FkODkzNDYwMThhNWE0NjhmZWUyZDBjM2YiIHN0eWxlPSJ3aWR0aDogMTAwLjAlOyBoZWlnaHQ6IDEwMC4wJTsiPkRvd25zdmlldyBDZW50cmFsPC9kaXY+YClbMF07CiAgICAgICAgICAgIHBvcHVwXzQ2MTQxNGE3YTJjMDQwNzc4OTIwMTE5MWUwNjY1MTY4LnNldENvbnRlbnQoaHRtbF84ZGM3ZmIzYWQ4OTM0NjAxOGE1YTQ2OGZlZTJkMGMzZik7CiAgICAgICAgCgogICAgICAgIGNpcmNsZV9tYXJrZXJfNTAzZmRiMjhmYjQ3NDQ0MDllNjVmNmVhOWQwYzk0YWMuYmluZFBvcHVwKHBvcHVwXzQ2MTQxNGE3YTJjMDQwNzc4OTIwMTE5MWUwNjY1MTY4KQogICAgICAgIDsKCiAgICAgICAgCiAgICAKICAgIAogICAgICAgICAgICB2YXIgY2lyY2xlX21hcmtlcl9mZDU2MjZlM2Y5ZTY0NjU1YWFkNGI2NjlkOGMyZGNlZSA9IEwuY2lyY2xlTWFya2VyKAogICAgICAgICAgICAgICAgWzQzLjc2MTYzMTMsIC03OS41MjA5OTk0MDAwMDAwMV0sCiAgICAgICAgICAgICAgICB7ImJ1YmJsaW5nTW91c2VFdmVudHMiOiB0cnVlLCAiY29sb3IiOiAiYmx1ZSIsICJkYXNoQXJyYXkiOiBudWxsLCAiZGFzaE9mZnNldCI6IG51bGwsICJmaWxsIjogdHJ1ZSwgImZpbGxDb2xvciI6ICIjMzE4NmNjIiwgImZpbGxPcGFjaXR5IjogMC43LCAiZmlsbFJ1bGUiOiAiZXZlbm9kZCIsICJsaW5lQ2FwIjogInJvdW5kIiwgImxpbmVKb2luIjogInJvdW5kIiwgIm9wYWNpdHkiOiAxLjAsICJyYWRpdXMiOiA1LCAic3Ryb2tlIjogdHJ1ZSwgIndlaWdodCI6IDN9CiAgICAgICAgICAgICkuYWRkVG8obWFwXzExMWM4NzIyZDgzMDQ5NDNiOGEwMWYxNGMzNGUxZjAzKTsKICAgICAgICAKICAgIAogICAgICAgIHZhciBwb3B1cF9mMWVhZTZiN2Y5Mzk0OTAyODI0ZDc3ZDFiOGQ0MzIyNiA9IEwucG9wdXAoeyJtYXhXaWR0aCI6ICIxMDAlIn0pOwoKICAgICAgICAKICAgICAgICAgICAgdmFyIGh0bWxfM2QwYTcwYmM4MjA1NDYxOGJjODQxZDNiNDlkODZhMzcgPSAkKGA8ZGl2IGlkPSJodG1sXzNkMGE3MGJjODIwNTQ2MThiYzg0MWQzYjQ5ZDg2YTM3IiBzdHlsZT0id2lkdGg6IDEwMC4wJTsgaGVpZ2h0OiAxMDAuMCU7Ij5Eb3duc3ZpZXcgTm9ydGh3ZXN0PC9kaXY+YClbMF07CiAgICAgICAgICAgIHBvcHVwX2YxZWFlNmI3ZjkzOTQ5MDI4MjRkNzdkMWI4ZDQzMjI2LnNldENvbnRlbnQoaHRtbF8zZDBhNzBiYzgyMDU0NjE4YmM4NDFkM2I0OWQ4NmEzNyk7CiAgICAgICAgCgogICAgICAgIGNpcmNsZV9tYXJrZXJfZmQ1NjI2ZTNmOWU2NDY1NWFhZDRiNjY5ZDhjMmRjZWUuYmluZFBvcHVwKHBvcHVwX2YxZWFlNmI3ZjkzOTQ5MDI4MjRkNzdkMWI4ZDQzMjI2KQogICAgICAgIDsKCiAgICAgICAgCiAgICAKICAgIAogICAgICAgICAgICB2YXIgY2lyY2xlX21hcmtlcl83YmRjYzU5ZGU4MWM0Zjg0YjZkMjEwZDRjYWE1NTc5ZiA9IEwuY2lyY2xlTWFya2VyKAogICAgICAgICAgICAgICAgWzQzLjcyNTg4MjI5OTk5OTk5NSwgLTc5LjMxNTU3MTU5OTk5OTk4XSwKICAgICAgICAgICAgICAgIHsiYnViYmxpbmdNb3VzZUV2ZW50cyI6IHRydWUsICJjb2xvciI6ICJibHVlIiwgImRhc2hBcnJheSI6IG51bGwsICJkYXNoT2Zmc2V0IjogbnVsbCwgImZpbGwiOiB0cnVlLCAiZmlsbENvbG9yIjogIiMzMTg2Y2MiLCAiZmlsbE9wYWNpdHkiOiAwLjcsICJmaWxsUnVsZSI6ICJldmVub2RkIiwgImxpbmVDYXAiOiAicm91bmQiLCAibGluZUpvaW4iOiAicm91bmQiLCAib3BhY2l0eSI6IDEuMCwgInJhZGl1cyI6IDUsICJzdHJva2UiOiB0cnVlLCAid2VpZ2h0IjogM30KICAgICAgICAgICAgKS5hZGRUbyhtYXBfMTExYzg3MjJkODMwNDk0M2I4YTAxZjE0YzM0ZTFmMDMpOwogICAgICAgIAogICAgCiAgICAgICAgdmFyIHBvcHVwX2IwM2IxMzVmOTRkMTRlZmI5ZTBjODAyMzdhOTk3ZWUwID0gTC5wb3B1cCh7Im1heFdpZHRoIjogIjEwMCUifSk7CgogICAgICAgIAogICAgICAgICAgICB2YXIgaHRtbF8yZDBjYTgxMGFjMzA0MWI0YjgxZTY2ODI1ZjhmYTczOSA9ICQoYDxkaXYgaWQ9Imh0bWxfMmQwY2E4MTBhYzMwNDFiNGI4MWU2NjgyNWY4ZmE3MzkiIHN0eWxlPSJ3aWR0aDogMTAwLjAlOyBoZWlnaHQ6IDEwMC4wJTsiPlZpY3RvcmlhIFZpbGxhZ2U8L2Rpdj5gKVswXTsKICAgICAgICAgICAgcG9wdXBfYjAzYjEzNWY5NGQxNGVmYjllMGM4MDIzN2E5OTdlZTAuc2V0Q29udGVudChodG1sXzJkMGNhODEwYWMzMDQxYjRiODFlNjY4MjVmOGZhNzM5KTsKICAgICAgICAKCiAgICAgICAgY2lyY2xlX21hcmtlcl83YmRjYzU5ZGU4MWM0Zjg0YjZkMjEwZDRjYWE1NTc5Zi5iaW5kUG9wdXAocG9wdXBfYjAzYjEzNWY5NGQxNGVmYjllMGM4MDIzN2E5OTdlZTApCiAgICAgICAgOwoKICAgICAgICAKICAgIAogICAgCiAgICAgICAgICAgIHZhciBjaXJjbGVfbWFya2VyXzQ1YjMwNDA5OGZiYTQ4NWZhZGQ2MjMzMWFkYzcyZTdhID0gTC5jaXJjbGVNYXJrZXIoCiAgICAgICAgICAgICAgICBbNDMuNzA2Mzk3MiwgLTc5LjMwOTkzN10sCiAgICAgICAgICAgICAgICB7ImJ1YmJsaW5nTW91c2VFdmVudHMiOiB0cnVlLCAiY29sb3IiOiAiYmx1ZSIsICJkYXNoQXJyYXkiOiBudWxsLCAiZGFzaE9mZnNldCI6IG51bGwsICJmaWxsIjogdHJ1ZSwgImZpbGxDb2xvciI6ICIjMzE4NmNjIiwgImZpbGxPcGFjaXR5IjogMC43LCAiZmlsbFJ1bGUiOiAiZXZlbm9kZCIsICJsaW5lQ2FwIjogInJvdW5kIiwgImxpbmVKb2luIjogInJvdW5kIiwgIm9wYWNpdHkiOiAxLjAsICJyYWRpdXMiOiA1LCAic3Ryb2tlIjogdHJ1ZSwgIndlaWdodCI6IDN9CiAgICAgICAgICAgICkuYWRkVG8obWFwXzExMWM4NzIyZDgzMDQ5NDNiOGEwMWYxNGMzNGUxZjAzKTsKICAgICAgICAKICAgIAogICAgICAgIHZhciBwb3B1cF9jNmRhNWVmZDYyYzE0YzlkYTU0ZWNjZTllMTViZmUwZCA9IEwucG9wdXAoeyJtYXhXaWR0aCI6ICIxMDAlIn0pOwoKICAgICAgICAKICAgICAgICAgICAgdmFyIGh0bWxfYTNkOTc5N2ExYWRiNGZmZDk5MmFkOWUyYzQzN2U4MzUgPSAkKGA8ZGl2IGlkPSJodG1sX2EzZDk3OTdhMWFkYjRmZmQ5OTJhZDllMmM0MzdlODM1IiBzdHlsZT0id2lkdGg6IDEwMC4wJTsgaGVpZ2h0OiAxMDAuMCU7Ij5Xb29kYmluZSBHYXJkZW5zLCBQYXJrdmlldyBIaWxsPC9kaXY+YClbMF07CiAgICAgICAgICAgIHBvcHVwX2M2ZGE1ZWZkNjJjMTRjOWRhNTRlY2NlOWUxNWJmZTBkLnNldENvbnRlbnQoaHRtbF9hM2Q5Nzk3YTFhZGI0ZmZkOTkyYWQ5ZTJjNDM3ZTgzNSk7CiAgICAgICAgCgogICAgICAgIGNpcmNsZV9tYXJrZXJfNDViMzA0MDk4ZmJhNDg1ZmFkZDYyMzMxYWRjNzJlN2EuYmluZFBvcHVwKHBvcHVwX2M2ZGE1ZWZkNjJjMTRjOWRhNTRlY2NlOWUxNWJmZTBkKQogICAgICAgIDsKCiAgICAgICAgCiAgICAKICAgIAogICAgICAgICAgICB2YXIgY2lyY2xlX21hcmtlcl9lZTQ3Y2RlZTFkNDM0ZTE4YWI4OTlmMTNmYTYxMjRhZCA9IEwuY2lyY2xlTWFya2VyKAogICAgICAgICAgICAgICAgWzQzLjY5NTM0MzkwMDAwMDAwNSwgLTc5LjMxODM4ODddLAogICAgICAgICAgICAgICAgeyJidWJibGluZ01vdXNlRXZlbnRzIjogdHJ1ZSwgImNvbG9yIjogImJsdWUiLCAiZGFzaEFycmF5IjogbnVsbCwgImRhc2hPZmZzZXQiOiBudWxsLCAiZmlsbCI6IHRydWUsICJmaWxsQ29sb3IiOiAiIzMxODZjYyIsICJmaWxsT3BhY2l0eSI6IDAuNywgImZpbGxSdWxlIjogImV2ZW5vZGQiLCAibGluZUNhcCI6ICJyb3VuZCIsICJsaW5lSm9pbiI6ICJyb3VuZCIsICJvcGFjaXR5IjogMS4wLCAicmFkaXVzIjogNSwgInN0cm9rZSI6IHRydWUsICJ3ZWlnaHQiOiAzfQogICAgICAgICAgICApLmFkZFRvKG1hcF8xMTFjODcyMmQ4MzA0OTQzYjhhMDFmMTRjMzRlMWYwMyk7CiAgICAgICAgCiAgICAKICAgICAgICB2YXIgcG9wdXBfZDA1Mzc2NjExMjhhNGNlNWJhYjc0Y2I3MGE1YmExOWIgPSBMLnBvcHVwKHsibWF4V2lkdGgiOiAiMTAwJSJ9KTsKCiAgICAgICAgCiAgICAgICAgICAgIHZhciBodG1sX2NkNTJkODM3NjlmZTQ5OWI4YTA0MDRkMmIwNDljZDMzID0gJChgPGRpdiBpZD0iaHRtbF9jZDUyZDgzNzY5ZmU0OTliOGEwNDA0ZDJiMDQ5Y2QzMyIgc3R5bGU9IndpZHRoOiAxMDAuMCU7IGhlaWdodDogMTAwLjAlOyI+V29vZGJpbmUgSGVpZ2h0czwvZGl2PmApWzBdOwogICAgICAgICAgICBwb3B1cF9kMDUzNzY2MTEyOGE0Y2U1YmFiNzRjYjcwYTViYTE5Yi5zZXRDb250ZW50KGh0bWxfY2Q1MmQ4Mzc2OWZlNDk5YjhhMDQwNGQyYjA0OWNkMzMpOwogICAgICAgIAoKICAgICAgICBjaXJjbGVfbWFya2VyX2VlNDdjZGVlMWQ0MzRlMThhYjg5OWYxM2ZhNjEyNGFkLmJpbmRQb3B1cChwb3B1cF9kMDUzNzY2MTEyOGE0Y2U1YmFiNzRjYjcwYTViYTE5YikKICAgICAgICA7CgogICAgICAgIAogICAgCiAgICAKICAgICAgICAgICAgdmFyIGNpcmNsZV9tYXJrZXJfN2NjODI3NTAyOWM2NGVkMDgxNWRhNzQ5OTA4MGY4M2QgPSBMLmNpcmNsZU1hcmtlcigKICAgICAgICAgICAgICAgIFs0My42NzYzNTczOTk5OTk5OSwgLTc5LjI5MzAzMTJdLAogICAgICAgICAgICAgICAgeyJidWJibGluZ01vdXNlRXZlbnRzIjogdHJ1ZSwgImNvbG9yIjogImJsdWUiLCAiZGFzaEFycmF5IjogbnVsbCwgImRhc2hPZmZzZXQiOiBudWxsLCAiZmlsbCI6IHRydWUsICJmaWxsQ29sb3IiOiAiIzMxODZjYyIsICJmaWxsT3BhY2l0eSI6IDAuNywgImZpbGxSdWxlIjogImV2ZW5vZGQiLCAibGluZUNhcCI6ICJyb3VuZCIsICJsaW5lSm9pbiI6ICJyb3VuZCIsICJvcGFjaXR5IjogMS4wLCAicmFkaXVzIjogNSwgInN0cm9rZSI6IHRydWUsICJ3ZWlnaHQiOiAzfQogICAgICAgICAgICApLmFkZFRvKG1hcF8xMTFjODcyMmQ4MzA0OTQzYjhhMDFmMTRjMzRlMWYwMyk7CiAgICAgICAgCiAgICAKICAgICAgICB2YXIgcG9wdXBfZTI2NTk5MDZmODNhNGIzYmJmMTU0OTY2NGQ4NWJkNTggPSBMLnBvcHVwKHsibWF4V2lkdGgiOiAiMTAwJSJ9KTsKCiAgICAgICAgCiAgICAgICAgICAgIHZhciBodG1sXzM5Mjk2MGU0ODdjOTQzMjA4NDM5MjNiOWQ3OTUwODkzID0gJChgPGRpdiBpZD0iaHRtbF8zOTI5NjBlNDg3Yzk0MzIwODQzOTIzYjlkNzk1MDg5MyIgc3R5bGU9IndpZHRoOiAxMDAuMCU7IGhlaWdodDogMTAwLjAlOyI+VGhlIEJlYWNoZXM8L2Rpdj5gKVswXTsKICAgICAgICAgICAgcG9wdXBfZTI2NTk5MDZmODNhNGIzYmJmMTU0OTY2NGQ4NWJkNTguc2V0Q29udGVudChodG1sXzM5Mjk2MGU0ODdjOTQzMjA4NDM5MjNiOWQ3OTUwODkzKTsKICAgICAgICAKCiAgICAgICAgY2lyY2xlX21hcmtlcl83Y2M4Mjc1MDI5YzY0ZWQwODE1ZGE3NDk5MDgwZjgzZC5iaW5kUG9wdXAocG9wdXBfZTI2NTk5MDZmODNhNGIzYmJmMTU0OTY2NGQ4NWJkNTgpCiAgICAgICAgOwoKICAgICAgICAKICAgIAogICAgCiAgICAgICAgICAgIHZhciBjaXJjbGVfbWFya2VyX2QyYTBhYjkwYmUyZTQ1OTdhMjIzZTliZDQ1YWEyZmViID0gTC5jaXJjbGVNYXJrZXIoCiAgICAgICAgICAgICAgICBbNDMuNzA5MDYwNCwgLTc5LjM2MzQ1MTddLAogICAgICAgICAgICAgICAgeyJidWJibGluZ01vdXNlRXZlbnRzIjogdHJ1ZSwgImNvbG9yIjogImJsdWUiLCAiZGFzaEFycmF5IjogbnVsbCwgImRhc2hPZmZzZXQiOiBudWxsLCAiZmlsbCI6IHRydWUsICJmaWxsQ29sb3IiOiAiIzMxODZjYyIsICJmaWxsT3BhY2l0eSI6IDAuNywgImZpbGxSdWxlIjogImV2ZW5vZGQiLCAibGluZUNhcCI6ICJyb3VuZCIsICJsaW5lSm9pbiI6ICJyb3VuZCIsICJvcGFjaXR5IjogMS4wLCAicmFkaXVzIjogNSwgInN0cm9rZSI6IHRydWUsICJ3ZWlnaHQiOiAzfQogICAgICAgICAgICApLmFkZFRvKG1hcF8xMTFjODcyMmQ4MzA0OTQzYjhhMDFmMTRjMzRlMWYwMyk7CiAgICAgICAgCiAgICAKICAgICAgICB2YXIgcG9wdXBfZTQxOTQ0YmVhYTc0NDA1YmJhMTY4MjE3ZDlhMGU3NWIgPSBMLnBvcHVwKHsibWF4V2lkdGgiOiAiMTAwJSJ9KTsKCiAgICAgICAgCiAgICAgICAgICAgIHZhciBodG1sXzFjOWNiNzM0Y2U3NzQ3MmM5YThlYTg5NjIzMjM4YWYzID0gJChgPGRpdiBpZD0iaHRtbF8xYzljYjczNGNlNzc0NzJjOWE4ZWE4OTYyMzIzOGFmMyIgc3R5bGU9IndpZHRoOiAxMDAuMCU7IGhlaWdodDogMTAwLjAlOyI+TGVhc2lkZTwvZGl2PmApWzBdOwogICAgICAgICAgICBwb3B1cF9lNDE5NDRiZWFhNzQ0MDViYmExNjgyMTdkOWEwZTc1Yi5zZXRDb250ZW50KGh0bWxfMWM5Y2I3MzRjZTc3NDcyYzlhOGVhODk2MjMyMzhhZjMpOwogICAgICAgIAoKICAgICAgICBjaXJjbGVfbWFya2VyX2QyYTBhYjkwYmUyZTQ1OTdhMjIzZTliZDQ1YWEyZmViLmJpbmRQb3B1cChwb3B1cF9lNDE5NDRiZWFhNzQ0MDViYmExNjgyMTdkOWEwZTc1YikKICAgICAgICA7CgogICAgICAgIAogICAgCiAgICAKICAgICAgICAgICAgdmFyIGNpcmNsZV9tYXJrZXJfNjY4NGY0NTAyZDVkNDg1MGFiOWEwOGRjNmE5N2ZlZTkgPSBMLmNpcmNsZU1hcmtlcigKICAgICAgICAgICAgICAgIFs0My43MDUzNjg5LCAtNzkuMzQ5MzcxOTAwMDAwMDFdLAogICAgICAgICAgICAgICAgeyJidWJibGluZ01vdXNlRXZlbnRzIjogdHJ1ZSwgImNvbG9yIjogImJsdWUiLCAiZGFzaEFycmF5IjogbnVsbCwgImRhc2hPZmZzZXQiOiBudWxsLCAiZmlsbCI6IHRydWUsICJmaWxsQ29sb3IiOiAiIzMxODZjYyIsICJmaWxsT3BhY2l0eSI6IDAuNywgImZpbGxSdWxlIjogImV2ZW5vZGQiLCAibGluZUNhcCI6ICJyb3VuZCIsICJsaW5lSm9pbiI6ICJyb3VuZCIsICJvcGFjaXR5IjogMS4wLCAicmFkaXVzIjogNSwgInN0cm9rZSI6IHRydWUsICJ3ZWlnaHQiOiAzfQogICAgICAgICAgICApLmFkZFRvKG1hcF8xMTFjODcyMmQ4MzA0OTQzYjhhMDFmMTRjMzRlMWYwMyk7CiAgICAgICAgCiAgICAKICAgICAgICB2YXIgcG9wdXBfNWNlZGQ0N2ZkYzM0NDllZWFjMmMyYWRiMGVjZDQ1ZDAgPSBMLnBvcHVwKHsibWF4V2lkdGgiOiAiMTAwJSJ9KTsKCiAgICAgICAgCiAgICAgICAgICAgIHZhciBodG1sX2Y3M2QwYzQ0ZDg4ZjQxZThiMTZkZjY4Y2E1MzA0ZWQwID0gJChgPGRpdiBpZD0iaHRtbF9mNzNkMGM0NGQ4OGY0MWU4YjE2ZGY2OGNhNTMwNGVkMCIgc3R5bGU9IndpZHRoOiAxMDAuMCU7IGhlaWdodDogMTAwLjAlOyI+VGhvcm5jbGlmZmUgUGFyazwvZGl2PmApWzBdOwogICAgICAgICAgICBwb3B1cF81Y2VkZDQ3ZmRjMzQ0OWVlYWMyYzJhZGIwZWNkNDVkMC5zZXRDb250ZW50KGh0bWxfZjczZDBjNDRkODhmNDFlOGIxNmRmNjhjYTUzMDRlZDApOwogICAgICAgIAoKICAgICAgICBjaXJjbGVfbWFya2VyXzY2ODRmNDUwMmQ1ZDQ4NTBhYjlhMDhkYzZhOTdmZWU5LmJpbmRQb3B1cChwb3B1cF81Y2VkZDQ3ZmRjMzQ0OWVlYWMyYzJhZGIwZWNkNDVkMCkKICAgICAgICA7CgogICAgICAgIAogICAgCiAgICAKICAgICAgICAgICAgdmFyIGNpcmNsZV9tYXJrZXJfYjg3NDNiYTRlYTc5NDZhNDlmYjVhZjg0NmQ2NDVkNWQgPSBMLmNpcmNsZU1hcmtlcigKICAgICAgICAgICAgICAgIFs0My42ODUzNDcsIC03OS4zMzgxMDY1XSwKICAgICAgICAgICAgICAgIHsiYnViYmxpbmdNb3VzZUV2ZW50cyI6IHRydWUsICJjb2xvciI6ICJibHVlIiwgImRhc2hBcnJheSI6IG51bGwsICJkYXNoT2Zmc2V0IjogbnVsbCwgImZpbGwiOiB0cnVlLCAiZmlsbENvbG9yIjogIiMzMTg2Y2MiLCAiZmlsbE9wYWNpdHkiOiAwLjcsICJmaWxsUnVsZSI6ICJldmVub2RkIiwgImxpbmVDYXAiOiAicm91bmQiLCAibGluZUpvaW4iOiAicm91bmQiLCAib3BhY2l0eSI6IDEuMCwgInJhZGl1cyI6IDUsICJzdHJva2UiOiB0cnVlLCAid2VpZ2h0IjogM30KICAgICAgICAgICAgKS5hZGRUbyhtYXBfMTExYzg3MjJkODMwNDk0M2I4YTAxZjE0YzM0ZTFmMDMpOwogICAgICAgIAogICAgCiAgICAgICAgdmFyIHBvcHVwX2U4YzYyN2E2MWViOTQyMjRhYzNiNGY2YjFhOGE0ZTY1ID0gTC5wb3B1cCh7Im1heFdpZHRoIjogIjEwMCUifSk7CgogICAgICAgIAogICAgICAgICAgICB2YXIgaHRtbF9mMWUzOGQzYWZiZDY0NzYwYTM2ZjhmOWJmMTdlYzUzZSA9ICQoYDxkaXYgaWQ9Imh0bWxfZjFlMzhkM2FmYmQ2NDc2MGEzNmY4ZjliZjE3ZWM1M2UiIHN0eWxlPSJ3aWR0aDogMTAwLjAlOyBoZWlnaHQ6IDEwMC4wJTsiPkVhc3QgVG9yb250bzwvZGl2PmApWzBdOwogICAgICAgICAgICBwb3B1cF9lOGM2MjdhNjFlYjk0MjI0YWMzYjRmNmIxYThhNGU2NS5zZXRDb250ZW50KGh0bWxfZjFlMzhkM2FmYmQ2NDc2MGEzNmY4ZjliZjE3ZWM1M2UpOwogICAgICAgIAoKICAgICAgICBjaXJjbGVfbWFya2VyX2I4NzQzYmE0ZWE3OTQ2YTQ5ZmI1YWY4NDZkNjQ1ZDVkLmJpbmRQb3B1cChwb3B1cF9lOGM2MjdhNjFlYjk0MjI0YWMzYjRmNmIxYThhNGU2NSkKICAgICAgICA7CgogICAgICAgIAogICAgCiAgICAKICAgICAgICAgICAgdmFyIGNpcmNsZV9tYXJrZXJfYTVjYjNkNjE3NTBhNDQwYmE0NGZjYWIxYzA2YjBlYmIgPSBMLmNpcmNsZU1hcmtlcigKICAgICAgICAgICAgICAgIFs0My42Nzk1NTcxLCAtNzkuMzUyMTg4XSwKICAgICAgICAgICAgICAgIHsiYnViYmxpbmdNb3VzZUV2ZW50cyI6IHRydWUsICJjb2xvciI6ICJibHVlIiwgImRhc2hBcnJheSI6IG51bGwsICJkYXNoT2Zmc2V0IjogbnVsbCwgImZpbGwiOiB0cnVlLCAiZmlsbENvbG9yIjogIiMzMTg2Y2MiLCAiZmlsbE9wYWNpdHkiOiAwLjcsICJmaWxsUnVsZSI6ICJldmVub2RkIiwgImxpbmVDYXAiOiAicm91bmQiLCAibGluZUpvaW4iOiAicm91bmQiLCAib3BhY2l0eSI6IDEuMCwgInJhZGl1cyI6IDUsICJzdHJva2UiOiB0cnVlLCAid2VpZ2h0IjogM30KICAgICAgICAgICAgKS5hZGRUbyhtYXBfMTExYzg3MjJkODMwNDk0M2I4YTAxZjE0YzM0ZTFmMDMpOwogICAgICAgIAogICAgCiAgICAgICAgdmFyIHBvcHVwXzhiZmY3MzYyMjk2ZDQwOGRhYzFmZTJlNmVhNGE1YTc1ID0gTC5wb3B1cCh7Im1heFdpZHRoIjogIjEwMCUifSk7CgogICAgICAgIAogICAgICAgICAgICB2YXIgaHRtbF82ZGNhOGNjNzE1NmM0NDJiYTZlMjUyMDJlZjI0MTUyNiA9ICQoYDxkaXYgaWQ9Imh0bWxfNmRjYThjYzcxNTZjNDQyYmE2ZTI1MjAyZWYyNDE1MjYiIHN0eWxlPSJ3aWR0aDogMTAwLjAlOyBoZWlnaHQ6IDEwMC4wJTsiPlRoZSBEYW5mb3J0aCBXZXN0LCBSaXZlcmRhbGU8L2Rpdj5gKVswXTsKICAgICAgICAgICAgcG9wdXBfOGJmZjczNjIyOTZkNDA4ZGFjMWZlMmU2ZWE0YTVhNzUuc2V0Q29udGVudChodG1sXzZkY2E4Y2M3MTU2YzQ0MmJhNmUyNTIwMmVmMjQxNTI2KTsKICAgICAgICAKCiAgICAgICAgY2lyY2xlX21hcmtlcl9hNWNiM2Q2MTc1MGE0NDBiYTQ0ZmNhYjFjMDZiMGViYi5iaW5kUG9wdXAocG9wdXBfOGJmZjczNjIyOTZkNDA4ZGFjMWZlMmU2ZWE0YTVhNzUpCiAgICAgICAgOwoKICAgICAgICAKICAgIAogICAgCiAgICAgICAgICAgIHZhciBjaXJjbGVfbWFya2VyXzhiMWUwYjZhMTM4NjRjZDk4OWM5MzQ0NDBmZTYxYmY4ID0gTC5jaXJjbGVNYXJrZXIoCiAgICAgICAgICAgICAgICBbNDMuNjY4OTk4NSwgLTc5LjMxNTU3MTU5OTk5OTk4XSwKICAgICAgICAgICAgICAgIHsiYnViYmxpbmdNb3VzZUV2ZW50cyI6IHRydWUsICJjb2xvciI6ICJibHVlIiwgImRhc2hBcnJheSI6IG51bGwsICJkYXNoT2Zmc2V0IjogbnVsbCwgImZpbGwiOiB0cnVlLCAiZmlsbENvbG9yIjogIiMzMTg2Y2MiLCAiZmlsbE9wYWNpdHkiOiAwLjcsICJmaWxsUnVsZSI6ICJldmVub2RkIiwgImxpbmVDYXAiOiAicm91bmQiLCAibGluZUpvaW4iOiAicm91bmQiLCAib3BhY2l0eSI6IDEuMCwgInJhZGl1cyI6IDUsICJzdHJva2UiOiB0cnVlLCAid2VpZ2h0IjogM30KICAgICAgICAgICAgKS5hZGRUbyhtYXBfMTExYzg3MjJkODMwNDk0M2I4YTAxZjE0YzM0ZTFmMDMpOwogICAgICAgIAogICAgCiAgICAgICAgdmFyIHBvcHVwXzlmMTE3ZGI1MzViZTRjYjJiZTE1MmFlN2JlYzZhNzA0ID0gTC5wb3B1cCh7Im1heFdpZHRoIjogIjEwMCUifSk7CgogICAgICAgIAogICAgICAgICAgICB2YXIgaHRtbF9hZjhhODNlOGI4ZGU0ZWY5YjYzZTM5MWE3MGVmN2RhZCA9ICQoYDxkaXYgaWQ9Imh0bWxfYWY4YTgzZThiOGRlNGVmOWI2M2UzOTFhNzBlZjdkYWQiIHN0eWxlPSJ3aWR0aDogMTAwLjAlOyBoZWlnaHQ6IDEwMC4wJTsiPlRoZSBCZWFjaGVzIFdlc3QsIEluZGlhIEJhemFhcjwvZGl2PmApWzBdOwogICAgICAgICAgICBwb3B1cF85ZjExN2RiNTM1YmU0Y2IyYmUxNTJhZTdiZWM2YTcwNC5zZXRDb250ZW50KGh0bWxfYWY4YTgzZThiOGRlNGVmOWI2M2UzOTFhNzBlZjdkYWQpOwogICAgICAgIAoKICAgICAgICBjaXJjbGVfbWFya2VyXzhiMWUwYjZhMTM4NjRjZDk4OWM5MzQ0NDBmZTYxYmY4LmJpbmRQb3B1cChwb3B1cF85ZjExN2RiNTM1YmU0Y2IyYmUxNTJhZTdiZWM2YTcwNCkKICAgICAgICA7CgogICAgICAgIAogICAgCiAgICAKICAgICAgICAgICAgdmFyIGNpcmNsZV9tYXJrZXJfNmY1YzIzODEyNDRjNGE1YjhlNThmNTViODQ3ZTg2NTUgPSBMLmNpcmNsZU1hcmtlcigKICAgICAgICAgICAgICAgIFs0My42NTk1MjU1LCAtNzkuMzQwOTIzXSwKICAgICAgICAgICAgICAgIHsiYnViYmxpbmdNb3VzZUV2ZW50cyI6IHRydWUsICJjb2xvciI6ICJibHVlIiwgImRhc2hBcnJheSI6IG51bGwsICJkYXNoT2Zmc2V0IjogbnVsbCwgImZpbGwiOiB0cnVlLCAiZmlsbENvbG9yIjogIiMzMTg2Y2MiLCAiZmlsbE9wYWNpdHkiOiAwLjcsICJmaWxsUnVsZSI6ICJldmVub2RkIiwgImxpbmVDYXAiOiAicm91bmQiLCAibGluZUpvaW4iOiAicm91bmQiLCAib3BhY2l0eSI6IDEuMCwgInJhZGl1cyI6IDUsICJzdHJva2UiOiB0cnVlLCAid2VpZ2h0IjogM30KICAgICAgICAgICAgKS5hZGRUbyhtYXBfMTExYzg3MjJkODMwNDk0M2I4YTAxZjE0YzM0ZTFmMDMpOwogICAgICAgIAogICAgCiAgICAgICAgdmFyIHBvcHVwXzQ1NTI3NTYyYzJmNDQ4ZmY5ZTVhOWNkYzg4ZjZkNmI3ID0gTC5wb3B1cCh7Im1heFdpZHRoIjogIjEwMCUifSk7CgogICAgICAgIAogICAgICAgICAgICB2YXIgaHRtbF82NjEyNDkyMDU5ZmQ0OGUwYmY2NGUyNDI1MDIyZjFhMCA9ICQoYDxkaXYgaWQ9Imh0bWxfNjYxMjQ5MjA1OWZkNDhlMGJmNjRlMjQyNTAyMmYxYTAiIHN0eWxlPSJ3aWR0aDogMTAwLjAlOyBoZWlnaHQ6IDEwMC4wJTsiPlN0dWRpbyBEaXN0cmljdDwvZGl2PmApWzBdOwogICAgICAgICAgICBwb3B1cF80NTUyNzU2MmMyZjQ0OGZmOWU1YTljZGM4OGY2ZDZiNy5zZXRDb250ZW50KGh0bWxfNjYxMjQ5MjA1OWZkNDhlMGJmNjRlMjQyNTAyMmYxYTApOwogICAgICAgIAoKICAgICAgICBjaXJjbGVfbWFya2VyXzZmNWMyMzgxMjQ0YzRhNWI4ZTU4ZjU1Yjg0N2U4NjU1LmJpbmRQb3B1cChwb3B1cF80NTUyNzU2MmMyZjQ0OGZmOWU1YTljZGM4OGY2ZDZiNykKICAgICAgICA7CgogICAgICAgIAogICAgCiAgICAKICAgICAgICAgICAgdmFyIGNpcmNsZV9tYXJrZXJfOGQxYjQ1ZTc3M2EwNGQ4OWJlMmIwOTA2YWIzYzczNGQgPSBMLmNpcmNsZU1hcmtlcigKICAgICAgICAgICAgICAgIFs0My43MjgwMjA1LCAtNzkuMzg4NzkwMV0sCiAgICAgICAgICAgICAgICB7ImJ1YmJsaW5nTW91c2VFdmVudHMiOiB0cnVlLCAiY29sb3IiOiAiYmx1ZSIsICJkYXNoQXJyYXkiOiBudWxsLCAiZGFzaE9mZnNldCI6IG51bGwsICJmaWxsIjogdHJ1ZSwgImZpbGxDb2xvciI6ICIjMzE4NmNjIiwgImZpbGxPcGFjaXR5IjogMC43LCAiZmlsbFJ1bGUiOiAiZXZlbm9kZCIsICJsaW5lQ2FwIjogInJvdW5kIiwgImxpbmVKb2luIjogInJvdW5kIiwgIm9wYWNpdHkiOiAxLjAsICJyYWRpdXMiOiA1LCAic3Ryb2tlIjogdHJ1ZSwgIndlaWdodCI6IDN9CiAgICAgICAgICAgICkuYWRkVG8obWFwXzExMWM4NzIyZDgzMDQ5NDNiOGEwMWYxNGMzNGUxZjAzKTsKICAgICAgICAKICAgIAogICAgICAgIHZhciBwb3B1cF8wOWZjNGUyNzkwMzk0NjYwYjZlNjc1NTVkYmEwNzBkOSA9IEwucG9wdXAoeyJtYXhXaWR0aCI6ICIxMDAlIn0pOwoKICAgICAgICAKICAgICAgICAgICAgdmFyIGh0bWxfYWQ5NjgzMWZkNzAzNDQ2OTg2OTk4NzNlNzg0MGE0MDkgPSAkKGA8ZGl2IGlkPSJodG1sX2FkOTY4MzFmZDcwMzQ0Njk4Njk5ODczZTc4NDBhNDA5IiBzdHlsZT0id2lkdGg6IDEwMC4wJTsgaGVpZ2h0OiAxMDAuMCU7Ij5MYXdyZW5jZSBQYXJrPC9kaXY+YClbMF07CiAgICAgICAgICAgIHBvcHVwXzA5ZmM0ZTI3OTAzOTQ2NjBiNmU2NzU1NWRiYTA3MGQ5LnNldENvbnRlbnQoaHRtbF9hZDk2ODMxZmQ3MDM0NDY5ODY5OTg3M2U3ODQwYTQwOSk7CiAgICAgICAgCgogICAgICAgIGNpcmNsZV9tYXJrZXJfOGQxYjQ1ZTc3M2EwNGQ4OWJlMmIwOTA2YWIzYzczNGQuYmluZFBvcHVwKHBvcHVwXzA5ZmM0ZTI3OTAzOTQ2NjBiNmU2NzU1NWRiYTA3MGQ5KQogICAgICAgIDsKCiAgICAgICAgCiAgICAKICAgIAogICAgICAgICAgICB2YXIgY2lyY2xlX21hcmtlcl85ZGM0YjBhYjdlNTI0OTk0OWZiMDE1ZDUwYzc0ZjZjOCA9IEwuY2lyY2xlTWFya2VyKAogICAgICAgICAgICAgICAgWzQzLjcxMjc1MTEsIC03OS4zOTAxOTc1XSwKICAgICAgICAgICAgICAgIHsiYnViYmxpbmdNb3VzZUV2ZW50cyI6IHRydWUsICJjb2xvciI6ICJibHVlIiwgImRhc2hBcnJheSI6IG51bGwsICJkYXNoT2Zmc2V0IjogbnVsbCwgImZpbGwiOiB0cnVlLCAiZmlsbENvbG9yIjogIiMzMTg2Y2MiLCAiZmlsbE9wYWNpdHkiOiAwLjcsICJmaWxsUnVsZSI6ICJldmVub2RkIiwgImxpbmVDYXAiOiAicm91bmQiLCAibGluZUpvaW4iOiAicm91bmQiLCAib3BhY2l0eSI6IDEuMCwgInJhZGl1cyI6IDUsICJzdHJva2UiOiB0cnVlLCAid2VpZ2h0IjogM30KICAgICAgICAgICAgKS5hZGRUbyhtYXBfMTExYzg3MjJkODMwNDk0M2I4YTAxZjE0YzM0ZTFmMDMpOwogICAgICAgIAogICAgCiAgICAgICAgdmFyIHBvcHVwXzcyNzcwNjlhMTA0MjRkZGI5ZTViZDNlM2Q2NTE1NGRjID0gTC5wb3B1cCh7Im1heFdpZHRoIjogIjEwMCUifSk7CgogICAgICAgIAogICAgICAgICAgICB2YXIgaHRtbF8zMDE0YmRmZWZlNzY0NzVhYTQ1Y2VmNTU4OTEzYTIwNSA9ICQoYDxkaXYgaWQ9Imh0bWxfMzAxNGJkZmVmZTc2NDc1YWE0NWNlZjU1ODkxM2EyMDUiIHN0eWxlPSJ3aWR0aDogMTAwLjAlOyBoZWlnaHQ6IDEwMC4wJTsiPkRhdmlzdmlsbGUgTm9ydGg8L2Rpdj5gKVswXTsKICAgICAgICAgICAgcG9wdXBfNzI3NzA2OWExMDQyNGRkYjllNWJkM2UzZDY1MTU0ZGMuc2V0Q29udGVudChodG1sXzMwMTRiZGZlZmU3NjQ3NWFhNDVjZWY1NTg5MTNhMjA1KTsKICAgICAgICAKCiAgICAgICAgY2lyY2xlX21hcmtlcl85ZGM0YjBhYjdlNTI0OTk0OWZiMDE1ZDUwYzc0ZjZjOC5iaW5kUG9wdXAocG9wdXBfNzI3NzA2OWExMDQyNGRkYjllNWJkM2UzZDY1MTU0ZGMpCiAgICAgICAgOwoKICAgICAgICAKICAgIAogICAgCiAgICAgICAgICAgIHZhciBjaXJjbGVfbWFya2VyXzNjM2MwNmI3MmFhMDQ1ZjI4M2I2OGMyMjUzMWE3OTVkID0gTC5jaXJjbGVNYXJrZXIoCiAgICAgICAgICAgICAgICBbNDMuNzE1MzgzNCwgLTc5LjQwNTY3ODQwMDAwMDAxXSwKICAgICAgICAgICAgICAgIHsiYnViYmxpbmdNb3VzZUV2ZW50cyI6IHRydWUsICJjb2xvciI6ICJibHVlIiwgImRhc2hBcnJheSI6IG51bGwsICJkYXNoT2Zmc2V0IjogbnVsbCwgImZpbGwiOiB0cnVlLCAiZmlsbENvbG9yIjogIiMzMTg2Y2MiLCAiZmlsbE9wYWNpdHkiOiAwLjcsICJmaWxsUnVsZSI6ICJldmVub2RkIiwgImxpbmVDYXAiOiAicm91bmQiLCAibGluZUpvaW4iOiAicm91bmQiLCAib3BhY2l0eSI6IDEuMCwgInJhZGl1cyI6IDUsICJzdHJva2UiOiB0cnVlLCAid2VpZ2h0IjogM30KICAgICAgICAgICAgKS5hZGRUbyhtYXBfMTExYzg3MjJkODMwNDk0M2I4YTAxZjE0YzM0ZTFmMDMpOwogICAgICAgIAogICAgCiAgICAgICAgdmFyIHBvcHVwX2Y3M2EwN2Y4Y2QzMjRlOTI5MDY3NzM2NWE5N2JmOTYxID0gTC5wb3B1cCh7Im1heFdpZHRoIjogIjEwMCUifSk7CgogICAgICAgIAogICAgICAgICAgICB2YXIgaHRtbF85NGM2MWRkYjk4YTk0NDM4YTZlYTk1NTJiODQ5YTVjYyA9ICQoYDxkaXYgaWQ9Imh0bWxfOTRjNjFkZGI5OGE5NDQzOGE2ZWE5NTUyYjg0OWE1Y2MiIHN0eWxlPSJ3aWR0aDogMTAwLjAlOyBoZWlnaHQ6IDEwMC4wJTsiPk5vcnRoIFRvcm9udG8gV2VzdDwvZGl2PmApWzBdOwogICAgICAgICAgICBwb3B1cF9mNzNhMDdmOGNkMzI0ZTkyOTA2NzczNjVhOTdiZjk2MS5zZXRDb250ZW50KGh0bWxfOTRjNjFkZGI5OGE5NDQzOGE2ZWE5NTUyYjg0OWE1Y2MpOwogICAgICAgIAoKICAgICAgICBjaXJjbGVfbWFya2VyXzNjM2MwNmI3MmFhMDQ1ZjI4M2I2OGMyMjUzMWE3OTVkLmJpbmRQb3B1cChwb3B1cF9mNzNhMDdmOGNkMzI0ZTkyOTA2NzczNjVhOTdiZjk2MSkKICAgICAgICA7CgogICAgICAgIAogICAgCiAgICAKICAgICAgICAgICAgdmFyIGNpcmNsZV9tYXJrZXJfZmFhODhmZTY5ODRhNGVkZTljNmEzYzQyMGRkNTA2ZWUgPSBMLmNpcmNsZU1hcmtlcigKICAgICAgICAgICAgICAgIFs0My43MDQzMjQ0LCAtNzkuMzg4NzkwMV0sCiAgICAgICAgICAgICAgICB7ImJ1YmJsaW5nTW91c2VFdmVudHMiOiB0cnVlLCAiY29sb3IiOiAiYmx1ZSIsICJkYXNoQXJyYXkiOiBudWxsLCAiZGFzaE9mZnNldCI6IG51bGwsICJmaWxsIjogdHJ1ZSwgImZpbGxDb2xvciI6ICIjMzE4NmNjIiwgImZpbGxPcGFjaXR5IjogMC43LCAiZmlsbFJ1bGUiOiAiZXZlbm9kZCIsICJsaW5lQ2FwIjogInJvdW5kIiwgImxpbmVKb2luIjogInJvdW5kIiwgIm9wYWNpdHkiOiAxLjAsICJyYWRpdXMiOiA1LCAic3Ryb2tlIjogdHJ1ZSwgIndlaWdodCI6IDN9CiAgICAgICAgICAgICkuYWRkVG8obWFwXzExMWM4NzIyZDgzMDQ5NDNiOGEwMWYxNGMzNGUxZjAzKTsKICAgICAgICAKICAgIAogICAgICAgIHZhciBwb3B1cF81MjBiMjllYjMwZDY0OGEzOGUzOWIxODg1NGE0YTYzMSA9IEwucG9wdXAoeyJtYXhXaWR0aCI6ICIxMDAlIn0pOwoKICAgICAgICAKICAgICAgICAgICAgdmFyIGh0bWxfZTZhMjlmNzdhMTQ4NDUyYmJlNDkzZjRmNTMzM2EyZDQgPSAkKGA8ZGl2IGlkPSJodG1sX2U2YTI5Zjc3YTE0ODQ1MmJiZTQ5M2Y0ZjUzMzNhMmQ0IiBzdHlsZT0id2lkdGg6IDEwMC4wJTsgaGVpZ2h0OiAxMDAuMCU7Ij5EYXZpc3ZpbGxlPC9kaXY+YClbMF07CiAgICAgICAgICAgIHBvcHVwXzUyMGIyOWViMzBkNjQ4YTM4ZTM5YjE4ODU0YTRhNjMxLnNldENvbnRlbnQoaHRtbF9lNmEyOWY3N2ExNDg0NTJiYmU0OTNmNGY1MzMzYTJkNCk7CiAgICAgICAgCgogICAgICAgIGNpcmNsZV9tYXJrZXJfZmFhODhmZTY5ODRhNGVkZTljNmEzYzQyMGRkNTA2ZWUuYmluZFBvcHVwKHBvcHVwXzUyMGIyOWViMzBkNjQ4YTM4ZTM5YjE4ODU0YTRhNjMxKQogICAgICAgIDsKCiAgICAgICAgCiAgICAKICAgIAogICAgICAgICAgICB2YXIgY2lyY2xlX21hcmtlcl83MmY2MzllOWNkMjA0ZDc4YjNlYjIxMTIzNzM4OTA2ZCA9IEwuY2lyY2xlTWFya2VyKAogICAgICAgICAgICAgICAgWzQzLjY4OTU3NDMsIC03OS4zODMxNTk5MDAwMDAwMV0sCiAgICAgICAgICAgICAgICB7ImJ1YmJsaW5nTW91c2VFdmVudHMiOiB0cnVlLCAiY29sb3IiOiAiYmx1ZSIsICJkYXNoQXJyYXkiOiBudWxsLCAiZGFzaE9mZnNldCI6IG51bGwsICJmaWxsIjogdHJ1ZSwgImZpbGxDb2xvciI6ICIjMzE4NmNjIiwgImZpbGxPcGFjaXR5IjogMC43LCAiZmlsbFJ1bGUiOiAiZXZlbm9kZCIsICJsaW5lQ2FwIjogInJvdW5kIiwgImxpbmVKb2luIjogInJvdW5kIiwgIm9wYWNpdHkiOiAxLjAsICJyYWRpdXMiOiA1LCAic3Ryb2tlIjogdHJ1ZSwgIndlaWdodCI6IDN9CiAgICAgICAgICAgICkuYWRkVG8obWFwXzExMWM4NzIyZDgzMDQ5NDNiOGEwMWYxNGMzNGUxZjAzKTsKICAgICAgICAKICAgIAogICAgICAgIHZhciBwb3B1cF9lYWYzYjcwMjY5ZDk0MzU4YmM3OWQ3Mjc0MDVjN2U0NSA9IEwucG9wdXAoeyJtYXhXaWR0aCI6ICIxMDAlIn0pOwoKICAgICAgICAKICAgICAgICAgICAgdmFyIGh0bWxfOGFmYWY5ZDYwMTczNGRmZmE0NmUwZjczNjE3Mjk0N2MgPSAkKGA8ZGl2IGlkPSJodG1sXzhhZmFmOWQ2MDE3MzRkZmZhNDZlMGY3MzYxNzI5NDdjIiBzdHlsZT0id2lkdGg6IDEwMC4wJTsgaGVpZ2h0OiAxMDAuMCU7Ij5Nb29yZSBQYXJrLCBTdW1tZXJoaWxsIEVhc3Q8L2Rpdj5gKVswXTsKICAgICAgICAgICAgcG9wdXBfZWFmM2I3MDI2OWQ5NDM1OGJjNzlkNzI3NDA1YzdlNDUuc2V0Q29udGVudChodG1sXzhhZmFmOWQ2MDE3MzRkZmZhNDZlMGY3MzYxNzI5NDdjKTsKICAgICAgICAKCiAgICAgICAgY2lyY2xlX21hcmtlcl83MmY2MzllOWNkMjA0ZDc4YjNlYjIxMTIzNzM4OTA2ZC5iaW5kUG9wdXAocG9wdXBfZWFmM2I3MDI2OWQ5NDM1OGJjNzlkNzI3NDA1YzdlNDUpCiAgICAgICAgOwoKICAgICAgICAKICAgIAogICAgCiAgICAgICAgICAgIHZhciBjaXJjbGVfbWFya2VyXzc4YTUyMGQ0MzE0MTQxNDQ5MGZhZDAyN2EyMmE4MmFiID0gTC5jaXJjbGVNYXJrZXIoCiAgICAgICAgICAgICAgICBbNDMuNjg2NDEyMjk5OTk5OTksIC03OS40MDAwNDkzXSwKICAgICAgICAgICAgICAgIHsiYnViYmxpbmdNb3VzZUV2ZW50cyI6IHRydWUsICJjb2xvciI6ICJibHVlIiwgImRhc2hBcnJheSI6IG51bGwsICJkYXNoT2Zmc2V0IjogbnVsbCwgImZpbGwiOiB0cnVlLCAiZmlsbENvbG9yIjogIiMzMTg2Y2MiLCAiZmlsbE9wYWNpdHkiOiAwLjcsICJmaWxsUnVsZSI6ICJldmVub2RkIiwgImxpbmVDYXAiOiAicm91bmQiLCAibGluZUpvaW4iOiAicm91bmQiLCAib3BhY2l0eSI6IDEuMCwgInJhZGl1cyI6IDUsICJzdHJva2UiOiB0cnVlLCAid2VpZ2h0IjogM30KICAgICAgICAgICAgKS5hZGRUbyhtYXBfMTExYzg3MjJkODMwNDk0M2I4YTAxZjE0YzM0ZTFmMDMpOwogICAgICAgIAogICAgCiAgICAgICAgdmFyIHBvcHVwX2VmZDVlMDgwNDBhYjQ0NTRhY2Y0YTE0ZjJkZDY3MTRmID0gTC5wb3B1cCh7Im1heFdpZHRoIjogIjEwMCUifSk7CgogICAgICAgIAogICAgICAgICAgICB2YXIgaHRtbF83ZWU2NTQ1NjY3YmU0N2E2ODYzYjU5ZmQ3MzY2ZjljZiA9ICQoYDxkaXYgaWQ9Imh0bWxfN2VlNjU0NTY2N2JlNDdhNjg2M2I1OWZkNzM2NmY5Y2YiIHN0eWxlPSJ3aWR0aDogMTAwLjAlOyBoZWlnaHQ6IDEwMC4wJTsiPkRlZXIgUGFyaywgRm9yZXN0IEhpbGwgU0UsIFJhdGhuZWxseSwgU291dGggSGlsbCwgU3VtbWVyaGlsbCBXZXN0PC9kaXY+YClbMF07CiAgICAgICAgICAgIHBvcHVwX2VmZDVlMDgwNDBhYjQ0NTRhY2Y0YTE0ZjJkZDY3MTRmLnNldENvbnRlbnQoaHRtbF83ZWU2NTQ1NjY3YmU0N2E2ODYzYjU5ZmQ3MzY2ZjljZik7CiAgICAgICAgCgogICAgICAgIGNpcmNsZV9tYXJrZXJfNzhhNTIwZDQzMTQxNDE0NDkwZmFkMDI3YTIyYTgyYWIuYmluZFBvcHVwKHBvcHVwX2VmZDVlMDgwNDBhYjQ0NTRhY2Y0YTE0ZjJkZDY3MTRmKQogICAgICAgIDsKCiAgICAgICAgCiAgICAKICAgIAogICAgICAgICAgICB2YXIgY2lyY2xlX21hcmtlcl81Y2I2ZTYwNzI5NTQ0YmMyOGU3YTMwOTZhMTdlMGZkZSA9IEwuY2lyY2xlTWFya2VyKAogICAgICAgICAgICAgICAgWzQzLjY3OTU2MjYsIC03OS4zNzc1Mjk0MDAwMDAwMV0sCiAgICAgICAgICAgICAgICB7ImJ1YmJsaW5nTW91c2VFdmVudHMiOiB0cnVlLCAiY29sb3IiOiAiYmx1ZSIsICJkYXNoQXJyYXkiOiBudWxsLCAiZGFzaE9mZnNldCI6IG51bGwsICJmaWxsIjogdHJ1ZSwgImZpbGxDb2xvciI6ICIjMzE4NmNjIiwgImZpbGxPcGFjaXR5IjogMC43LCAiZmlsbFJ1bGUiOiAiZXZlbm9kZCIsICJsaW5lQ2FwIjogInJvdW5kIiwgImxpbmVKb2luIjogInJvdW5kIiwgIm9wYWNpdHkiOiAxLjAsICJyYWRpdXMiOiA1LCAic3Ryb2tlIjogdHJ1ZSwgIndlaWdodCI6IDN9CiAgICAgICAgICAgICkuYWRkVG8obWFwXzExMWM4NzIyZDgzMDQ5NDNiOGEwMWYxNGMzNGUxZjAzKTsKICAgICAgICAKICAgIAogICAgICAgIHZhciBwb3B1cF83NTIxMDczODAyNDE0NzhlOGYwNTIxYzQzYzc5NzRkMSA9IEwucG9wdXAoeyJtYXhXaWR0aCI6ICIxMDAlIn0pOwoKICAgICAgICAKICAgICAgICAgICAgdmFyIGh0bWxfMzQwZGM0NTU3MzVhNDAwYjkwNmMxOTdjZmFlNWU1YzcgPSAkKGA8ZGl2IGlkPSJodG1sXzM0MGRjNDU1NzM1YTQwMGI5MDZjMTk3Y2ZhZTVlNWM3IiBzdHlsZT0id2lkdGg6IDEwMC4wJTsgaGVpZ2h0OiAxMDAuMCU7Ij5Sb3NlZGFsZTwvZGl2PmApWzBdOwogICAgICAgICAgICBwb3B1cF83NTIxMDczODAyNDE0NzhlOGYwNTIxYzQzYzc5NzRkMS5zZXRDb250ZW50KGh0bWxfMzQwZGM0NTU3MzVhNDAwYjkwNmMxOTdjZmFlNWU1YzcpOwogICAgICAgIAoKICAgICAgICBjaXJjbGVfbWFya2VyXzVjYjZlNjA3Mjk1NDRiYzI4ZTdhMzA5NmExN2UwZmRlLmJpbmRQb3B1cChwb3B1cF83NTIxMDczODAyNDE0NzhlOGYwNTIxYzQzYzc5NzRkMSkKICAgICAgICA7CgogICAgICAgIAogICAgCiAgICAKICAgICAgICAgICAgdmFyIGNpcmNsZV9tYXJrZXJfOTkwNDVhNzE5ZWIxNDU5MmI3OWQxN2EyYmY5YmQ4MDEgPSBMLmNpcmNsZU1hcmtlcigKICAgICAgICAgICAgICAgIFs0My42Njc5NjcsIC03OS4zNjc2NzUzXSwKICAgICAgICAgICAgICAgIHsiYnViYmxpbmdNb3VzZUV2ZW50cyI6IHRydWUsICJjb2xvciI6ICJibHVlIiwgImRhc2hBcnJheSI6IG51bGwsICJkYXNoT2Zmc2V0IjogbnVsbCwgImZpbGwiOiB0cnVlLCAiZmlsbENvbG9yIjogIiMzMTg2Y2MiLCAiZmlsbE9wYWNpdHkiOiAwLjcsICJmaWxsUnVsZSI6ICJldmVub2RkIiwgImxpbmVDYXAiOiAicm91bmQiLCAibGluZUpvaW4iOiAicm91bmQiLCAib3BhY2l0eSI6IDEuMCwgInJhZGl1cyI6IDUsICJzdHJva2UiOiB0cnVlLCAid2VpZ2h0IjogM30KICAgICAgICAgICAgKS5hZGRUbyhtYXBfMTExYzg3MjJkODMwNDk0M2I4YTAxZjE0YzM0ZTFmMDMpOwogICAgICAgIAogICAgCiAgICAgICAgdmFyIHBvcHVwXzhkZTY1NDg4M2NmYjRlM2RhOTFhODVmNDUyYzlmNzQwID0gTC5wb3B1cCh7Im1heFdpZHRoIjogIjEwMCUifSk7CgogICAgICAgIAogICAgICAgICAgICB2YXIgaHRtbF9mMWQxOGFhYzJhYWQ0NDFhODhiZWUwNDVlZWYyOWZhZSA9ICQoYDxkaXYgaWQ9Imh0bWxfZjFkMThhYWMyYWFkNDQxYTg4YmVlMDQ1ZWVmMjlmYWUiIHN0eWxlPSJ3aWR0aDogMTAwLjAlOyBoZWlnaHQ6IDEwMC4wJTsiPkNhYmJhZ2V0b3duLCBTdC4gSmFtZXMgVG93bjwvZGl2PmApWzBdOwogICAgICAgICAgICBwb3B1cF84ZGU2NTQ4ODNjZmI0ZTNkYTkxYTg1ZjQ1MmM5Zjc0MC5zZXRDb250ZW50KGh0bWxfZjFkMThhYWMyYWFkNDQxYTg4YmVlMDQ1ZWVmMjlmYWUpOwogICAgICAgIAoKICAgICAgICBjaXJjbGVfbWFya2VyXzk5MDQ1YTcxOWViMTQ1OTJiNzlkMTdhMmJmOWJkODAxLmJpbmRQb3B1cChwb3B1cF84ZGU2NTQ4ODNjZmI0ZTNkYTkxYTg1ZjQ1MmM5Zjc0MCkKICAgICAgICA7CgogICAgICAgIAogICAgCiAgICAKICAgICAgICAgICAgdmFyIGNpcmNsZV9tYXJrZXJfZGQ1OGQ2MWFhZjNkNDM0MTgzMjFhZGVmYzQ3ODJkZGIgPSBMLmNpcmNsZU1hcmtlcigKICAgICAgICAgICAgICAgIFs0My42NjU4NTk5LCAtNzkuMzgzMTU5OTAwMDAwMDFdLAogICAgICAgICAgICAgICAgeyJidWJibGluZ01vdXNlRXZlbnRzIjogdHJ1ZSwgImNvbG9yIjogImJsdWUiLCAiZGFzaEFycmF5IjogbnVsbCwgImRhc2hPZmZzZXQiOiBudWxsLCAiZmlsbCI6IHRydWUsICJmaWxsQ29sb3IiOiAiIzMxODZjYyIsICJmaWxsT3BhY2l0eSI6IDAuNywgImZpbGxSdWxlIjogImV2ZW5vZGQiLCAibGluZUNhcCI6ICJyb3VuZCIsICJsaW5lSm9pbiI6ICJyb3VuZCIsICJvcGFjaXR5IjogMS4wLCAicmFkaXVzIjogNSwgInN0cm9rZSI6IHRydWUsICJ3ZWlnaHQiOiAzfQogICAgICAgICAgICApLmFkZFRvKG1hcF8xMTFjODcyMmQ4MzA0OTQzYjhhMDFmMTRjMzRlMWYwMyk7CiAgICAgICAgCiAgICAKICAgICAgICB2YXIgcG9wdXBfM2VjYTc4MGZmMmY0NGFjN2JkNmFhZTZkZDM2MWIwOTkgPSBMLnBvcHVwKHsibWF4V2lkdGgiOiAiMTAwJSJ9KTsKCiAgICAgICAgCiAgICAgICAgICAgIHZhciBodG1sX2JiZDEwYzBiNDRkMzQ1NzA5ZDNjYjM3MDViNjgzYTkwID0gJChgPGRpdiBpZD0iaHRtbF9iYmQxMGMwYjQ0ZDM0NTcwOWQzY2IzNzA1YjY4M2E5MCIgc3R5bGU9IndpZHRoOiAxMDAuMCU7IGhlaWdodDogMTAwLjAlOyI+Q2h1cmNoIGFuZCBXZWxsZXNsZXk8L2Rpdj5gKVswXTsKICAgICAgICAgICAgcG9wdXBfM2VjYTc4MGZmMmY0NGFjN2JkNmFhZTZkZDM2MWIwOTkuc2V0Q29udGVudChodG1sX2JiZDEwYzBiNDRkMzQ1NzA5ZDNjYjM3MDViNjgzYTkwKTsKICAgICAgICAKCiAgICAgICAgY2lyY2xlX21hcmtlcl9kZDU4ZDYxYWFmM2Q0MzQxODMyMWFkZWZjNDc4MmRkYi5iaW5kUG9wdXAocG9wdXBfM2VjYTc4MGZmMmY0NGFjN2JkNmFhZTZkZDM2MWIwOTkpCiAgICAgICAgOwoKICAgICAgICAKICAgIAogICAgCiAgICAgICAgICAgIHZhciBjaXJjbGVfbWFya2VyXzA0ODJmNzhkMjk5ZTRjYTc5NTNjMGVlYzI2ZWE2MjRmID0gTC5jaXJjbGVNYXJrZXIoCiAgICAgICAgICAgICAgICBbNDMuNjU0MjU5OSwgLTc5LjM2MDYzNTldLAogICAgICAgICAgICAgICAgeyJidWJibGluZ01vdXNlRXZlbnRzIjogdHJ1ZSwgImNvbG9yIjogImJsdWUiLCAiZGFzaEFycmF5IjogbnVsbCwgImRhc2hPZmZzZXQiOiBudWxsLCAiZmlsbCI6IHRydWUsICJmaWxsQ29sb3IiOiAiIzMxODZjYyIsICJmaWxsT3BhY2l0eSI6IDAuNywgImZpbGxSdWxlIjogImV2ZW5vZGQiLCAibGluZUNhcCI6ICJyb3VuZCIsICJsaW5lSm9pbiI6ICJyb3VuZCIsICJvcGFjaXR5IjogMS4wLCAicmFkaXVzIjogNSwgInN0cm9rZSI6IHRydWUsICJ3ZWlnaHQiOiAzfQogICAgICAgICAgICApLmFkZFRvKG1hcF8xMTFjODcyMmQ4MzA0OTQzYjhhMDFmMTRjMzRlMWYwMyk7CiAgICAgICAgCiAgICAKICAgICAgICB2YXIgcG9wdXBfMTU2ZGY4YWMzYTkyNGI5M2I3Zjk5ZWJjNzg0YTBlY2QgPSBMLnBvcHVwKHsibWF4V2lkdGgiOiAiMTAwJSJ9KTsKCiAgICAgICAgCiAgICAgICAgICAgIHZhciBodG1sXzE0Y2U1NmI2ZDQ2NDRhYTRhZGEzMDA0MTkyMjBjZjZlID0gJChgPGRpdiBpZD0iaHRtbF8xNGNlNTZiNmQ0NjQ0YWE0YWRhMzAwNDE5MjIwY2Y2ZSIgc3R5bGU9IndpZHRoOiAxMDAuMCU7IGhlaWdodDogMTAwLjAlOyI+SGFyYm91cmZyb250PC9kaXY+YClbMF07CiAgICAgICAgICAgIHBvcHVwXzE1NmRmOGFjM2E5MjRiOTNiN2Y5OWViYzc4NGEwZWNkLnNldENvbnRlbnQoaHRtbF8xNGNlNTZiNmQ0NjQ0YWE0YWRhMzAwNDE5MjIwY2Y2ZSk7CiAgICAgICAgCgogICAgICAgIGNpcmNsZV9tYXJrZXJfMDQ4MmY3OGQyOTllNGNhNzk1M2MwZWVjMjZlYTYyNGYuYmluZFBvcHVwKHBvcHVwXzE1NmRmOGFjM2E5MjRiOTNiN2Y5OWViYzc4NGEwZWNkKQogICAgICAgIDsKCiAgICAgICAgCiAgICAKICAgIAogICAgICAgICAgICB2YXIgY2lyY2xlX21hcmtlcl9jMDhkNWZhYWRmMDk0OWU1OGQ5NGFlODQ4ZGNmMzdlMiA9IEwuY2lyY2xlTWFya2VyKAogICAgICAgICAgICAgICAgWzQzLjY1NzE2MTgsIC03OS4zNzg5MzcwOTk5OTk5OV0sCiAgICAgICAgICAgICAgICB7ImJ1YmJsaW5nTW91c2VFdmVudHMiOiB0cnVlLCAiY29sb3IiOiAiYmx1ZSIsICJkYXNoQXJyYXkiOiBudWxsLCAiZGFzaE9mZnNldCI6IG51bGwsICJmaWxsIjogdHJ1ZSwgImZpbGxDb2xvciI6ICIjMzE4NmNjIiwgImZpbGxPcGFjaXR5IjogMC43LCAiZmlsbFJ1bGUiOiAiZXZlbm9kZCIsICJsaW5lQ2FwIjogInJvdW5kIiwgImxpbmVKb2luIjogInJvdW5kIiwgIm9wYWNpdHkiOiAxLjAsICJyYWRpdXMiOiA1LCAic3Ryb2tlIjogdHJ1ZSwgIndlaWdodCI6IDN9CiAgICAgICAgICAgICkuYWRkVG8obWFwXzExMWM4NzIyZDgzMDQ5NDNiOGEwMWYxNGMzNGUxZjAzKTsKICAgICAgICAKICAgIAogICAgICAgIHZhciBwb3B1cF84NjNjYzVmMTBiOTU0M2Q0OTliZmM4MTdlZGQ1NTQxMiA9IEwucG9wdXAoeyJtYXhXaWR0aCI6ICIxMDAlIn0pOwoKICAgICAgICAKICAgICAgICAgICAgdmFyIGh0bWxfZGZhZGMwMzFlY2Y1NGE4YzhiZGViZjhmMzBkMGM2ZWMgPSAkKGA8ZGl2IGlkPSJodG1sX2RmYWRjMDMxZWNmNTRhOGM4YmRlYmY4ZjMwZDBjNmVjIiBzdHlsZT0id2lkdGg6IDEwMC4wJTsgaGVpZ2h0OiAxMDAuMCU7Ij5SeWVyc29uLCBHYXJkZW4gRGlzdHJpY3Q8L2Rpdj5gKVswXTsKICAgICAgICAgICAgcG9wdXBfODYzY2M1ZjEwYjk1NDNkNDk5YmZjODE3ZWRkNTU0MTIuc2V0Q29udGVudChodG1sX2RmYWRjMDMxZWNmNTRhOGM4YmRlYmY4ZjMwZDBjNmVjKTsKICAgICAgICAKCiAgICAgICAgY2lyY2xlX21hcmtlcl9jMDhkNWZhYWRmMDk0OWU1OGQ5NGFlODQ4ZGNmMzdlMi5iaW5kUG9wdXAocG9wdXBfODYzY2M1ZjEwYjk1NDNkNDk5YmZjODE3ZWRkNTU0MTIpCiAgICAgICAgOwoKICAgICAgICAKICAgIAogICAgCiAgICAgICAgICAgIHZhciBjaXJjbGVfbWFya2VyXzQyYTA2ZDcyYjc2OTQyYjE5NTI2M2ZjYmE5OTljZTMyID0gTC5jaXJjbGVNYXJrZXIoCiAgICAgICAgICAgICAgICBbNDMuNjUxNDkzOSwgLTc5LjM3NTQxNzldLAogICAgICAgICAgICAgICAgeyJidWJibGluZ01vdXNlRXZlbnRzIjogdHJ1ZSwgImNvbG9yIjogImJsdWUiLCAiZGFzaEFycmF5IjogbnVsbCwgImRhc2hPZmZzZXQiOiBudWxsLCAiZmlsbCI6IHRydWUsICJmaWxsQ29sb3IiOiAiIzMxODZjYyIsICJmaWxsT3BhY2l0eSI6IDAuNywgImZpbGxSdWxlIjogImV2ZW5vZGQiLCAibGluZUNhcCI6ICJyb3VuZCIsICJsaW5lSm9pbiI6ICJyb3VuZCIsICJvcGFjaXR5IjogMS4wLCAicmFkaXVzIjogNSwgInN0cm9rZSI6IHRydWUsICJ3ZWlnaHQiOiAzfQogICAgICAgICAgICApLmFkZFRvKG1hcF8xMTFjODcyMmQ4MzA0OTQzYjhhMDFmMTRjMzRlMWYwMyk7CiAgICAgICAgCiAgICAKICAgICAgICB2YXIgcG9wdXBfMmNlMGQyM2RlYmU4NGZlOWFiMmYzNDYxOGUxNTI4ZTQgPSBMLnBvcHVwKHsibWF4V2lkdGgiOiAiMTAwJSJ9KTsKCiAgICAgICAgCiAgICAgICAgICAgIHZhciBodG1sX2VhZDhmMDJmNDc0NzRmOWI4YTE2YzY3ZmM2NzdhMWYzID0gJChgPGRpdiBpZD0iaHRtbF9lYWQ4ZjAyZjQ3NDc0ZjliOGExNmM2N2ZjNjc3YTFmMyIgc3R5bGU9IndpZHRoOiAxMDAuMCU7IGhlaWdodDogMTAwLjAlOyI+U3QuIEphbWVzIFRvd248L2Rpdj5gKVswXTsKICAgICAgICAgICAgcG9wdXBfMmNlMGQyM2RlYmU4NGZlOWFiMmYzNDYxOGUxNTI4ZTQuc2V0Q29udGVudChodG1sX2VhZDhmMDJmNDc0NzRmOWI4YTE2YzY3ZmM2NzdhMWYzKTsKICAgICAgICAKCiAgICAgICAgY2lyY2xlX21hcmtlcl80MmEwNmQ3MmI3Njk0MmIxOTUyNjNmY2JhOTk5Y2UzMi5iaW5kUG9wdXAocG9wdXBfMmNlMGQyM2RlYmU4NGZlOWFiMmYzNDYxOGUxNTI4ZTQpCiAgICAgICAgOwoKICAgICAgICAKICAgIAogICAgCiAgICAgICAgICAgIHZhciBjaXJjbGVfbWFya2VyX2IxMmZhMzkzZDNlOTRjYzI4NTg3ZWMxNjZkYWJiNTIwID0gTC5jaXJjbGVNYXJrZXIoCiAgICAgICAgICAgICAgICBbNDMuNjQ0NzcwNzk5OTk5OTk2LCAtNzkuMzczMzA2NF0sCiAgICAgICAgICAgICAgICB7ImJ1YmJsaW5nTW91c2VFdmVudHMiOiB0cnVlLCAiY29sb3IiOiAiYmx1ZSIsICJkYXNoQXJyYXkiOiBudWxsLCAiZGFzaE9mZnNldCI6IG51bGwsICJmaWxsIjogdHJ1ZSwgImZpbGxDb2xvciI6ICIjMzE4NmNjIiwgImZpbGxPcGFjaXR5IjogMC43LCAiZmlsbFJ1bGUiOiAiZXZlbm9kZCIsICJsaW5lQ2FwIjogInJvdW5kIiwgImxpbmVKb2luIjogInJvdW5kIiwgIm9wYWNpdHkiOiAxLjAsICJyYWRpdXMiOiA1LCAic3Ryb2tlIjogdHJ1ZSwgIndlaWdodCI6IDN9CiAgICAgICAgICAgICkuYWRkVG8obWFwXzExMWM4NzIyZDgzMDQ5NDNiOGEwMWYxNGMzNGUxZjAzKTsKICAgICAgICAKICAgIAogICAgICAgIHZhciBwb3B1cF9lNTIzNzVkZTNlNTU0MWI4ODY1Mzk0YWI4MjYyYTllMSA9IEwucG9wdXAoeyJtYXhXaWR0aCI6ICIxMDAlIn0pOwoKICAgICAgICAKICAgICAgICAgICAgdmFyIGh0bWxfZWM4MGI2OThmNmJkNDE1MGE4ZjhkMTczYjQ2YzNiMzUgPSAkKGA8ZGl2IGlkPSJodG1sX2VjODBiNjk4ZjZiZDQxNTBhOGY4ZDE3M2I0NmMzYjM1IiBzdHlsZT0id2lkdGg6IDEwMC4wJTsgaGVpZ2h0OiAxMDAuMCU7Ij5CZXJjenkgUGFyazwvZGl2PmApWzBdOwogICAgICAgICAgICBwb3B1cF9lNTIzNzVkZTNlNTU0MWI4ODY1Mzk0YWI4MjYyYTllMS5zZXRDb250ZW50KGh0bWxfZWM4MGI2OThmNmJkNDE1MGE4ZjhkMTczYjQ2YzNiMzUpOwogICAgICAgIAoKICAgICAgICBjaXJjbGVfbWFya2VyX2IxMmZhMzkzZDNlOTRjYzI4NTg3ZWMxNjZkYWJiNTIwLmJpbmRQb3B1cChwb3B1cF9lNTIzNzVkZTNlNTU0MWI4ODY1Mzk0YWI4MjYyYTllMSkKICAgICAgICA7CgogICAgICAgIAogICAgCiAgICAKICAgICAgICAgICAgdmFyIGNpcmNsZV9tYXJrZXJfYTM1MTRiZTgxNThkNGI0NDk1NmNlNmRiYTQyNGZhY2MgPSBMLmNpcmNsZU1hcmtlcigKICAgICAgICAgICAgICAgIFs0My42NTc5NTI0LCAtNzkuMzg3MzgyNl0sCiAgICAgICAgICAgICAgICB7ImJ1YmJsaW5nTW91c2VFdmVudHMiOiB0cnVlLCAiY29sb3IiOiAiYmx1ZSIsICJkYXNoQXJyYXkiOiBudWxsLCAiZGFzaE9mZnNldCI6IG51bGwsICJmaWxsIjogdHJ1ZSwgImZpbGxDb2xvciI6ICIjMzE4NmNjIiwgImZpbGxPcGFjaXR5IjogMC43LCAiZmlsbFJ1bGUiOiAiZXZlbm9kZCIsICJsaW5lQ2FwIjogInJvdW5kIiwgImxpbmVKb2luIjogInJvdW5kIiwgIm9wYWNpdHkiOiAxLjAsICJyYWRpdXMiOiA1LCAic3Ryb2tlIjogdHJ1ZSwgIndlaWdodCI6IDN9CiAgICAgICAgICAgICkuYWRkVG8obWFwXzExMWM4NzIyZDgzMDQ5NDNiOGEwMWYxNGMzNGUxZjAzKTsKICAgICAgICAKICAgIAogICAgICAgIHZhciBwb3B1cF8zMzhlZDQxMjg1NTE0NjcyYWRiN2Y4NTFhZGUwOTRkZCA9IEwucG9wdXAoeyJtYXhXaWR0aCI6ICIxMDAlIn0pOwoKICAgICAgICAKICAgICAgICAgICAgdmFyIGh0bWxfOTM2ZmI0OWY3OGFlNDVhZDllMjJmMzg3MWQ0NWFkMWEgPSAkKGA8ZGl2IGlkPSJodG1sXzkzNmZiNDlmNzhhZTQ1YWQ5ZTIyZjM4NzFkNDVhZDFhIiBzdHlsZT0id2lkdGg6IDEwMC4wJTsgaGVpZ2h0OiAxMDAuMCU7Ij5DZW50cmFsIEJheSBTdHJlZXQ8L2Rpdj5gKVswXTsKICAgICAgICAgICAgcG9wdXBfMzM4ZWQ0MTI4NTUxNDY3MmFkYjdmODUxYWRlMDk0ZGQuc2V0Q29udGVudChodG1sXzkzNmZiNDlmNzhhZTQ1YWQ5ZTIyZjM4NzFkNDVhZDFhKTsKICAgICAgICAKCiAgICAgICAgY2lyY2xlX21hcmtlcl9hMzUxNGJlODE1OGQ0YjQ0OTU2Y2U2ZGJhNDI0ZmFjYy5iaW5kUG9wdXAocG9wdXBfMzM4ZWQ0MTI4NTUxNDY3MmFkYjdmODUxYWRlMDk0ZGQpCiAgICAgICAgOwoKICAgICAgICAKICAgIAogICAgCiAgICAgICAgICAgIHZhciBjaXJjbGVfbWFya2VyX2E3ODliMWFlMTM1ODQyMmRiODgwNzM1ZWFkM2VlZmRhID0gTC5jaXJjbGVNYXJrZXIoCiAgICAgICAgICAgICAgICBbNDMuNjUwNTcxMjAwMDAwMDEsIC03OS4zODQ1Njc1XSwKICAgICAgICAgICAgICAgIHsiYnViYmxpbmdNb3VzZUV2ZW50cyI6IHRydWUsICJjb2xvciI6ICJibHVlIiwgImRhc2hBcnJheSI6IG51bGwsICJkYXNoT2Zmc2V0IjogbnVsbCwgImZpbGwiOiB0cnVlLCAiZmlsbENvbG9yIjogIiMzMTg2Y2MiLCAiZmlsbE9wYWNpdHkiOiAwLjcsICJmaWxsUnVsZSI6ICJldmVub2RkIiwgImxpbmVDYXAiOiAicm91bmQiLCAibGluZUpvaW4iOiAicm91bmQiLCAib3BhY2l0eSI6IDEuMCwgInJhZGl1cyI6IDUsICJzdHJva2UiOiB0cnVlLCAid2VpZ2h0IjogM30KICAgICAgICAgICAgKS5hZGRUbyhtYXBfMTExYzg3MjJkODMwNDk0M2I4YTAxZjE0YzM0ZTFmMDMpOwogICAgICAgIAogICAgCiAgICAgICAgdmFyIHBvcHVwX2NlMTVjOWRkYTc5ODQ3YjhiM2QwYWQ2ODg3ODAwZTNiID0gTC5wb3B1cCh7Im1heFdpZHRoIjogIjEwMCUifSk7CgogICAgICAgIAogICAgICAgICAgICB2YXIgaHRtbF9lNmU5YWJhYmQ2NWY0MzI3YjExMjE2MDMzNmFjMzk3YSA9ICQoYDxkaXYgaWQ9Imh0bWxfZTZlOWFiYWJkNjVmNDMyN2IxMTIxNjAzMzZhYzM5N2EiIHN0eWxlPSJ3aWR0aDogMTAwLjAlOyBoZWlnaHQ6IDEwMC4wJTsiPkFkZWxhaWRlLCBLaW5nLCBSaWNobW9uZDwvZGl2PmApWzBdOwogICAgICAgICAgICBwb3B1cF9jZTE1YzlkZGE3OTg0N2I4YjNkMGFkNjg4NzgwMGUzYi5zZXRDb250ZW50KGh0bWxfZTZlOWFiYWJkNjVmNDMyN2IxMTIxNjAzMzZhYzM5N2EpOwogICAgICAgIAoKICAgICAgICBjaXJjbGVfbWFya2VyX2E3ODliMWFlMTM1ODQyMmRiODgwNzM1ZWFkM2VlZmRhLmJpbmRQb3B1cChwb3B1cF9jZTE1YzlkZGE3OTg0N2I4YjNkMGFkNjg4NzgwMGUzYikKICAgICAgICA7CgogICAgICAgIAogICAgCiAgICAKICAgICAgICAgICAgdmFyIGNpcmNsZV9tYXJrZXJfMWZiZDYzZDFhNTczNGY3ODljMjJkZjA0NjIwN2JiNTcgPSBMLmNpcmNsZU1hcmtlcigKICAgICAgICAgICAgICAgIFs0My42NDA4MTU3LCAtNzkuMzgxNzUyMjk5OTk5OTldLAogICAgICAgICAgICAgICAgeyJidWJibGluZ01vdXNlRXZlbnRzIjogdHJ1ZSwgImNvbG9yIjogImJsdWUiLCAiZGFzaEFycmF5IjogbnVsbCwgImRhc2hPZmZzZXQiOiBudWxsLCAiZmlsbCI6IHRydWUsICJmaWxsQ29sb3IiOiAiIzMxODZjYyIsICJmaWxsT3BhY2l0eSI6IDAuNywgImZpbGxSdWxlIjogImV2ZW5vZGQiLCAibGluZUNhcCI6ICJyb3VuZCIsICJsaW5lSm9pbiI6ICJyb3VuZCIsICJvcGFjaXR5IjogMS4wLCAicmFkaXVzIjogNSwgInN0cm9rZSI6IHRydWUsICJ3ZWlnaHQiOiAzfQogICAgICAgICAgICApLmFkZFRvKG1hcF8xMTFjODcyMmQ4MzA0OTQzYjhhMDFmMTRjMzRlMWYwMyk7CiAgICAgICAgCiAgICAKICAgICAgICB2YXIgcG9wdXBfMDY4Nzg0YTk1OTI4NDBhNjhiOWU5Y2M4YWY2YmJmMDIgPSBMLnBvcHVwKHsibWF4V2lkdGgiOiAiMTAwJSJ9KTsKCiAgICAgICAgCiAgICAgICAgICAgIHZhciBodG1sXzBjMTkyMjY1MTYzMTQxYzNiZjRmMjI4NGYyOTliZWMyID0gJChgPGRpdiBpZD0iaHRtbF8wYzE5MjI2NTE2MzE0MWMzYmY0ZjIyODRmMjk5YmVjMiIgc3R5bGU9IndpZHRoOiAxMDAuMCU7IGhlaWdodDogMTAwLjAlOyI+SGFyYm91cmZyb250IEVhc3QsIFRvcm9udG8gSXNsYW5kcywgVW5pb24gU3RhdGlvbjwvZGl2PmApWzBdOwogICAgICAgICAgICBwb3B1cF8wNjg3ODRhOTU5Mjg0MGE2OGI5ZTljYzhhZjZiYmYwMi5zZXRDb250ZW50KGh0bWxfMGMxOTIyNjUxNjMxNDFjM2JmNGYyMjg0ZjI5OWJlYzIpOwogICAgICAgIAoKICAgICAgICBjaXJjbGVfbWFya2VyXzFmYmQ2M2QxYTU3MzRmNzg5YzIyZGYwNDYyMDdiYjU3LmJpbmRQb3B1cChwb3B1cF8wNjg3ODRhOTU5Mjg0MGE2OGI5ZTljYzhhZjZiYmYwMikKICAgICAgICA7CgogICAgICAgIAogICAgCiAgICAKICAgICAgICAgICAgdmFyIGNpcmNsZV9tYXJrZXJfM2U2MjE1NzYwZGNkNDcwNTkzOGVjMWEzZjcxOWYyY2MgPSBMLmNpcmNsZU1hcmtlcigKICAgICAgICAgICAgICAgIFs0My42NDcxNzY4LCAtNzkuMzgxNTc2NDAwMDAwMDFdLAogICAgICAgICAgICAgICAgeyJidWJibGluZ01vdXNlRXZlbnRzIjogdHJ1ZSwgImNvbG9yIjogImJsdWUiLCAiZGFzaEFycmF5IjogbnVsbCwgImRhc2hPZmZzZXQiOiBudWxsLCAiZmlsbCI6IHRydWUsICJmaWxsQ29sb3IiOiAiIzMxODZjYyIsICJmaWxsT3BhY2l0eSI6IDAuNywgImZpbGxSdWxlIjogImV2ZW5vZGQiLCAibGluZUNhcCI6ICJyb3VuZCIsICJsaW5lSm9pbiI6ICJyb3VuZCIsICJvcGFjaXR5IjogMS4wLCAicmFkaXVzIjogNSwgInN0cm9rZSI6IHRydWUsICJ3ZWlnaHQiOiAzfQogICAgICAgICAgICApLmFkZFRvKG1hcF8xMTFjODcyMmQ4MzA0OTQzYjhhMDFmMTRjMzRlMWYwMyk7CiAgICAgICAgCiAgICAKICAgICAgICB2YXIgcG9wdXBfMDg3Mjc4ZTViOGVhNDA0NGEwNWExNWZiMTA2NjQ2YTYgPSBMLnBvcHVwKHsibWF4V2lkdGgiOiAiMTAwJSJ9KTsKCiAgICAgICAgCiAgICAgICAgICAgIHZhciBodG1sXzdlYTFhNmFjMDAyODRlMWNhMTE0MmFlMzNkNjFmMjYxID0gJChgPGRpdiBpZD0iaHRtbF83ZWExYTZhYzAwMjg0ZTFjYTExNDJhZTMzZDYxZjI2MSIgc3R5bGU9IndpZHRoOiAxMDAuMCU7IGhlaWdodDogMTAwLjAlOyI+RGVzaWduIEV4Y2hhbmdlLCBUb3JvbnRvIERvbWluaW9uIENlbnRyZTwvZGl2PmApWzBdOwogICAgICAgICAgICBwb3B1cF8wODcyNzhlNWI4ZWE0MDQ0YTA1YTE1ZmIxMDY2NDZhNi5zZXRDb250ZW50KGh0bWxfN2VhMWE2YWMwMDI4NGUxY2ExMTQyYWUzM2Q2MWYyNjEpOwogICAgICAgIAoKICAgICAgICBjaXJjbGVfbWFya2VyXzNlNjIxNTc2MGRjZDQ3MDU5MzhlYzFhM2Y3MTlmMmNjLmJpbmRQb3B1cChwb3B1cF8wODcyNzhlNWI4ZWE0MDQ0YTA1YTE1ZmIxMDY2NDZhNikKICAgICAgICA7CgogICAgICAgIAogICAgCiAgICAKICAgICAgICAgICAgdmFyIGNpcmNsZV9tYXJrZXJfYjhhMGIxODBmMWY5NDI1M2I5ZDhiNTY3MDk1NDQ2ZTUgPSBMLmNpcmNsZU1hcmtlcigKICAgICAgICAgICAgICAgIFs0My42NDgxOTg1LCAtNzkuMzc5ODE2OTAwMDAwMDFdLAogICAgICAgICAgICAgICAgeyJidWJibGluZ01vdXNlRXZlbnRzIjogdHJ1ZSwgImNvbG9yIjogImJsdWUiLCAiZGFzaEFycmF5IjogbnVsbCwgImRhc2hPZmZzZXQiOiBudWxsLCAiZmlsbCI6IHRydWUsICJmaWxsQ29sb3IiOiAiIzMxODZjYyIsICJmaWxsT3BhY2l0eSI6IDAuNywgImZpbGxSdWxlIjogImV2ZW5vZGQiLCAibGluZUNhcCI6ICJyb3VuZCIsICJsaW5lSm9pbiI6ICJyb3VuZCIsICJvcGFjaXR5IjogMS4wLCAicmFkaXVzIjogNSwgInN0cm9rZSI6IHRydWUsICJ3ZWlnaHQiOiAzfQogICAgICAgICAgICApLmFkZFRvKG1hcF8xMTFjODcyMmQ4MzA0OTQzYjhhMDFmMTRjMzRlMWYwMyk7CiAgICAgICAgCiAgICAKICAgICAgICB2YXIgcG9wdXBfYmM3YTk0NTg3MDYwNDk3NDk4NmU0MGE0MmIyNWMwOWEgPSBMLnBvcHVwKHsibWF4V2lkdGgiOiAiMTAwJSJ9KTsKCiAgICAgICAgCiAgICAgICAgICAgIHZhciBodG1sX2JmMjczYWY5YTQ1YTQ4OWVhYjFhNjk5Y2U5ODE0MWQ3ID0gJChgPGRpdiBpZD0iaHRtbF9iZjI3M2FmOWE0NWE0ODllYWIxYTY5OWNlOTgxNDFkNyIgc3R5bGU9IndpZHRoOiAxMDAuMCU7IGhlaWdodDogMTAwLjAlOyI+Q29tbWVyY2UgQ291cnQsIFZpY3RvcmlhIEhvdGVsPC9kaXY+YClbMF07CiAgICAgICAgICAgIHBvcHVwX2JjN2E5NDU4NzA2MDQ5NzQ5ODZlNDBhNDJiMjVjMDlhLnNldENvbnRlbnQoaHRtbF9iZjI3M2FmOWE0NWE0ODllYWIxYTY5OWNlOTgxNDFkNyk7CiAgICAgICAgCgogICAgICAgIGNpcmNsZV9tYXJrZXJfYjhhMGIxODBmMWY5NDI1M2I5ZDhiNTY3MDk1NDQ2ZTUuYmluZFBvcHVwKHBvcHVwX2JjN2E5NDU4NzA2MDQ5NzQ5ODZlNDBhNDJiMjVjMDlhKQogICAgICAgIDsKCiAgICAgICAgCiAgICAKICAgIAogICAgICAgICAgICB2YXIgY2lyY2xlX21hcmtlcl8wZjE1OGU1YmFkZDY0ODg2Yjc3MzQyMzc2OWUyMzU2MiA9IEwuY2lyY2xlTWFya2VyKAogICAgICAgICAgICAgICAgWzQzLjczMzI4MjUsIC03OS40MTk3NDk3XSwKICAgICAgICAgICAgICAgIHsiYnViYmxpbmdNb3VzZUV2ZW50cyI6IHRydWUsICJjb2xvciI6ICJibHVlIiwgImRhc2hBcnJheSI6IG51bGwsICJkYXNoT2Zmc2V0IjogbnVsbCwgImZpbGwiOiB0cnVlLCAiZmlsbENvbG9yIjogIiMzMTg2Y2MiLCAiZmlsbE9wYWNpdHkiOiAwLjcsICJmaWxsUnVsZSI6ICJldmVub2RkIiwgImxpbmVDYXAiOiAicm91bmQiLCAibGluZUpvaW4iOiAicm91bmQiLCAib3BhY2l0eSI6IDEuMCwgInJhZGl1cyI6IDUsICJzdHJva2UiOiB0cnVlLCAid2VpZ2h0IjogM30KICAgICAgICAgICAgKS5hZGRUbyhtYXBfMTExYzg3MjJkODMwNDk0M2I4YTAxZjE0YzM0ZTFmMDMpOwogICAgICAgIAogICAgCiAgICAgICAgdmFyIHBvcHVwXzRlZDI0ZDE5NjI1YTQ2YjJiMTBiN2MwZTcwODFhNGUyID0gTC5wb3B1cCh7Im1heFdpZHRoIjogIjEwMCUifSk7CgogICAgICAgIAogICAgICAgICAgICB2YXIgaHRtbF9kNzIzMmI1NDI4YTY0NjRlOTZjNzlmZWMyMDM1MDg1ZiA9ICQoYDxkaXYgaWQ9Imh0bWxfZDcyMzJiNTQyOGE2NDY0ZTk2Yzc5ZmVjMjAzNTA4NWYiIHN0eWxlPSJ3aWR0aDogMTAwLjAlOyBoZWlnaHQ6IDEwMC4wJTsiPkJlZGZvcmQgUGFyaywgTGF3cmVuY2UgTWFub3IgRWFzdDwvZGl2PmApWzBdOwogICAgICAgICAgICBwb3B1cF80ZWQyNGQxOTYyNWE0NmIyYjEwYjdjMGU3MDgxYTRlMi5zZXRDb250ZW50KGh0bWxfZDcyMzJiNTQyOGE2NDY0ZTk2Yzc5ZmVjMjAzNTA4NWYpOwogICAgICAgIAoKICAgICAgICBjaXJjbGVfbWFya2VyXzBmMTU4ZTViYWRkNjQ4ODZiNzczNDIzNzY5ZTIzNTYyLmJpbmRQb3B1cChwb3B1cF80ZWQyNGQxOTYyNWE0NmIyYjEwYjdjMGU3MDgxYTRlMikKICAgICAgICA7CgogICAgICAgIAogICAgCiAgICAKICAgICAgICAgICAgdmFyIGNpcmNsZV9tYXJrZXJfNTM5ZGEzZTRkNTYxNDVkMTg4ZWQxMzVkZWRjNDc0M2MgPSBMLmNpcmNsZU1hcmtlcigKICAgICAgICAgICAgICAgIFs0My43MTE2OTQ4LCAtNzkuNDE2OTM1NTk5OTk5OTldLAogICAgICAgICAgICAgICAgeyJidWJibGluZ01vdXNlRXZlbnRzIjogdHJ1ZSwgImNvbG9yIjogImJsdWUiLCAiZGFzaEFycmF5IjogbnVsbCwgImRhc2hPZmZzZXQiOiBudWxsLCAiZmlsbCI6IHRydWUsICJmaWxsQ29sb3IiOiAiIzMxODZjYyIsICJmaWxsT3BhY2l0eSI6IDAuNywgImZpbGxSdWxlIjogImV2ZW5vZGQiLCAibGluZUNhcCI6ICJyb3VuZCIsICJsaW5lSm9pbiI6ICJyb3VuZCIsICJvcGFjaXR5IjogMS4wLCAicmFkaXVzIjogNSwgInN0cm9rZSI6IHRydWUsICJ3ZWlnaHQiOiAzfQogICAgICAgICAgICApLmFkZFRvKG1hcF8xMTFjODcyMmQ4MzA0OTQzYjhhMDFmMTRjMzRlMWYwMyk7CiAgICAgICAgCiAgICAKICAgICAgICB2YXIgcG9wdXBfM2UxYzUxYTQ5ZDdjNDI4Mzk5YTlhYTczNDUxZTY0NjEgPSBMLnBvcHVwKHsibWF4V2lkdGgiOiAiMTAwJSJ9KTsKCiAgICAgICAgCiAgICAgICAgICAgIHZhciBodG1sX2Q4YzA4M2JkNGQ1YjRkNzJiNWMyZmRmNjYwZTY4N2RhID0gJChgPGRpdiBpZD0iaHRtbF9kOGMwODNiZDRkNWI0ZDcyYjVjMmZkZjY2MGU2ODdkYSIgc3R5bGU9IndpZHRoOiAxMDAuMCU7IGhlaWdodDogMTAwLjAlOyI+Um9zZWxhd248L2Rpdj5gKVswXTsKICAgICAgICAgICAgcG9wdXBfM2UxYzUxYTQ5ZDdjNDI4Mzk5YTlhYTczNDUxZTY0NjEuc2V0Q29udGVudChodG1sX2Q4YzA4M2JkNGQ1YjRkNzJiNWMyZmRmNjYwZTY4N2RhKTsKICAgICAgICAKCiAgICAgICAgY2lyY2xlX21hcmtlcl81MzlkYTNlNGQ1NjE0NWQxODhlZDEzNWRlZGM0NzQzYy5iaW5kUG9wdXAocG9wdXBfM2UxYzUxYTQ5ZDdjNDI4Mzk5YTlhYTczNDUxZTY0NjEpCiAgICAgICAgOwoKICAgICAgICAKICAgIAogICAgCiAgICAgICAgICAgIHZhciBjaXJjbGVfbWFya2VyXzAzNDE3ZGQ0ZTcwYjQyYjg4ZGViMjExOTFjYmMzNDJhID0gTC5jaXJjbGVNYXJrZXIoCiAgICAgICAgICAgICAgICBbNDMuNjk2OTQ3NiwgLTc5LjQxMTMwNzIwMDAwMDAxXSwKICAgICAgICAgICAgICAgIHsiYnViYmxpbmdNb3VzZUV2ZW50cyI6IHRydWUsICJjb2xvciI6ICJibHVlIiwgImRhc2hBcnJheSI6IG51bGwsICJkYXNoT2Zmc2V0IjogbnVsbCwgImZpbGwiOiB0cnVlLCAiZmlsbENvbG9yIjogIiMzMTg2Y2MiLCAiZmlsbE9wYWNpdHkiOiAwLjcsICJmaWxsUnVsZSI6ICJldmVub2RkIiwgImxpbmVDYXAiOiAicm91bmQiLCAibGluZUpvaW4iOiAicm91bmQiLCAib3BhY2l0eSI6IDEuMCwgInJhZGl1cyI6IDUsICJzdHJva2UiOiB0cnVlLCAid2VpZ2h0IjogM30KICAgICAgICAgICAgKS5hZGRUbyhtYXBfMTExYzg3MjJkODMwNDk0M2I4YTAxZjE0YzM0ZTFmMDMpOwogICAgICAgIAogICAgCiAgICAgICAgdmFyIHBvcHVwX2M0YmMyMWQ5NzNkNjQwMGI4ZjA5MjJhYmY5M2RmMzRmID0gTC5wb3B1cCh7Im1heFdpZHRoIjogIjEwMCUifSk7CgogICAgICAgIAogICAgICAgICAgICB2YXIgaHRtbF83NmMwNDhiNGIyZTk0ZjE2YTliMDUyMjM4YTJmNzAwNiA9ICQoYDxkaXYgaWQ9Imh0bWxfNzZjMDQ4YjRiMmU5NGYxNmE5YjA1MjIzOGEyZjcwMDYiIHN0eWxlPSJ3aWR0aDogMTAwLjAlOyBoZWlnaHQ6IDEwMC4wJTsiPkZvcmVzdCBIaWxsIE5vcnRoLCBGb3Jlc3QgSGlsbCBXZXN0PC9kaXY+YClbMF07CiAgICAgICAgICAgIHBvcHVwX2M0YmMyMWQ5NzNkNjQwMGI4ZjA5MjJhYmY5M2RmMzRmLnNldENvbnRlbnQoaHRtbF83NmMwNDhiNGIyZTk0ZjE2YTliMDUyMjM4YTJmNzAwNik7CiAgICAgICAgCgogICAgICAgIGNpcmNsZV9tYXJrZXJfMDM0MTdkZDRlNzBiNDJiODhkZWIyMTE5MWNiYzM0MmEuYmluZFBvcHVwKHBvcHVwX2M0YmMyMWQ5NzNkNjQwMGI4ZjA5MjJhYmY5M2RmMzRmKQogICAgICAgIDsKCiAgICAgICAgCiAgICAKICAgIAogICAgICAgICAgICB2YXIgY2lyY2xlX21hcmtlcl8yN2UxZWRmNTVlMDc0Mzc1YmQ1ZjNlZjE5Nzg0NDZlZiA9IEwuY2lyY2xlTWFya2VyKAogICAgICAgICAgICAgICAgWzQzLjY3MjcwOTcsIC03OS40MDU2Nzg0MDAwMDAwMV0sCiAgICAgICAgICAgICAgICB7ImJ1YmJsaW5nTW91c2VFdmVudHMiOiB0cnVlLCAiY29sb3IiOiAiYmx1ZSIsICJkYXNoQXJyYXkiOiBudWxsLCAiZGFzaE9mZnNldCI6IG51bGwsICJmaWxsIjogdHJ1ZSwgImZpbGxDb2xvciI6ICIjMzE4NmNjIiwgImZpbGxPcGFjaXR5IjogMC43LCAiZmlsbFJ1bGUiOiAiZXZlbm9kZCIsICJsaW5lQ2FwIjogInJvdW5kIiwgImxpbmVKb2luIjogInJvdW5kIiwgIm9wYWNpdHkiOiAxLjAsICJyYWRpdXMiOiA1LCAic3Ryb2tlIjogdHJ1ZSwgIndlaWdodCI6IDN9CiAgICAgICAgICAgICkuYWRkVG8obWFwXzExMWM4NzIyZDgzMDQ5NDNiOGEwMWYxNGMzNGUxZjAzKTsKICAgICAgICAKICAgIAogICAgICAgIHZhciBwb3B1cF9kMDNhOTgxMzgyZGM0ZTc0Yjc2ZGE0YTFhYjE1YjY1ZCA9IEwucG9wdXAoeyJtYXhXaWR0aCI6ICIxMDAlIn0pOwoKICAgICAgICAKICAgICAgICAgICAgdmFyIGh0bWxfN2Y0NTg3YTA4MTZkNDM2NzgyYTU5NWQwMGEwNjdjOTYgPSAkKGA8ZGl2IGlkPSJodG1sXzdmNDU4N2EwODE2ZDQzNjc4MmE1OTVkMDBhMDY3Yzk2IiBzdHlsZT0id2lkdGg6IDEwMC4wJTsgaGVpZ2h0OiAxMDAuMCU7Ij5UaGUgQW5uZXgsIE5vcnRoIE1pZHRvd24sIFlvcmt2aWxsZTwvZGl2PmApWzBdOwogICAgICAgICAgICBwb3B1cF9kMDNhOTgxMzgyZGM0ZTc0Yjc2ZGE0YTFhYjE1YjY1ZC5zZXRDb250ZW50KGh0bWxfN2Y0NTg3YTA4MTZkNDM2NzgyYTU5NWQwMGEwNjdjOTYpOwogICAgICAgIAoKICAgICAgICBjaXJjbGVfbWFya2VyXzI3ZTFlZGY1NWUwNzQzNzViZDVmM2VmMTk3ODQ0NmVmLmJpbmRQb3B1cChwb3B1cF9kMDNhOTgxMzgyZGM0ZTc0Yjc2ZGE0YTFhYjE1YjY1ZCkKICAgICAgICA7CgogICAgICAgIAogICAgCiAgICAKICAgICAgICAgICAgdmFyIGNpcmNsZV9tYXJrZXJfYjZjOGEzY2Y3MjU0NDgxY2E2YjE5ODk5MjE0ZDQ5ZmMgPSBMLmNpcmNsZU1hcmtlcigKICAgICAgICAgICAgICAgIFs0My42NjI2OTU2LCAtNzkuNDAwMDQ5M10sCiAgICAgICAgICAgICAgICB7ImJ1YmJsaW5nTW91c2VFdmVudHMiOiB0cnVlLCAiY29sb3IiOiAiYmx1ZSIsICJkYXNoQXJyYXkiOiBudWxsLCAiZGFzaE9mZnNldCI6IG51bGwsICJmaWxsIjogdHJ1ZSwgImZpbGxDb2xvciI6ICIjMzE4NmNjIiwgImZpbGxPcGFjaXR5IjogMC43LCAiZmlsbFJ1bGUiOiAiZXZlbm9kZCIsICJsaW5lQ2FwIjogInJvdW5kIiwgImxpbmVKb2luIjogInJvdW5kIiwgIm9wYWNpdHkiOiAxLjAsICJyYWRpdXMiOiA1LCAic3Ryb2tlIjogdHJ1ZSwgIndlaWdodCI6IDN9CiAgICAgICAgICAgICkuYWRkVG8obWFwXzExMWM4NzIyZDgzMDQ5NDNiOGEwMWYxNGMzNGUxZjAzKTsKICAgICAgICAKICAgIAogICAgICAgIHZhciBwb3B1cF85ZjVjMWI5ZjgwOGQ0MWFkYWI1Yjk1YWMzZTRiYTM5NyA9IEwucG9wdXAoeyJtYXhXaWR0aCI6ICIxMDAlIn0pOwoKICAgICAgICAKICAgICAgICAgICAgdmFyIGh0bWxfZTAxYzZkYjE2MmRkNGY0NzgxNTdkMDkyYzQ2NWU1OTMgPSAkKGA8ZGl2IGlkPSJodG1sX2UwMWM2ZGIxNjJkZDRmNDc4MTU3ZDA5MmM0NjVlNTkzIiBzdHlsZT0id2lkdGg6IDEwMC4wJTsgaGVpZ2h0OiAxMDAuMCU7Ij5IYXJib3JkLCBVbml2ZXJzaXR5IG9mIFRvcm9udG88L2Rpdj5gKVswXTsKICAgICAgICAgICAgcG9wdXBfOWY1YzFiOWY4MDhkNDFhZGFiNWI5NWFjM2U0YmEzOTcuc2V0Q29udGVudChodG1sX2UwMWM2ZGIxNjJkZDRmNDc4MTU3ZDA5MmM0NjVlNTkzKTsKICAgICAgICAKCiAgICAgICAgY2lyY2xlX21hcmtlcl9iNmM4YTNjZjcyNTQ0ODFjYTZiMTk4OTkyMTRkNDlmYy5iaW5kUG9wdXAocG9wdXBfOWY1YzFiOWY4MDhkNDFhZGFiNWI5NWFjM2U0YmEzOTcpCiAgICAgICAgOwoKICAgICAgICAKICAgIAogICAgCiAgICAgICAgICAgIHZhciBjaXJjbGVfbWFya2VyXzI0ZmY3ZjU3NzE4ZTQzOGE5ZGVkMjZkOTM1MzA2NThkID0gTC5jaXJjbGVNYXJrZXIoCiAgICAgICAgICAgICAgICBbNDMuNjUzMjA1NywgLTc5LjQwMDA0OTNdLAogICAgICAgICAgICAgICAgeyJidWJibGluZ01vdXNlRXZlbnRzIjogdHJ1ZSwgImNvbG9yIjogImJsdWUiLCAiZGFzaEFycmF5IjogbnVsbCwgImRhc2hPZmZzZXQiOiBudWxsLCAiZmlsbCI6IHRydWUsICJmaWxsQ29sb3IiOiAiIzMxODZjYyIsICJmaWxsT3BhY2l0eSI6IDAuNywgImZpbGxSdWxlIjogImV2ZW5vZGQiLCAibGluZUNhcCI6ICJyb3VuZCIsICJsaW5lSm9pbiI6ICJyb3VuZCIsICJvcGFjaXR5IjogMS4wLCAicmFkaXVzIjogNSwgInN0cm9rZSI6IHRydWUsICJ3ZWlnaHQiOiAzfQogICAgICAgICAgICApLmFkZFRvKG1hcF8xMTFjODcyMmQ4MzA0OTQzYjhhMDFmMTRjMzRlMWYwMyk7CiAgICAgICAgCiAgICAKICAgICAgICB2YXIgcG9wdXBfZTMwMTczZjk2OWI5NGE3ZGExYTI0ZDdmNGUxZWQwMzIgPSBMLnBvcHVwKHsibWF4V2lkdGgiOiAiMTAwJSJ9KTsKCiAgICAgICAgCiAgICAgICAgICAgIHZhciBodG1sXzc5ZDExNjRlMjQyODRhYWM5Nzg2OGRhNjBmOGQ5NWZjID0gJChgPGRpdiBpZD0iaHRtbF83OWQxMTY0ZTI0Mjg0YWFjOTc4NjhkYTYwZjhkOTVmYyIgc3R5bGU9IndpZHRoOiAxMDAuMCU7IGhlaWdodDogMTAwLjAlOyI+Q2hpbmF0b3duLCBHcmFuZ2UgUGFyaywgS2Vuc2luZ3RvbiBNYXJrZXQ8L2Rpdj5gKVswXTsKICAgICAgICAgICAgcG9wdXBfZTMwMTczZjk2OWI5NGE3ZGExYTI0ZDdmNGUxZWQwMzIuc2V0Q29udGVudChodG1sXzc5ZDExNjRlMjQyODRhYWM5Nzg2OGRhNjBmOGQ5NWZjKTsKICAgICAgICAKCiAgICAgICAgY2lyY2xlX21hcmtlcl8yNGZmN2Y1NzcxOGU0MzhhOWRlZDI2ZDkzNTMwNjU4ZC5iaW5kUG9wdXAocG9wdXBfZTMwMTczZjk2OWI5NGE3ZGExYTI0ZDdmNGUxZWQwMzIpCiAgICAgICAgOwoKICAgICAgICAKICAgIAogICAgCiAgICAgICAgICAgIHZhciBjaXJjbGVfbWFya2VyXzI4ZDJmNjBlYmRiNTRjY2ZhNmNmM2JmNThlNmI2Mjk1ID0gTC5jaXJjbGVNYXJrZXIoCiAgICAgICAgICAgICAgICBbNDMuNjI4OTQ2NywgLTc5LjM5NDQxOTldLAogICAgICAgICAgICAgICAgeyJidWJibGluZ01vdXNlRXZlbnRzIjogdHJ1ZSwgImNvbG9yIjogImJsdWUiLCAiZGFzaEFycmF5IjogbnVsbCwgImRhc2hPZmZzZXQiOiBudWxsLCAiZmlsbCI6IHRydWUsICJmaWxsQ29sb3IiOiAiIzMxODZjYyIsICJmaWxsT3BhY2l0eSI6IDAuNywgImZpbGxSdWxlIjogImV2ZW5vZGQiLCAibGluZUNhcCI6ICJyb3VuZCIsICJsaW5lSm9pbiI6ICJyb3VuZCIsICJvcGFjaXR5IjogMS4wLCAicmFkaXVzIjogNSwgInN0cm9rZSI6IHRydWUsICJ3ZWlnaHQiOiAzfQogICAgICAgICAgICApLmFkZFRvKG1hcF8xMTFjODcyMmQ4MzA0OTQzYjhhMDFmMTRjMzRlMWYwMyk7CiAgICAgICAgCiAgICAKICAgICAgICB2YXIgcG9wdXBfN2U3N2Y4YjdkYzQzNGNmYTgyNWJjYmNmZDMxYzZjNjEgPSBMLnBvcHVwKHsibWF4V2lkdGgiOiAiMTAwJSJ9KTsKCiAgICAgICAgCiAgICAgICAgICAgIHZhciBodG1sX2E4ZmNiN2FjYjFiNTQxYjNiMGY5MTA4MjA2YTdkMWJlID0gJChgPGRpdiBpZD0iaHRtbF9hOGZjYjdhY2IxYjU0MWIzYjBmOTEwODIwNmE3ZDFiZSIgc3R5bGU9IndpZHRoOiAxMDAuMCU7IGhlaWdodDogMTAwLjAlOyI+Q04gVG93ZXIsIEJhdGh1cnN0IFF1YXksIElzbGFuZCBhaXJwb3J0LCBIYXJib3VyZnJvbnQgV2VzdCwgS2luZyBhbmQgU3BhZGluYSwgUmFpbHdheSBMYW5kcywgU291dGggTmlhZ2FyYTwvZGl2PmApWzBdOwogICAgICAgICAgICBwb3B1cF83ZTc3ZjhiN2RjNDM0Y2ZhODI1YmNiY2ZkMzFjNmM2MS5zZXRDb250ZW50KGh0bWxfYThmY2I3YWNiMWI1NDFiM2IwZjkxMDgyMDZhN2QxYmUpOwogICAgICAgIAoKICAgICAgICBjaXJjbGVfbWFya2VyXzI4ZDJmNjBlYmRiNTRjY2ZhNmNmM2JmNThlNmI2Mjk1LmJpbmRQb3B1cChwb3B1cF83ZTc3ZjhiN2RjNDM0Y2ZhODI1YmNiY2ZkMzFjNmM2MSkKICAgICAgICA7CgogICAgICAgIAogICAgCiAgICAKICAgICAgICAgICAgdmFyIGNpcmNsZV9tYXJrZXJfZGVmYjIwYzRmZjM4NGM2MTk0YWY3ZDQzNjZiZjY2MWYgPSBMLmNpcmNsZU1hcmtlcigKICAgICAgICAgICAgICAgIFs0My42NDY0MzUyLCAtNzkuMzc0ODQ1OTk5OTk5OTldLAogICAgICAgICAgICAgICAgeyJidWJibGluZ01vdXNlRXZlbnRzIjogdHJ1ZSwgImNvbG9yIjogImJsdWUiLCAiZGFzaEFycmF5IjogbnVsbCwgImRhc2hPZmZzZXQiOiBudWxsLCAiZmlsbCI6IHRydWUsICJmaWxsQ29sb3IiOiAiIzMxODZjYyIsICJmaWxsT3BhY2l0eSI6IDAuNywgImZpbGxSdWxlIjogImV2ZW5vZGQiLCAibGluZUNhcCI6ICJyb3VuZCIsICJsaW5lSm9pbiI6ICJyb3VuZCIsICJvcGFjaXR5IjogMS4wLCAicmFkaXVzIjogNSwgInN0cm9rZSI6IHRydWUsICJ3ZWlnaHQiOiAzfQogICAgICAgICAgICApLmFkZFRvKG1hcF8xMTFjODcyMmQ4MzA0OTQzYjhhMDFmMTRjMzRlMWYwMyk7CiAgICAgICAgCiAgICAKICAgICAgICB2YXIgcG9wdXBfZjkzMzVlMDUyYjgyNDczM2JkZDc1YmM2YTZiOTVlZjEgPSBMLnBvcHVwKHsibWF4V2lkdGgiOiAiMTAwJSJ9KTsKCiAgICAgICAgCiAgICAgICAgICAgIHZhciBodG1sXzBkYTNhYjAyYzdjMTRjN2E5NjAwYTM1NWYyZDkyOTFlID0gJChgPGRpdiBpZD0iaHRtbF8wZGEzYWIwMmM3YzE0YzdhOTYwMGEzNTVmMmQ5MjkxZSIgc3R5bGU9IndpZHRoOiAxMDAuMCU7IGhlaWdodDogMTAwLjAlOyI+U3RuIEEgUE8gQm94ZXMgMjUgVGhlIEVzcGxhbmFkZTwvZGl2PmApWzBdOwogICAgICAgICAgICBwb3B1cF9mOTMzNWUwNTJiODI0NzMzYmRkNzViYzZhNmI5NWVmMS5zZXRDb250ZW50KGh0bWxfMGRhM2FiMDJjN2MxNGM3YTk2MDBhMzU1ZjJkOTI5MWUpOwogICAgICAgIAoKICAgICAgICBjaXJjbGVfbWFya2VyX2RlZmIyMGM0ZmYzODRjNjE5NGFmN2Q0MzY2YmY2NjFmLmJpbmRQb3B1cChwb3B1cF9mOTMzNWUwNTJiODI0NzMzYmRkNzViYzZhNmI5NWVmMSkKICAgICAgICA7CgogICAgICAgIAogICAgCiAgICAKICAgICAgICAgICAgdmFyIGNpcmNsZV9tYXJrZXJfMDhhNmNkYzdiY2U4NGI1OWEzNGJmNTNmM2VlZjMxMWUgPSBMLmNpcmNsZU1hcmtlcigKICAgICAgICAgICAgICAgIFs0My42NDg0MjkyLCAtNzkuMzgyMjgwMl0sCiAgICAgICAgICAgICAgICB7ImJ1YmJsaW5nTW91c2VFdmVudHMiOiB0cnVlLCAiY29sb3IiOiAiYmx1ZSIsICJkYXNoQXJyYXkiOiBudWxsLCAiZGFzaE9mZnNldCI6IG51bGwsICJmaWxsIjogdHJ1ZSwgImZpbGxDb2xvciI6ICIjMzE4NmNjIiwgImZpbGxPcGFjaXR5IjogMC43LCAiZmlsbFJ1bGUiOiAiZXZlbm9kZCIsICJsaW5lQ2FwIjogInJvdW5kIiwgImxpbmVKb2luIjogInJvdW5kIiwgIm9wYWNpdHkiOiAxLjAsICJyYWRpdXMiOiA1LCAic3Ryb2tlIjogdHJ1ZSwgIndlaWdodCI6IDN9CiAgICAgICAgICAgICkuYWRkVG8obWFwXzExMWM4NzIyZDgzMDQ5NDNiOGEwMWYxNGMzNGUxZjAzKTsKICAgICAgICAKICAgIAogICAgICAgIHZhciBwb3B1cF9mNWJlNDA1NTI4OGE0ZWU1YWY3NjQzZGM0NzVmNDE5NSA9IEwucG9wdXAoeyJtYXhXaWR0aCI6ICIxMDAlIn0pOwoKICAgICAgICAKICAgICAgICAgICAgdmFyIGh0bWxfNTQ1NTM2MTFlYmE5NDVmYzg2NDgwYTRjODIxZjNkYTIgPSAkKGA8ZGl2IGlkPSJodG1sXzU0NTUzNjExZWJhOTQ1ZmM4NjQ4MGE0YzgyMWYzZGEyIiBzdHlsZT0id2lkdGg6IDEwMC4wJTsgaGVpZ2h0OiAxMDAuMCU7Ij5GaXJzdCBDYW5hZGlhbiBQbGFjZSwgVW5kZXJncm91bmQgY2l0eTwvZGl2PmApWzBdOwogICAgICAgICAgICBwb3B1cF9mNWJlNDA1NTI4OGE0ZWU1YWY3NjQzZGM0NzVmNDE5NS5zZXRDb250ZW50KGh0bWxfNTQ1NTM2MTFlYmE5NDVmYzg2NDgwYTRjODIxZjNkYTIpOwogICAgICAgIAoKICAgICAgICBjaXJjbGVfbWFya2VyXzA4YTZjZGM3YmNlODRiNTlhMzRiZjUzZjNlZWYzMTFlLmJpbmRQb3B1cChwb3B1cF9mNWJlNDA1NTI4OGE0ZWU1YWY3NjQzZGM0NzVmNDE5NSkKICAgICAgICA7CgogICAgICAgIAogICAgCiAgICAKICAgICAgICAgICAgdmFyIGNpcmNsZV9tYXJrZXJfMTY5MmM1MDlkMTAxNGU3NzgyNTFmN2U1NGZiMzAxYzEgPSBMLmNpcmNsZU1hcmtlcigKICAgICAgICAgICAgICAgIFs0My43MTg1MTc5OTk5OTk5OTYsIC03OS40NjQ3NjMyOTk5OTk5OV0sCiAgICAgICAgICAgICAgICB7ImJ1YmJsaW5nTW91c2VFdmVudHMiOiB0cnVlLCAiY29sb3IiOiAiYmx1ZSIsICJkYXNoQXJyYXkiOiBudWxsLCAiZGFzaE9mZnNldCI6IG51bGwsICJmaWxsIjogdHJ1ZSwgImZpbGxDb2xvciI6ICIjMzE4NmNjIiwgImZpbGxPcGFjaXR5IjogMC43LCAiZmlsbFJ1bGUiOiAiZXZlbm9kZCIsICJsaW5lQ2FwIjogInJvdW5kIiwgImxpbmVKb2luIjogInJvdW5kIiwgIm9wYWNpdHkiOiAxLjAsICJyYWRpdXMiOiA1LCAic3Ryb2tlIjogdHJ1ZSwgIndlaWdodCI6IDN9CiAgICAgICAgICAgICkuYWRkVG8obWFwXzExMWM4NzIyZDgzMDQ5NDNiOGEwMWYxNGMzNGUxZjAzKTsKICAgICAgICAKICAgIAogICAgICAgIHZhciBwb3B1cF85Mzc5NDY1MmRkNGQ0YzY3YjhhNDhiNjk4MmI0ZTU4ZSA9IEwucG9wdXAoeyJtYXhXaWR0aCI6ICIxMDAlIn0pOwoKICAgICAgICAKICAgICAgICAgICAgdmFyIGh0bWxfNTFkYmE2MmM1NDhiNGRmMzljZDc0OWZlMGI4YzIzMzEgPSAkKGA8ZGl2IGlkPSJodG1sXzUxZGJhNjJjNTQ4YjRkZjM5Y2Q3NDlmZTBiOGMyMzMxIiBzdHlsZT0id2lkdGg6IDEwMC4wJTsgaGVpZ2h0OiAxMDAuMCU7Ij5MYXdyZW5jZSBIZWlnaHRzLCBMYXdyZW5jZSBNYW5vcjwvZGl2PmApWzBdOwogICAgICAgICAgICBwb3B1cF85Mzc5NDY1MmRkNGQ0YzY3YjhhNDhiNjk4MmI0ZTU4ZS5zZXRDb250ZW50KGh0bWxfNTFkYmE2MmM1NDhiNGRmMzljZDc0OWZlMGI4YzIzMzEpOwogICAgICAgIAoKICAgICAgICBjaXJjbGVfbWFya2VyXzE2OTJjNTA5ZDEwMTRlNzc4MjUxZjdlNTRmYjMwMWMxLmJpbmRQb3B1cChwb3B1cF85Mzc5NDY1MmRkNGQ0YzY3YjhhNDhiNjk4MmI0ZTU4ZSkKICAgICAgICA7CgogICAgICAgIAogICAgCiAgICAKICAgICAgICAgICAgdmFyIGNpcmNsZV9tYXJrZXJfODg0YjJkOWIzYjA4NDI2YWFhZDRhYWFkZDg3ZmZjZDIgPSBMLmNpcmNsZU1hcmtlcigKICAgICAgICAgICAgICAgIFs0My43MDk1NzcsIC03OS40NDUwNzI1OTk5OTk5OV0sCiAgICAgICAgICAgICAgICB7ImJ1YmJsaW5nTW91c2VFdmVudHMiOiB0cnVlLCAiY29sb3IiOiAiYmx1ZSIsICJkYXNoQXJyYXkiOiBudWxsLCAiZGFzaE9mZnNldCI6IG51bGwsICJmaWxsIjogdHJ1ZSwgImZpbGxDb2xvciI6ICIjMzE4NmNjIiwgImZpbGxPcGFjaXR5IjogMC43LCAiZmlsbFJ1bGUiOiAiZXZlbm9kZCIsICJsaW5lQ2FwIjogInJvdW5kIiwgImxpbmVKb2luIjogInJvdW5kIiwgIm9wYWNpdHkiOiAxLjAsICJyYWRpdXMiOiA1LCAic3Ryb2tlIjogdHJ1ZSwgIndlaWdodCI6IDN9CiAgICAgICAgICAgICkuYWRkVG8obWFwXzExMWM4NzIyZDgzMDQ5NDNiOGEwMWYxNGMzNGUxZjAzKTsKICAgICAgICAKICAgIAogICAgICAgIHZhciBwb3B1cF9mYWM4NTUzNTIzZjM0ZmIwOTIxMzc4MWJhNWYxMDJkNSA9IEwucG9wdXAoeyJtYXhXaWR0aCI6ICIxMDAlIn0pOwoKICAgICAgICAKICAgICAgICAgICAgdmFyIGh0bWxfNmQyNjNiYzlkNDM1NDE2ZGEwZGFiY2VmMzIwMzk4OTYgPSAkKGA8ZGl2IGlkPSJodG1sXzZkMjYzYmM5ZDQzNTQxNmRhMGRhYmNlZjMyMDM5ODk2IiBzdHlsZT0id2lkdGg6IDEwMC4wJTsgaGVpZ2h0OiAxMDAuMCU7Ij5HbGVuY2Fpcm48L2Rpdj5gKVswXTsKICAgICAgICAgICAgcG9wdXBfZmFjODU1MzUyM2YzNGZiMDkyMTM3ODFiYTVmMTAyZDUuc2V0Q29udGVudChodG1sXzZkMjYzYmM5ZDQzNTQxNmRhMGRhYmNlZjMyMDM5ODk2KTsKICAgICAgICAKCiAgICAgICAgY2lyY2xlX21hcmtlcl84ODRiMmQ5YjNiMDg0MjZhYWFkNGFhYWRkODdmZmNkMi5iaW5kUG9wdXAocG9wdXBfZmFjODU1MzUyM2YzNGZiMDkyMTM3ODFiYTVmMTAyZDUpCiAgICAgICAgOwoKICAgICAgICAKICAgIAogICAgCiAgICAgICAgICAgIHZhciBjaXJjbGVfbWFya2VyX2E2ZmQ4OTlmOTNkYTRkMWY4NjlmNzhhZDkzYjZkODJkID0gTC5jaXJjbGVNYXJrZXIoCiAgICAgICAgICAgICAgICBbNDMuNjkzNzgxMywgLTc5LjQyODE5MTQwMDAwMDAyXSwKICAgICAgICAgICAgICAgIHsiYnViYmxpbmdNb3VzZUV2ZW50cyI6IHRydWUsICJjb2xvciI6ICJibHVlIiwgImRhc2hBcnJheSI6IG51bGwsICJkYXNoT2Zmc2V0IjogbnVsbCwgImZpbGwiOiB0cnVlLCAiZmlsbENvbG9yIjogIiMzMTg2Y2MiLCAiZmlsbE9wYWNpdHkiOiAwLjcsICJmaWxsUnVsZSI6ICJldmVub2RkIiwgImxpbmVDYXAiOiAicm91bmQiLCAibGluZUpvaW4iOiAicm91bmQiLCAib3BhY2l0eSI6IDEuMCwgInJhZGl1cyI6IDUsICJzdHJva2UiOiB0cnVlLCAid2VpZ2h0IjogM30KICAgICAgICAgICAgKS5hZGRUbyhtYXBfMTExYzg3MjJkODMwNDk0M2I4YTAxZjE0YzM0ZTFmMDMpOwogICAgICAgIAogICAgCiAgICAgICAgdmFyIHBvcHVwXzM5NmVkNDZjNWUxYTRmYzQ5NTQwNjA1MzZlM2JlOGNiID0gTC5wb3B1cCh7Im1heFdpZHRoIjogIjEwMCUifSk7CgogICAgICAgIAogICAgICAgICAgICB2YXIgaHRtbF9iODdlOGQ3YzNkYzM0MmUzYmI5MGFhMzY4YTkxZDAzZSA9ICQoYDxkaXYgaWQ9Imh0bWxfYjg3ZThkN2MzZGMzNDJlM2JiOTBhYTM2OGE5MWQwM2UiIHN0eWxlPSJ3aWR0aDogMTAwLjAlOyBoZWlnaHQ6IDEwMC4wJTsiPkh1bWV3b29kLUNlZGFydmFsZTwvZGl2PmApWzBdOwogICAgICAgICAgICBwb3B1cF8zOTZlZDQ2YzVlMWE0ZmM0OTU0MDYwNTM2ZTNiZThjYi5zZXRDb250ZW50KGh0bWxfYjg3ZThkN2MzZGMzNDJlM2JiOTBhYTM2OGE5MWQwM2UpOwogICAgICAgIAoKICAgICAgICBjaXJjbGVfbWFya2VyX2E2ZmQ4OTlmOTNkYTRkMWY4NjlmNzhhZDkzYjZkODJkLmJpbmRQb3B1cChwb3B1cF8zOTZlZDQ2YzVlMWE0ZmM0OTU0MDYwNTM2ZTNiZThjYikKICAgICAgICA7CgogICAgICAgIAogICAgCiAgICAKICAgICAgICAgICAgdmFyIGNpcmNsZV9tYXJrZXJfOWVmYzhhOGQwN2EzNGVhN2FmYmNmZTU4ZWQ2NjYxYWEgPSBMLmNpcmNsZU1hcmtlcigKICAgICAgICAgICAgICAgIFs0My42ODkwMjU2LCAtNzkuNDUzNTEyXSwKICAgICAgICAgICAgICAgIHsiYnViYmxpbmdNb3VzZUV2ZW50cyI6IHRydWUsICJjb2xvciI6ICJibHVlIiwgImRhc2hBcnJheSI6IG51bGwsICJkYXNoT2Zmc2V0IjogbnVsbCwgImZpbGwiOiB0cnVlLCAiZmlsbENvbG9yIjogIiMzMTg2Y2MiLCAiZmlsbE9wYWNpdHkiOiAwLjcsICJmaWxsUnVsZSI6ICJldmVub2RkIiwgImxpbmVDYXAiOiAicm91bmQiLCAibGluZUpvaW4iOiAicm91bmQiLCAib3BhY2l0eSI6IDEuMCwgInJhZGl1cyI6IDUsICJzdHJva2UiOiB0cnVlLCAid2VpZ2h0IjogM30KICAgICAgICAgICAgKS5hZGRUbyhtYXBfMTExYzg3MjJkODMwNDk0M2I4YTAxZjE0YzM0ZTFmMDMpOwogICAgICAgIAogICAgCiAgICAgICAgdmFyIHBvcHVwXzI0ODI1NmNhMzBiMTRiYWQ4MjFiODRiZTk5ODE0ZTA2ID0gTC5wb3B1cCh7Im1heFdpZHRoIjogIjEwMCUifSk7CgogICAgICAgIAogICAgICAgICAgICB2YXIgaHRtbF84ZWRjMGE3MzY2NDk0ZTY1YmI5MjVkYWRjNjYwYWE0MiA9ICQoYDxkaXYgaWQ9Imh0bWxfOGVkYzBhNzM2NjQ5NGU2NWJiOTI1ZGFkYzY2MGFhNDIiIHN0eWxlPSJ3aWR0aDogMTAwLjAlOyBoZWlnaHQ6IDEwMC4wJTsiPkNhbGVkb25pYS1GYWlyYmFua3M8L2Rpdj5gKVswXTsKICAgICAgICAgICAgcG9wdXBfMjQ4MjU2Y2EzMGIxNGJhZDgyMWI4NGJlOTk4MTRlMDYuc2V0Q29udGVudChodG1sXzhlZGMwYTczNjY0OTRlNjViYjkyNWRhZGM2NjBhYTQyKTsKICAgICAgICAKCiAgICAgICAgY2lyY2xlX21hcmtlcl85ZWZjOGE4ZDA3YTM0ZWE3YWZiY2ZlNThlZDY2NjFhYS5iaW5kUG9wdXAocG9wdXBfMjQ4MjU2Y2EzMGIxNGJhZDgyMWI4NGJlOTk4MTRlMDYpCiAgICAgICAgOwoKICAgICAgICAKICAgIAogICAgCiAgICAgICAgICAgIHZhciBjaXJjbGVfbWFya2VyXzEzZTIyM2M2YjRhYzRlYjRiYWVlNWQzYzBhYjQxNjg5ID0gTC5jaXJjbGVNYXJrZXIoCiAgICAgICAgICAgICAgICBbNDMuNjY5NTQyLCAtNzkuNDIyNTYzN10sCiAgICAgICAgICAgICAgICB7ImJ1YmJsaW5nTW91c2VFdmVudHMiOiB0cnVlLCAiY29sb3IiOiAiYmx1ZSIsICJkYXNoQXJyYXkiOiBudWxsLCAiZGFzaE9mZnNldCI6IG51bGwsICJmaWxsIjogdHJ1ZSwgImZpbGxDb2xvciI6ICIjMzE4NmNjIiwgImZpbGxPcGFjaXR5IjogMC43LCAiZmlsbFJ1bGUiOiAiZXZlbm9kZCIsICJsaW5lQ2FwIjogInJvdW5kIiwgImxpbmVKb2luIjogInJvdW5kIiwgIm9wYWNpdHkiOiAxLjAsICJyYWRpdXMiOiA1LCAic3Ryb2tlIjogdHJ1ZSwgIndlaWdodCI6IDN9CiAgICAgICAgICAgICkuYWRkVG8obWFwXzExMWM4NzIyZDgzMDQ5NDNiOGEwMWYxNGMzNGUxZjAzKTsKICAgICAgICAKICAgIAogICAgICAgIHZhciBwb3B1cF9jNjRjN2UyNmMwMGI0NWQ1OTk4YzFkZGMyYjk3NGJjZiA9IEwucG9wdXAoeyJtYXhXaWR0aCI6ICIxMDAlIn0pOwoKICAgICAgICAKICAgICAgICAgICAgdmFyIGh0bWxfMjJjNDk1NDE4ZjAyNDA1YmFkNzRjOTJhZmEwMzBkNDUgPSAkKGA8ZGl2IGlkPSJodG1sXzIyYzQ5NTQxOGYwMjQwNWJhZDc0YzkyYWZhMDMwZDQ1IiBzdHlsZT0id2lkdGg6IDEwMC4wJTsgaGVpZ2h0OiAxMDAuMCU7Ij5DaHJpc3RpZTwvZGl2PmApWzBdOwogICAgICAgICAgICBwb3B1cF9jNjRjN2UyNmMwMGI0NWQ1OTk4YzFkZGMyYjk3NGJjZi5zZXRDb250ZW50KGh0bWxfMjJjNDk1NDE4ZjAyNDA1YmFkNzRjOTJhZmEwMzBkNDUpOwogICAgICAgIAoKICAgICAgICBjaXJjbGVfbWFya2VyXzEzZTIyM2M2YjRhYzRlYjRiYWVlNWQzYzBhYjQxNjg5LmJpbmRQb3B1cChwb3B1cF9jNjRjN2UyNmMwMGI0NWQ1OTk4YzFkZGMyYjk3NGJjZikKICAgICAgICA7CgogICAgICAgIAogICAgCiAgICAKICAgICAgICAgICAgdmFyIGNpcmNsZV9tYXJrZXJfZTE4NDRhOWVhZDRmNDNmYzhiOWMwODUxYzBmNzE1NzIgPSBMLmNpcmNsZU1hcmtlcigKICAgICAgICAgICAgICAgIFs0My42NjkwMDUxMDAwMDAwMSwgLTc5LjQ0MjI1OTNdLAogICAgICAgICAgICAgICAgeyJidWJibGluZ01vdXNlRXZlbnRzIjogdHJ1ZSwgImNvbG9yIjogImJsdWUiLCAiZGFzaEFycmF5IjogbnVsbCwgImRhc2hPZmZzZXQiOiBudWxsLCAiZmlsbCI6IHRydWUsICJmaWxsQ29sb3IiOiAiIzMxODZjYyIsICJmaWxsT3BhY2l0eSI6IDAuNywgImZpbGxSdWxlIjogImV2ZW5vZGQiLCAibGluZUNhcCI6ICJyb3VuZCIsICJsaW5lSm9pbiI6ICJyb3VuZCIsICJvcGFjaXR5IjogMS4wLCAicmFkaXVzIjogNSwgInN0cm9rZSI6IHRydWUsICJ3ZWlnaHQiOiAzfQogICAgICAgICAgICApLmFkZFRvKG1hcF8xMTFjODcyMmQ4MzA0OTQzYjhhMDFmMTRjMzRlMWYwMyk7CiAgICAgICAgCiAgICAKICAgICAgICB2YXIgcG9wdXBfOTk0MzQ2NmFhYWYwNGQ0YjhkOTc1MzE1ZTE0MmU4NzUgPSBMLnBvcHVwKHsibWF4V2lkdGgiOiAiMTAwJSJ9KTsKCiAgICAgICAgCiAgICAgICAgICAgIHZhciBodG1sXzhmMzJmYmE3NmM4YzRiNDY4MjM2NjY5YjlhMjU5YjMwID0gJChgPGRpdiBpZD0iaHRtbF84ZjMyZmJhNzZjOGM0YjQ2ODIzNjY2OWI5YTI1OWIzMCIgc3R5bGU9IndpZHRoOiAxMDAuMCU7IGhlaWdodDogMTAwLjAlOyI+RG92ZXJjb3VydCBWaWxsYWdlLCBEdWZmZXJpbjwvZGl2PmApWzBdOwogICAgICAgICAgICBwb3B1cF85OTQzNDY2YWFhZjA0ZDRiOGQ5NzUzMTVlMTQyZTg3NS5zZXRDb250ZW50KGh0bWxfOGYzMmZiYTc2YzhjNGI0NjgyMzY2NjliOWEyNTliMzApOwogICAgICAgIAoKICAgICAgICBjaXJjbGVfbWFya2VyX2UxODQ0YTllYWQ0ZjQzZmM4YjljMDg1MWMwZjcxNTcyLmJpbmRQb3B1cChwb3B1cF85OTQzNDY2YWFhZjA0ZDRiOGQ5NzUzMTVlMTQyZTg3NSkKICAgICAgICA7CgogICAgICAgIAogICAgCiAgICAKICAgICAgICAgICAgdmFyIGNpcmNsZV9tYXJrZXJfNjNjZjUwNjlhNzE0NGEwMGIwMGQ4MTdkZmJhNjY5MzggPSBMLmNpcmNsZU1hcmtlcigKICAgICAgICAgICAgICAgIFs0My42NDc5MjY3MDAwMDAwMDYsIC03OS40MTk3NDk3XSwKICAgICAgICAgICAgICAgIHsiYnViYmxpbmdNb3VzZUV2ZW50cyI6IHRydWUsICJjb2xvciI6ICJibHVlIiwgImRhc2hBcnJheSI6IG51bGwsICJkYXNoT2Zmc2V0IjogbnVsbCwgImZpbGwiOiB0cnVlLCAiZmlsbENvbG9yIjogIiMzMTg2Y2MiLCAiZmlsbE9wYWNpdHkiOiAwLjcsICJmaWxsUnVsZSI6ICJldmVub2RkIiwgImxpbmVDYXAiOiAicm91bmQiLCAibGluZUpvaW4iOiAicm91bmQiLCAib3BhY2l0eSI6IDEuMCwgInJhZGl1cyI6IDUsICJzdHJva2UiOiB0cnVlLCAid2VpZ2h0IjogM30KICAgICAgICAgICAgKS5hZGRUbyhtYXBfMTExYzg3MjJkODMwNDk0M2I4YTAxZjE0YzM0ZTFmMDMpOwogICAgICAgIAogICAgCiAgICAgICAgdmFyIHBvcHVwX2EwZDI1MzkzMDAyYTQzNmE5ODhjNWVhZjIzNGU2ZTkxID0gTC5wb3B1cCh7Im1heFdpZHRoIjogIjEwMCUifSk7CgogICAgICAgIAogICAgICAgICAgICB2YXIgaHRtbF9iNzIxMDcwYTZkOTI0ZDMwOGI1YjFmNGE3MzY3YjMwZiA9ICQoYDxkaXYgaWQ9Imh0bWxfYjcyMTA3MGE2ZDkyNGQzMDhiNWIxZjRhNzM2N2IzMGYiIHN0eWxlPSJ3aWR0aDogMTAwLjAlOyBoZWlnaHQ6IDEwMC4wJTsiPkxpdHRsZSBQb3J0dWdhbCwgVHJpbml0eTwvZGl2PmApWzBdOwogICAgICAgICAgICBwb3B1cF9hMGQyNTM5MzAwMmE0MzZhOTg4YzVlYWYyMzRlNmU5MS5zZXRDb250ZW50KGh0bWxfYjcyMTA3MGE2ZDkyNGQzMDhiNWIxZjRhNzM2N2IzMGYpOwogICAgICAgIAoKICAgICAgICBjaXJjbGVfbWFya2VyXzYzY2Y1MDY5YTcxNDRhMDBiMDBkODE3ZGZiYTY2OTM4LmJpbmRQb3B1cChwb3B1cF9hMGQyNTM5MzAwMmE0MzZhOTg4YzVlYWYyMzRlNmU5MSkKICAgICAgICA7CgogICAgICAgIAogICAgCiAgICAKICAgICAgICAgICAgdmFyIGNpcmNsZV9tYXJrZXJfODY5NjJjMGU5YWM4NDUzZmIzMGI1NzJhZTZhMzVmYjAgPSBMLmNpcmNsZU1hcmtlcigKICAgICAgICAgICAgICAgIFs0My42MzY4NDcyLCAtNzkuNDI4MTkxNDAwMDAwMDJdLAogICAgICAgICAgICAgICAgeyJidWJibGluZ01vdXNlRXZlbnRzIjogdHJ1ZSwgImNvbG9yIjogImJsdWUiLCAiZGFzaEFycmF5IjogbnVsbCwgImRhc2hPZmZzZXQiOiBudWxsLCAiZmlsbCI6IHRydWUsICJmaWxsQ29sb3IiOiAiIzMxODZjYyIsICJmaWxsT3BhY2l0eSI6IDAuNywgImZpbGxSdWxlIjogImV2ZW5vZGQiLCAibGluZUNhcCI6ICJyb3VuZCIsICJsaW5lSm9pbiI6ICJyb3VuZCIsICJvcGFjaXR5IjogMS4wLCAicmFkaXVzIjogNSwgInN0cm9rZSI6IHRydWUsICJ3ZWlnaHQiOiAzfQogICAgICAgICAgICApLmFkZFRvKG1hcF8xMTFjODcyMmQ4MzA0OTQzYjhhMDFmMTRjMzRlMWYwMyk7CiAgICAgICAgCiAgICAKICAgICAgICB2YXIgcG9wdXBfOThjM2Y5YzU0YzNiNDliMGI1NmQ0NWU1ZDZlZDUwYjkgPSBMLnBvcHVwKHsibWF4V2lkdGgiOiAiMTAwJSJ9KTsKCiAgICAgICAgCiAgICAgICAgICAgIHZhciBodG1sXzgwZmQwOWI3ZDljYzRiNGE4OWY4MWNlN2FiNGJmMjgwID0gJChgPGRpdiBpZD0iaHRtbF84MGZkMDliN2Q5Y2M0YjRhODlmODFjZTdhYjRiZjI4MCIgc3R5bGU9IndpZHRoOiAxMDAuMCU7IGhlaWdodDogMTAwLjAlOyI+QnJvY2t0b24sIEV4aGliaXRpb24gUGxhY2UsIFBhcmtkYWxlIFZpbGxhZ2U8L2Rpdj5gKVswXTsKICAgICAgICAgICAgcG9wdXBfOThjM2Y5YzU0YzNiNDliMGI1NmQ0NWU1ZDZlZDUwYjkuc2V0Q29udGVudChodG1sXzgwZmQwOWI3ZDljYzRiNGE4OWY4MWNlN2FiNGJmMjgwKTsKICAgICAgICAKCiAgICAgICAgY2lyY2xlX21hcmtlcl84Njk2MmMwZTlhYzg0NTNmYjMwYjU3MmFlNmEzNWZiMC5iaW5kUG9wdXAocG9wdXBfOThjM2Y5YzU0YzNiNDliMGI1NmQ0NWU1ZDZlZDUwYjkpCiAgICAgICAgOwoKICAgICAgICAKICAgIAogICAgCiAgICAgICAgICAgIHZhciBjaXJjbGVfbWFya2VyXzI2OGNlYzExOTk1ZjRkZjQ4OGYzY2JkYmI2MDZiOWNiID0gTC5jaXJjbGVNYXJrZXIoCiAgICAgICAgICAgICAgICBbNDMuNzEzNzU2MjAwMDAwMDA2LCAtNzkuNDkwMDczOF0sCiAgICAgICAgICAgICAgICB7ImJ1YmJsaW5nTW91c2VFdmVudHMiOiB0cnVlLCAiY29sb3IiOiAiYmx1ZSIsICJkYXNoQXJyYXkiOiBudWxsLCAiZGFzaE9mZnNldCI6IG51bGwsICJmaWxsIjogdHJ1ZSwgImZpbGxDb2xvciI6ICIjMzE4NmNjIiwgImZpbGxPcGFjaXR5IjogMC43LCAiZmlsbFJ1bGUiOiAiZXZlbm9kZCIsICJsaW5lQ2FwIjogInJvdW5kIiwgImxpbmVKb2luIjogInJvdW5kIiwgIm9wYWNpdHkiOiAxLjAsICJyYWRpdXMiOiA1LCAic3Ryb2tlIjogdHJ1ZSwgIndlaWdodCI6IDN9CiAgICAgICAgICAgICkuYWRkVG8obWFwXzExMWM4NzIyZDgzMDQ5NDNiOGEwMWYxNGMzNGUxZjAzKTsKICAgICAgICAKICAgIAogICAgICAgIHZhciBwb3B1cF9mY2MwMDUxZGQ3NDQ0NjM0ODUzNDEzZmJlMmZkYzgzOCA9IEwucG9wdXAoeyJtYXhXaWR0aCI6ICIxMDAlIn0pOwoKICAgICAgICAKICAgICAgICAgICAgdmFyIGh0bWxfNTU2YjBlZDlhMDExNGJiNzgzZWFmYTA4YTFjNTE1MzYgPSAkKGA8ZGl2IGlkPSJodG1sXzU1NmIwZWQ5YTAxMTRiYjc4M2VhZmEwOGExYzUxNTM2IiBzdHlsZT0id2lkdGg6IDEwMC4wJTsgaGVpZ2h0OiAxMDAuMCU7Ij5Eb3duc3ZpZXcsIE5vcnRoIFBhcmssIFVwd29vZCBQYXJrPC9kaXY+YClbMF07CiAgICAgICAgICAgIHBvcHVwX2ZjYzAwNTFkZDc0NDQ2MzQ4NTM0MTNmYmUyZmRjODM4LnNldENvbnRlbnQoaHRtbF81NTZiMGVkOWEwMTE0YmI3ODNlYWZhMDhhMWM1MTUzNik7CiAgICAgICAgCgogICAgICAgIGNpcmNsZV9tYXJrZXJfMjY4Y2VjMTE5OTVmNGRmNDg4ZjNjYmRiYjYwNmI5Y2IuYmluZFBvcHVwKHBvcHVwX2ZjYzAwNTFkZDc0NDQ2MzQ4NTM0MTNmYmUyZmRjODM4KQogICAgICAgIDsKCiAgICAgICAgCiAgICAKICAgIAogICAgICAgICAgICB2YXIgY2lyY2xlX21hcmtlcl83NWZjYTFkMzkxY2E0MzU3YjQ3YmIyZDM2YWNiNWJjYyA9IEwuY2lyY2xlTWFya2VyKAogICAgICAgICAgICAgICAgWzQzLjY5MTExNTgsIC03OS40NzYwMTMyOTk5OTk5OV0sCiAgICAgICAgICAgICAgICB7ImJ1YmJsaW5nTW91c2VFdmVudHMiOiB0cnVlLCAiY29sb3IiOiAiYmx1ZSIsICJkYXNoQXJyYXkiOiBudWxsLCAiZGFzaE9mZnNldCI6IG51bGwsICJmaWxsIjogdHJ1ZSwgImZpbGxDb2xvciI6ICIjMzE4NmNjIiwgImZpbGxPcGFjaXR5IjogMC43LCAiZmlsbFJ1bGUiOiAiZXZlbm9kZCIsICJsaW5lQ2FwIjogInJvdW5kIiwgImxpbmVKb2luIjogInJvdW5kIiwgIm9wYWNpdHkiOiAxLjAsICJyYWRpdXMiOiA1LCAic3Ryb2tlIjogdHJ1ZSwgIndlaWdodCI6IDN9CiAgICAgICAgICAgICkuYWRkVG8obWFwXzExMWM4NzIyZDgzMDQ5NDNiOGEwMWYxNGMzNGUxZjAzKTsKICAgICAgICAKICAgIAogICAgICAgIHZhciBwb3B1cF9hNjc1MDc4MzZiZTI0NjVlYWU4MTg3YTE5ODQ5ZGUwMCA9IEwucG9wdXAoeyJtYXhXaWR0aCI6ICIxMDAlIn0pOwoKICAgICAgICAKICAgICAgICAgICAgdmFyIGh0bWxfNGYxZWIzNzZmYmQ2NGRlNWE5MzVkNDFlNzg4YmRiOGQgPSAkKGA8ZGl2IGlkPSJodG1sXzRmMWViMzc2ZmJkNjRkZTVhOTM1ZDQxZTc4OGJkYjhkIiBzdHlsZT0id2lkdGg6IDEwMC4wJTsgaGVpZ2h0OiAxMDAuMCU7Ij5EZWwgUmF5LCBLZWVsZXNkYWxlLCBNb3VudCBEZW5uaXMsIFNpbHZlcnRob3JuPC9kaXY+YClbMF07CiAgICAgICAgICAgIHBvcHVwX2E2NzUwNzgzNmJlMjQ2NWVhZTgxODdhMTk4NDlkZTAwLnNldENvbnRlbnQoaHRtbF80ZjFlYjM3NmZiZDY0ZGU1YTkzNWQ0MWU3ODhiZGI4ZCk7CiAgICAgICAgCgogICAgICAgIGNpcmNsZV9tYXJrZXJfNzVmY2ExZDM5MWNhNDM1N2I0N2JiMmQzNmFjYjViY2MuYmluZFBvcHVwKHBvcHVwX2E2NzUwNzgzNmJlMjQ2NWVhZTgxODdhMTk4NDlkZTAwKQogICAgICAgIDsKCiAgICAgICAgCiAgICAKICAgIAogICAgICAgICAgICB2YXIgY2lyY2xlX21hcmtlcl8xMTgzN2QxYTlmMjA0NTAzYjRjNWU0NGI3ODZjYjU4NCA9IEwuY2lyY2xlTWFya2VyKAogICAgICAgICAgICAgICAgWzQzLjY3MzE4NTI5OTk5OTk5LCAtNzkuNDg3MjYxOTAwMDAwMDFdLAogICAgICAgICAgICAgICAgeyJidWJibGluZ01vdXNlRXZlbnRzIjogdHJ1ZSwgImNvbG9yIjogImJsdWUiLCAiZGFzaEFycmF5IjogbnVsbCwgImRhc2hPZmZzZXQiOiBudWxsLCAiZmlsbCI6IHRydWUsICJmaWxsQ29sb3IiOiAiIzMxODZjYyIsICJmaWxsT3BhY2l0eSI6IDAuNywgImZpbGxSdWxlIjogImV2ZW5vZGQiLCAibGluZUNhcCI6ICJyb3VuZCIsICJsaW5lSm9pbiI6ICJyb3VuZCIsICJvcGFjaXR5IjogMS4wLCAicmFkaXVzIjogNSwgInN0cm9rZSI6IHRydWUsICJ3ZWlnaHQiOiAzfQogICAgICAgICAgICApLmFkZFRvKG1hcF8xMTFjODcyMmQ4MzA0OTQzYjhhMDFmMTRjMzRlMWYwMyk7CiAgICAgICAgCiAgICAKICAgICAgICB2YXIgcG9wdXBfYTM4YTYxYjE1ZGFhNGY5NTk0ZWU2OTg1MzRjODhjNjUgPSBMLnBvcHVwKHsibWF4V2lkdGgiOiAiMTAwJSJ9KTsKCiAgICAgICAgCiAgICAgICAgICAgIHZhciBodG1sX2Y4ODI0OWQ5MWU2NzQ4NWRiNjBkZWY2NTFhNjgwMTAzID0gJChgPGRpdiBpZD0iaHRtbF9mODgyNDlkOTFlNjc0ODVkYjYwZGVmNjUxYTY4MDEwMyIgc3R5bGU9IndpZHRoOiAxMDAuMCU7IGhlaWdodDogMTAwLjAlOyI+VGhlIEp1bmN0aW9uIE5vcnRoLCBSdW5ueW1lZGU8L2Rpdj5gKVswXTsKICAgICAgICAgICAgcG9wdXBfYTM4YTYxYjE1ZGFhNGY5NTk0ZWU2OTg1MzRjODhjNjUuc2V0Q29udGVudChodG1sX2Y4ODI0OWQ5MWU2NzQ4NWRiNjBkZWY2NTFhNjgwMTAzKTsKICAgICAgICAKCiAgICAgICAgY2lyY2xlX21hcmtlcl8xMTgzN2QxYTlmMjA0NTAzYjRjNWU0NGI3ODZjYjU4NC5iaW5kUG9wdXAocG9wdXBfYTM4YTYxYjE1ZGFhNGY5NTk0ZWU2OTg1MzRjODhjNjUpCiAgICAgICAgOwoKICAgICAgICAKICAgIAogICAgCiAgICAgICAgICAgIHZhciBjaXJjbGVfbWFya2VyXzQ1ZGM3YWM5ZjMyNTQ2OGJhYTg5ODI4ZTNlMzA5NzUxID0gTC5jaXJjbGVNYXJrZXIoCiAgICAgICAgICAgICAgICBbNDMuNjYxNjA4MywgLTc5LjQ2NDc2MzI5OTk5OTk5XSwKICAgICAgICAgICAgICAgIHsiYnViYmxpbmdNb3VzZUV2ZW50cyI6IHRydWUsICJjb2xvciI6ICJibHVlIiwgImRhc2hBcnJheSI6IG51bGwsICJkYXNoT2Zmc2V0IjogbnVsbCwgImZpbGwiOiB0cnVlLCAiZmlsbENvbG9yIjogIiMzMTg2Y2MiLCAiZmlsbE9wYWNpdHkiOiAwLjcsICJmaWxsUnVsZSI6ICJldmVub2RkIiwgImxpbmVDYXAiOiAicm91bmQiLCAibGluZUpvaW4iOiAicm91bmQiLCAib3BhY2l0eSI6IDEuMCwgInJhZGl1cyI6IDUsICJzdHJva2UiOiB0cnVlLCAid2VpZ2h0IjogM30KICAgICAgICAgICAgKS5hZGRUbyhtYXBfMTExYzg3MjJkODMwNDk0M2I4YTAxZjE0YzM0ZTFmMDMpOwogICAgICAgIAogICAgCiAgICAgICAgdmFyIHBvcHVwX2UxMGUzMjkyMTYwNzRmMTZiNTdlYWNlNDM2MDhjOTcyID0gTC5wb3B1cCh7Im1heFdpZHRoIjogIjEwMCUifSk7CgogICAgICAgIAogICAgICAgICAgICB2YXIgaHRtbF85ZmRjNTBmNTYxMzk0YzYzOTMwYjhiM2Q5YTYwMzcyMyA9ICQoYDxkaXYgaWQ9Imh0bWxfOWZkYzUwZjU2MTM5NGM2MzkzMGI4YjNkOWE2MDM3MjMiIHN0eWxlPSJ3aWR0aDogMTAwLjAlOyBoZWlnaHQ6IDEwMC4wJTsiPkhpZ2ggUGFyaywgVGhlIEp1bmN0aW9uIFNvdXRoPC9kaXY+YClbMF07CiAgICAgICAgICAgIHBvcHVwX2UxMGUzMjkyMTYwNzRmMTZiNTdlYWNlNDM2MDhjOTcyLnNldENvbnRlbnQoaHRtbF85ZmRjNTBmNTYxMzk0YzYzOTMwYjhiM2Q5YTYwMzcyMyk7CiAgICAgICAgCgogICAgICAgIGNpcmNsZV9tYXJrZXJfNDVkYzdhYzlmMzI1NDY4YmFhODk4MjhlM2UzMDk3NTEuYmluZFBvcHVwKHBvcHVwX2UxMGUzMjkyMTYwNzRmMTZiNTdlYWNlNDM2MDhjOTcyKQogICAgICAgIDsKCiAgICAgICAgCiAgICAKICAgIAogICAgICAgICAgICB2YXIgY2lyY2xlX21hcmtlcl80ZjgyN2M5ZDE0ZDM0MDQwOTJjMGJiY2M1NTY5YzM2ZCA9IEwuY2lyY2xlTWFya2VyKAogICAgICAgICAgICAgICAgWzQzLjY0ODk1OTcsIC03OS40NTYzMjVdLAogICAgICAgICAgICAgICAgeyJidWJibGluZ01vdXNlRXZlbnRzIjogdHJ1ZSwgImNvbG9yIjogImJsdWUiLCAiZGFzaEFycmF5IjogbnVsbCwgImRhc2hPZmZzZXQiOiBudWxsLCAiZmlsbCI6IHRydWUsICJmaWxsQ29sb3IiOiAiIzMxODZjYyIsICJmaWxsT3BhY2l0eSI6IDAuNywgImZpbGxSdWxlIjogImV2ZW5vZGQiLCAibGluZUNhcCI6ICJyb3VuZCIsICJsaW5lSm9pbiI6ICJyb3VuZCIsICJvcGFjaXR5IjogMS4wLCAicmFkaXVzIjogNSwgInN0cm9rZSI6IHRydWUsICJ3ZWlnaHQiOiAzfQogICAgICAgICAgICApLmFkZFRvKG1hcF8xMTFjODcyMmQ4MzA0OTQzYjhhMDFmMTRjMzRlMWYwMyk7CiAgICAgICAgCiAgICAKICAgICAgICB2YXIgcG9wdXBfZDE2MmQ5MjhhYmFhNDhjYWEyNjNlNDkxMGE4ZGM2YTYgPSBMLnBvcHVwKHsibWF4V2lkdGgiOiAiMTAwJSJ9KTsKCiAgICAgICAgCiAgICAgICAgICAgIHZhciBodG1sXzkyNmQ4MmVhMGFlNzQ2ZWFiOWM4OGU2ZWVjOGVmNGM0ID0gJChgPGRpdiBpZD0iaHRtbF85MjZkODJlYTBhZTc0NmVhYjljODhlNmVlYzhlZjRjNCIgc3R5bGU9IndpZHRoOiAxMDAuMCU7IGhlaWdodDogMTAwLjAlOyI+UGFya2RhbGUsIFJvbmNlc3ZhbGxlczwvZGl2PmApWzBdOwogICAgICAgICAgICBwb3B1cF9kMTYyZDkyOGFiYWE0OGNhYTI2M2U0OTEwYThkYzZhNi5zZXRDb250ZW50KGh0bWxfOTI2ZDgyZWEwYWU3NDZlYWI5Yzg4ZTZlZWM4ZWY0YzQpOwogICAgICAgIAoKICAgICAgICBjaXJjbGVfbWFya2VyXzRmODI3YzlkMTRkMzQwNDA5MmMwYmJjYzU1NjljMzZkLmJpbmRQb3B1cChwb3B1cF9kMTYyZDkyOGFiYWE0OGNhYTI2M2U0OTEwYThkYzZhNikKICAgICAgICA7CgogICAgICAgIAogICAgCiAgICAKICAgICAgICAgICAgdmFyIGNpcmNsZV9tYXJrZXJfOWJlMzE0OGMxYmQ3NGM4YmJjMWU3N2VlMzM2YThmNDcgPSBMLmNpcmNsZU1hcmtlcigKICAgICAgICAgICAgICAgIFs0My42NTE1NzA2LCAtNzkuNDg0NDQ5OV0sCiAgICAgICAgICAgICAgICB7ImJ1YmJsaW5nTW91c2VFdmVudHMiOiB0cnVlLCAiY29sb3IiOiAiYmx1ZSIsICJkYXNoQXJyYXkiOiBudWxsLCAiZGFzaE9mZnNldCI6IG51bGwsICJmaWxsIjogdHJ1ZSwgImZpbGxDb2xvciI6ICIjMzE4NmNjIiwgImZpbGxPcGFjaXR5IjogMC43LCAiZmlsbFJ1bGUiOiAiZXZlbm9kZCIsICJsaW5lQ2FwIjogInJvdW5kIiwgImxpbmVKb2luIjogInJvdW5kIiwgIm9wYWNpdHkiOiAxLjAsICJyYWRpdXMiOiA1LCAic3Ryb2tlIjogdHJ1ZSwgIndlaWdodCI6IDN9CiAgICAgICAgICAgICkuYWRkVG8obWFwXzExMWM4NzIyZDgzMDQ5NDNiOGEwMWYxNGMzNGUxZjAzKTsKICAgICAgICAKICAgIAogICAgICAgIHZhciBwb3B1cF80ZjZiM2JkYzBlY2Q0NjA2OWM3ZDY0YTA5NTYxYmU3NSA9IEwucG9wdXAoeyJtYXhXaWR0aCI6ICIxMDAlIn0pOwoKICAgICAgICAKICAgICAgICAgICAgdmFyIGh0bWxfMDQwYzQyNzZiNGVlNGM1MWFjYmIxZWEzNTNiZmE3NmMgPSAkKGA8ZGl2IGlkPSJodG1sXzA0MGM0Mjc2YjRlZTRjNTFhY2JiMWVhMzUzYmZhNzZjIiBzdHlsZT0id2lkdGg6IDEwMC4wJTsgaGVpZ2h0OiAxMDAuMCU7Ij5SdW5ueW1lZGUsIFN3YW5zZWE8L2Rpdj5gKVswXTsKICAgICAgICAgICAgcG9wdXBfNGY2YjNiZGMwZWNkNDYwNjljN2Q2NGEwOTU2MWJlNzUuc2V0Q29udGVudChodG1sXzA0MGM0Mjc2YjRlZTRjNTFhY2JiMWVhMzUzYmZhNzZjKTsKICAgICAgICAKCiAgICAgICAgY2lyY2xlX21hcmtlcl85YmUzMTQ4YzFiZDc0YzhiYmMxZTc3ZWUzMzZhOGY0Ny5iaW5kUG9wdXAocG9wdXBfNGY2YjNiZGMwZWNkNDYwNjljN2Q2NGEwOTU2MWJlNzUpCiAgICAgICAgOwoKICAgICAgICAKICAgIAogICAgCiAgICAgICAgICAgIHZhciBjaXJjbGVfbWFya2VyX2NlNzdhMDMwZGNiMTQ4MzE5NWFjMWVjODdiMzA3NWM1ID0gTC5jaXJjbGVNYXJrZXIoCiAgICAgICAgICAgICAgICBbNDMuNjYyMzAxNSwgLTc5LjM4OTQ5MzhdLAogICAgICAgICAgICAgICAgeyJidWJibGluZ01vdXNlRXZlbnRzIjogdHJ1ZSwgImNvbG9yIjogImJsdWUiLCAiZGFzaEFycmF5IjogbnVsbCwgImRhc2hPZmZzZXQiOiBudWxsLCAiZmlsbCI6IHRydWUsICJmaWxsQ29sb3IiOiAiIzMxODZjYyIsICJmaWxsT3BhY2l0eSI6IDAuNywgImZpbGxSdWxlIjogImV2ZW5vZGQiLCAibGluZUNhcCI6ICJyb3VuZCIsICJsaW5lSm9pbiI6ICJyb3VuZCIsICJvcGFjaXR5IjogMS4wLCAicmFkaXVzIjogNSwgInN0cm9rZSI6IHRydWUsICJ3ZWlnaHQiOiAzfQogICAgICAgICAgICApLmFkZFRvKG1hcF8xMTFjODcyMmQ4MzA0OTQzYjhhMDFmMTRjMzRlMWYwMyk7CiAgICAgICAgCiAgICAKICAgICAgICB2YXIgcG9wdXBfN2ZmNmNmYjM1YjQ5NDI4OWEyOGQzYWE0OTI1N2M2MmYgPSBMLnBvcHVwKHsibWF4V2lkdGgiOiAiMTAwJSJ9KTsKCiAgICAgICAgCiAgICAgICAgICAgIHZhciBodG1sXzhiZTdiMWYyMWEwNjRjMDU5ODk5NzAzODJjNWJjZWYxID0gJChgPGRpdiBpZD0iaHRtbF84YmU3YjFmMjFhMDY0YzA1OTg5OTcwMzgyYzViY2VmMSIgc3R5bGU9IndpZHRoOiAxMDAuMCU7IGhlaWdodDogMTAwLjAlOyI+UXVlZW4mIzM5O3MgUGFyazwvZGl2PmApWzBdOwogICAgICAgICAgICBwb3B1cF83ZmY2Y2ZiMzViNDk0Mjg5YTI4ZDNhYTQ5MjU3YzYyZi5zZXRDb250ZW50KGh0bWxfOGJlN2IxZjIxYTA2NGMwNTk4OTk3MDM4MmM1YmNlZjEpOwogICAgICAgIAoKICAgICAgICBjaXJjbGVfbWFya2VyX2NlNzdhMDMwZGNiMTQ4MzE5NWFjMWVjODdiMzA3NWM1LmJpbmRQb3B1cChwb3B1cF83ZmY2Y2ZiMzViNDk0Mjg5YTI4ZDNhYTQ5MjU3YzYyZikKICAgICAgICA7CgogICAgICAgIAogICAgCiAgICAKICAgICAgICAgICAgdmFyIGNpcmNsZV9tYXJrZXJfNDI3ZDZmNzkxMjAxNDdmNGFjOGE5NDNjMjZmZDIwNmUgPSBMLmNpcmNsZU1hcmtlcigKICAgICAgICAgICAgICAgIFs0My42MzY5NjU2LCAtNzkuNjE1ODE4OTk5OTk5OTldLAogICAgICAgICAgICAgICAgeyJidWJibGluZ01vdXNlRXZlbnRzIjogdHJ1ZSwgImNvbG9yIjogImJsdWUiLCAiZGFzaEFycmF5IjogbnVsbCwgImRhc2hPZmZzZXQiOiBudWxsLCAiZmlsbCI6IHRydWUsICJmaWxsQ29sb3IiOiAiIzMxODZjYyIsICJmaWxsT3BhY2l0eSI6IDAuNywgImZpbGxSdWxlIjogImV2ZW5vZGQiLCAibGluZUNhcCI6ICJyb3VuZCIsICJsaW5lSm9pbiI6ICJyb3VuZCIsICJvcGFjaXR5IjogMS4wLCAicmFkaXVzIjogNSwgInN0cm9rZSI6IHRydWUsICJ3ZWlnaHQiOiAzfQogICAgICAgICAgICApLmFkZFRvKG1hcF8xMTFjODcyMmQ4MzA0OTQzYjhhMDFmMTRjMzRlMWYwMyk7CiAgICAgICAgCiAgICAKICAgICAgICB2YXIgcG9wdXBfM2JkYmM3ZmM5YWYwNGU0M2FlMjIzNjY1ZDE5MmZhNjQgPSBMLnBvcHVwKHsibWF4V2lkdGgiOiAiMTAwJSJ9KTsKCiAgICAgICAgCiAgICAgICAgICAgIHZhciBodG1sXzA1MDBjMmI2Y2Y5ODQzOWZhN2MwZGY1ZTcyNDA4ZDNiID0gJChgPGRpdiBpZD0iaHRtbF8wNTAwYzJiNmNmOTg0MzlmYTdjMGRmNWU3MjQwOGQzYiIgc3R5bGU9IndpZHRoOiAxMDAuMCU7IGhlaWdodDogMTAwLjAlOyI+Q2FuYWRhIFBvc3QgR2F0ZXdheSBQcm9jZXNzaW5nIENlbnRyZTwvZGl2PmApWzBdOwogICAgICAgICAgICBwb3B1cF8zYmRiYzdmYzlhZjA0ZTQzYWUyMjM2NjVkMTkyZmE2NC5zZXRDb250ZW50KGh0bWxfMDUwMGMyYjZjZjk4NDM5ZmE3YzBkZjVlNzI0MDhkM2IpOwogICAgICAgIAoKICAgICAgICBjaXJjbGVfbWFya2VyXzQyN2Q2Zjc5MTIwMTQ3ZjRhYzhhOTQzYzI2ZmQyMDZlLmJpbmRQb3B1cChwb3B1cF8zYmRiYzdmYzlhZjA0ZTQzYWUyMjM2NjVkMTkyZmE2NCkKICAgICAgICA7CgogICAgICAgIAogICAgCiAgICAKICAgICAgICAgICAgdmFyIGNpcmNsZV9tYXJrZXJfMGVhNzFlZTZmOTJhNGVjN2E1MGJiYjRjODljZGM1MzUgPSBMLmNpcmNsZU1hcmtlcigKICAgICAgICAgICAgICAgIFs0My42NjI3NDM5LCAtNzkuMzIxNTU4XSwKICAgICAgICAgICAgICAgIHsiYnViYmxpbmdNb3VzZUV2ZW50cyI6IHRydWUsICJjb2xvciI6ICJibHVlIiwgImRhc2hBcnJheSI6IG51bGwsICJkYXNoT2Zmc2V0IjogbnVsbCwgImZpbGwiOiB0cnVlLCAiZmlsbENvbG9yIjogIiMzMTg2Y2MiLCAiZmlsbE9wYWNpdHkiOiAwLjcsICJmaWxsUnVsZSI6ICJldmVub2RkIiwgImxpbmVDYXAiOiAicm91bmQiLCAibGluZUpvaW4iOiAicm91bmQiLCAib3BhY2l0eSI6IDEuMCwgInJhZGl1cyI6IDUsICJzdHJva2UiOiB0cnVlLCAid2VpZ2h0IjogM30KICAgICAgICAgICAgKS5hZGRUbyhtYXBfMTExYzg3MjJkODMwNDk0M2I4YTAxZjE0YzM0ZTFmMDMpOwogICAgICAgIAogICAgCiAgICAgICAgdmFyIHBvcHVwXzBlOTk5NTlhOTU3ZjQzMTE4ZTRmMWU1Y2ViM2I5ZDU1ID0gTC5wb3B1cCh7Im1heFdpZHRoIjogIjEwMCUifSk7CgogICAgICAgIAogICAgICAgICAgICB2YXIgaHRtbF8xZmY0ZWY1OTY1YjA0ODZhYjUyODM1NTBiMWI2MTFkNCA9ICQoYDxkaXYgaWQ9Imh0bWxfMWZmNGVmNTk2NWIwNDg2YWI1MjgzNTUwYjFiNjExZDQiIHN0eWxlPSJ3aWR0aDogMTAwLjAlOyBoZWlnaHQ6IDEwMC4wJTsiPkJ1c2luZXNzIFJlcGx5IE1haWwgUHJvY2Vzc2luZyBDZW50cmUgOTY5IEVhc3Rlcm48L2Rpdj5gKVswXTsKICAgICAgICAgICAgcG9wdXBfMGU5OTk1OWE5NTdmNDMxMThlNGYxZTVjZWIzYjlkNTUuc2V0Q29udGVudChodG1sXzFmZjRlZjU5NjViMDQ4NmFiNTI4MzU1MGIxYjYxMWQ0KTsKICAgICAgICAKCiAgICAgICAgY2lyY2xlX21hcmtlcl8wZWE3MWVlNmY5MmE0ZWM3YTUwYmJiNGM4OWNkYzUzNS5iaW5kUG9wdXAocG9wdXBfMGU5OTk1OWE5NTdmNDMxMThlNGYxZTVjZWIzYjlkNTUpCiAgICAgICAgOwoKICAgICAgICAKICAgIAogICAgCiAgICAgICAgICAgIHZhciBjaXJjbGVfbWFya2VyXzkxYzk1MGJmYmFjNDRlM2NiZWIzODFkYzUyNjNjZjk3ID0gTC5jaXJjbGVNYXJrZXIoCiAgICAgICAgICAgICAgICBbNDMuNjA1NjQ2NiwgLTc5LjUwMTMyMDcwMDAwMDAxXSwKICAgICAgICAgICAgICAgIHsiYnViYmxpbmdNb3VzZUV2ZW50cyI6IHRydWUsICJjb2xvciI6ICJibHVlIiwgImRhc2hBcnJheSI6IG51bGwsICJkYXNoT2Zmc2V0IjogbnVsbCwgImZpbGwiOiB0cnVlLCAiZmlsbENvbG9yIjogIiMzMTg2Y2MiLCAiZmlsbE9wYWNpdHkiOiAwLjcsICJmaWxsUnVsZSI6ICJldmVub2RkIiwgImxpbmVDYXAiOiAicm91bmQiLCAibGluZUpvaW4iOiAicm91bmQiLCAib3BhY2l0eSI6IDEuMCwgInJhZGl1cyI6IDUsICJzdHJva2UiOiB0cnVlLCAid2VpZ2h0IjogM30KICAgICAgICAgICAgKS5hZGRUbyhtYXBfMTExYzg3MjJkODMwNDk0M2I4YTAxZjE0YzM0ZTFmMDMpOwogICAgICAgIAogICAgCiAgICAgICAgdmFyIHBvcHVwX2U4MzQ1Yjc5ZjUwMTQxMzRhZjg4MzUyMzIwYzNiZGIwID0gTC5wb3B1cCh7Im1heFdpZHRoIjogIjEwMCUifSk7CgogICAgICAgIAogICAgICAgICAgICB2YXIgaHRtbF9lNjg4ZDFiODI0ZjU0NTRlYTUyMWJiNGYyMGU1NDRjNCA9ICQoYDxkaXYgaWQ9Imh0bWxfZTY4OGQxYjgyNGY1NDU0ZWE1MjFiYjRmMjBlNTQ0YzQiIHN0eWxlPSJ3aWR0aDogMTAwLjAlOyBoZWlnaHQ6IDEwMC4wJTsiPkh1bWJlciBCYXkgU2hvcmVzLCBNaW1pY28gU291dGgsIE5ldyBUb3JvbnRvPC9kaXY+YClbMF07CiAgICAgICAgICAgIHBvcHVwX2U4MzQ1Yjc5ZjUwMTQxMzRhZjg4MzUyMzIwYzNiZGIwLnNldENvbnRlbnQoaHRtbF9lNjg4ZDFiODI0ZjU0NTRlYTUyMWJiNGYyMGU1NDRjNCk7CiAgICAgICAgCgogICAgICAgIGNpcmNsZV9tYXJrZXJfOTFjOTUwYmZiYWM0NGUzY2JlYjM4MWRjNTI2M2NmOTcuYmluZFBvcHVwKHBvcHVwX2U4MzQ1Yjc5ZjUwMTQxMzRhZjg4MzUyMzIwYzNiZGIwKQogICAgICAgIDsKCiAgICAgICAgCiAgICAKICAgIAogICAgICAgICAgICB2YXIgY2lyY2xlX21hcmtlcl8wYWI3YjIzYTViMTk0NGFhYTVjYjJiMmY1NDJlMDdkZiA9IEwuY2lyY2xlTWFya2VyKAogICAgICAgICAgICAgICAgWzQzLjYwMjQxMzcwMDAwMDAxLCAtNzkuNTQzNDg0MDk5OTk5OTldLAogICAgICAgICAgICAgICAgeyJidWJibGluZ01vdXNlRXZlbnRzIjogdHJ1ZSwgImNvbG9yIjogImJsdWUiLCAiZGFzaEFycmF5IjogbnVsbCwgImRhc2hPZmZzZXQiOiBudWxsLCAiZmlsbCI6IHRydWUsICJmaWxsQ29sb3IiOiAiIzMxODZjYyIsICJmaWxsT3BhY2l0eSI6IDAuNywgImZpbGxSdWxlIjogImV2ZW5vZGQiLCAibGluZUNhcCI6ICJyb3VuZCIsICJsaW5lSm9pbiI6ICJyb3VuZCIsICJvcGFjaXR5IjogMS4wLCAicmFkaXVzIjogNSwgInN0cm9rZSI6IHRydWUsICJ3ZWlnaHQiOiAzfQogICAgICAgICAgICApLmFkZFRvKG1hcF8xMTFjODcyMmQ4MzA0OTQzYjhhMDFmMTRjMzRlMWYwMyk7CiAgICAgICAgCiAgICAKICAgICAgICB2YXIgcG9wdXBfYzJmNTI1NTg1NDc3NDM4NzkxMDZiMjY0ODNlOWU2YjIgPSBMLnBvcHVwKHsibWF4V2lkdGgiOiAiMTAwJSJ9KTsKCiAgICAgICAgCiAgICAgICAgICAgIHZhciBodG1sXzNhYTFiMDdjODVhNDRmZGJiZTZiYzUyNTZmMjllZjE2ID0gJChgPGRpdiBpZD0iaHRtbF8zYWExYjA3Yzg1YTQ0ZmRiYmU2YmM1MjU2ZjI5ZWYxNiIgc3R5bGU9IndpZHRoOiAxMDAuMCU7IGhlaWdodDogMTAwLjAlOyI+QWxkZXJ3b29kLCBMb25nIEJyYW5jaDwvZGl2PmApWzBdOwogICAgICAgICAgICBwb3B1cF9jMmY1MjU1ODU0Nzc0Mzg3OTEwNmIyNjQ4M2U5ZTZiMi5zZXRDb250ZW50KGh0bWxfM2FhMWIwN2M4NWE0NGZkYmJlNmJjNTI1NmYyOWVmMTYpOwogICAgICAgIAoKICAgICAgICBjaXJjbGVfbWFya2VyXzBhYjdiMjNhNWIxOTQ0YWFhNWNiMmIyZjU0MmUwN2RmLmJpbmRQb3B1cChwb3B1cF9jMmY1MjU1ODU0Nzc0Mzg3OTEwNmIyNjQ4M2U5ZTZiMikKICAgICAgICA7CgogICAgICAgIAogICAgCiAgICAKICAgICAgICAgICAgdmFyIGNpcmNsZV9tYXJrZXJfYTgzMDU3NzNmYzJmNDE1MGIwOWZjN2Y3Yzg1ZDUxODMgPSBMLmNpcmNsZU1hcmtlcigKICAgICAgICAgICAgICAgIFs0My42NTM2NTM2MDAwMDAwMDUsIC03OS41MDY5NDM2XSwKICAgICAgICAgICAgICAgIHsiYnViYmxpbmdNb3VzZUV2ZW50cyI6IHRydWUsICJjb2xvciI6ICJibHVlIiwgImRhc2hBcnJheSI6IG51bGwsICJkYXNoT2Zmc2V0IjogbnVsbCwgImZpbGwiOiB0cnVlLCAiZmlsbENvbG9yIjogIiMzMTg2Y2MiLCAiZmlsbE9wYWNpdHkiOiAwLjcsICJmaWxsUnVsZSI6ICJldmVub2RkIiwgImxpbmVDYXAiOiAicm91bmQiLCAibGluZUpvaW4iOiAicm91bmQiLCAib3BhY2l0eSI6IDEuMCwgInJhZGl1cyI6IDUsICJzdHJva2UiOiB0cnVlLCAid2VpZ2h0IjogM30KICAgICAgICAgICAgKS5hZGRUbyhtYXBfMTExYzg3MjJkODMwNDk0M2I4YTAxZjE0YzM0ZTFmMDMpOwogICAgICAgIAogICAgCiAgICAgICAgdmFyIHBvcHVwX2U1MTI4MjNkMWU1OTQ5NzBhMGEzMzZiMTY1Zjc2MzRhID0gTC5wb3B1cCh7Im1heFdpZHRoIjogIjEwMCUifSk7CgogICAgICAgIAogICAgICAgICAgICB2YXIgaHRtbF8xZDg5YzQ4OTViNTA0NGZhOTRjMjIxMjhhZTk5ZmVhNyA9ICQoYDxkaXYgaWQ9Imh0bWxfMWQ4OWM0ODk1YjUwNDRmYTk0YzIyMTI4YWU5OWZlYTciIHN0eWxlPSJ3aWR0aDogMTAwLjAlOyBoZWlnaHQ6IDEwMC4wJTsiPlRoZSBLaW5nc3dheSwgTW9udGdvbWVyeSBSb2FkLCBPbGQgTWlsbCBOb3J0aDwvZGl2PmApWzBdOwogICAgICAgICAgICBwb3B1cF9lNTEyODIzZDFlNTk0OTcwYTBhMzM2YjE2NWY3NjM0YS5zZXRDb250ZW50KGh0bWxfMWQ4OWM0ODk1YjUwNDRmYTk0YzIyMTI4YWU5OWZlYTcpOwogICAgICAgIAoKICAgICAgICBjaXJjbGVfbWFya2VyX2E4MzA1NzczZmMyZjQxNTBiMDlmYzdmN2M4NWQ1MTgzLmJpbmRQb3B1cChwb3B1cF9lNTEyODIzZDFlNTk0OTcwYTBhMzM2YjE2NWY3NjM0YSkKICAgICAgICA7CgogICAgICAgIAogICAgCiAgICAKICAgICAgICAgICAgdmFyIGNpcmNsZV9tYXJrZXJfNWE2YmExYjM5N2Y1NDhiMmE2ZTZhYTdjNDVhOTgwOWMgPSBMLmNpcmNsZU1hcmtlcigKICAgICAgICAgICAgICAgIFs0My42MzYyNTc5LCAtNzkuNDk4NTA5MDk5OTk5OTldLAogICAgICAgICAgICAgICAgeyJidWJibGluZ01vdXNlRXZlbnRzIjogdHJ1ZSwgImNvbG9yIjogImJsdWUiLCAiZGFzaEFycmF5IjogbnVsbCwgImRhc2hPZmZzZXQiOiBudWxsLCAiZmlsbCI6IHRydWUsICJmaWxsQ29sb3IiOiAiIzMxODZjYyIsICJmaWxsT3BhY2l0eSI6IDAuNywgImZpbGxSdWxlIjogImV2ZW5vZGQiLCAibGluZUNhcCI6ICJyb3VuZCIsICJsaW5lSm9pbiI6ICJyb3VuZCIsICJvcGFjaXR5IjogMS4wLCAicmFkaXVzIjogNSwgInN0cm9rZSI6IHRydWUsICJ3ZWlnaHQiOiAzfQogICAgICAgICAgICApLmFkZFRvKG1hcF8xMTFjODcyMmQ4MzA0OTQzYjhhMDFmMTRjMzRlMWYwMyk7CiAgICAgICAgCiAgICAKICAgICAgICB2YXIgcG9wdXBfYjUxOTQwYjc5MzZiNDA3Yzk2NTY0MzEwYWI0MWI5ODggPSBMLnBvcHVwKHsibWF4V2lkdGgiOiAiMTAwJSJ9KTsKCiAgICAgICAgCiAgICAgICAgICAgIHZhciBodG1sX2U3MDRjMzhjYjgwNjQxODE4NDMzOTBiMmZiYmIzNDQ0ID0gJChgPGRpdiBpZD0iaHRtbF9lNzA0YzM4Y2I4MDY0MTgxODQzMzkwYjJmYmJiMzQ0NCIgc3R5bGU9IndpZHRoOiAxMDAuMCU7IGhlaWdodDogMTAwLjAlOyI+SHVtYmVyIEJheSwgS2luZyYjMzk7cyBNaWxsIFBhcmssIEtpbmdzd2F5IFBhcmsgU291dGggRWFzdCwgTWltaWNvIE5FLCBPbGQgTWlsbCBTb3V0aCwgVGhlIFF1ZWVuc3dheSBFYXN0LCBSb3lhbCBZb3JrIFNvdXRoIEVhc3QsIFN1bm55bGVhPC9kaXY+YClbMF07CiAgICAgICAgICAgIHBvcHVwX2I1MTk0MGI3OTM2YjQwN2M5NjU2NDMxMGFiNDFiOTg4LnNldENvbnRlbnQoaHRtbF9lNzA0YzM4Y2I4MDY0MTgxODQzMzkwYjJmYmJiMzQ0NCk7CiAgICAgICAgCgogICAgICAgIGNpcmNsZV9tYXJrZXJfNWE2YmExYjM5N2Y1NDhiMmE2ZTZhYTdjNDVhOTgwOWMuYmluZFBvcHVwKHBvcHVwX2I1MTk0MGI3OTM2YjQwN2M5NjU2NDMxMGFiNDFiOTg4KQogICAgICAgIDsKCiAgICAgICAgCiAgICAKICAgIAogICAgICAgICAgICB2YXIgY2lyY2xlX21hcmtlcl8zMGEwOGIzZTcxMzE0YThkOWE5NzRlMGNhYjJiMzc4YyA9IEwuY2lyY2xlTWFya2VyKAogICAgICAgICAgICAgICAgWzQzLjYyODg0MDgsIC03OS41MjA5OTk0MDAwMDAwMV0sCiAgICAgICAgICAgICAgICB7ImJ1YmJsaW5nTW91c2VFdmVudHMiOiB0cnVlLCAiY29sb3IiOiAiYmx1ZSIsICJkYXNoQXJyYXkiOiBudWxsLCAiZGFzaE9mZnNldCI6IG51bGwsICJmaWxsIjogdHJ1ZSwgImZpbGxDb2xvciI6ICIjMzE4NmNjIiwgImZpbGxPcGFjaXR5IjogMC43LCAiZmlsbFJ1bGUiOiAiZXZlbm9kZCIsICJsaW5lQ2FwIjogInJvdW5kIiwgImxpbmVKb2luIjogInJvdW5kIiwgIm9wYWNpdHkiOiAxLjAsICJyYWRpdXMiOiA1LCAic3Ryb2tlIjogdHJ1ZSwgIndlaWdodCI6IDN9CiAgICAgICAgICAgICkuYWRkVG8obWFwXzExMWM4NzIyZDgzMDQ5NDNiOGEwMWYxNGMzNGUxZjAzKTsKICAgICAgICAKICAgIAogICAgICAgIHZhciBwb3B1cF9kYjBkMjNjOGVlMTI0MjU0YmE3YjYwYTgxOGFiZWYxZCA9IEwucG9wdXAoeyJtYXhXaWR0aCI6ICIxMDAlIn0pOwoKICAgICAgICAKICAgICAgICAgICAgdmFyIGh0bWxfN2I1MzIyYzQ4NmQ1NGUwODhhNjNiNGE5YTg5ZWVjMTggPSAkKGA8ZGl2IGlkPSJodG1sXzdiNTMyMmM0ODZkNTRlMDg4YTYzYjRhOWE4OWVlYzE4IiBzdHlsZT0id2lkdGg6IDEwMC4wJTsgaGVpZ2h0OiAxMDAuMCU7Ij5LaW5nc3dheSBQYXJrIFNvdXRoIFdlc3QsIE1pbWljbyBOVywgVGhlIFF1ZWVuc3dheSBXZXN0LCBSb3lhbCBZb3JrIFNvdXRoIFdlc3QsIFNvdXRoIG9mIEJsb29yPC9kaXY+YClbMF07CiAgICAgICAgICAgIHBvcHVwX2RiMGQyM2M4ZWUxMjQyNTRiYTdiNjBhODE4YWJlZjFkLnNldENvbnRlbnQoaHRtbF83YjUzMjJjNDg2ZDU0ZTA4OGE2M2I0YTlhODllZWMxOCk7CiAgICAgICAgCgogICAgICAgIGNpcmNsZV9tYXJrZXJfMzBhMDhiM2U3MTMxNGE4ZDlhOTc0ZTBjYWIyYjM3OGMuYmluZFBvcHVwKHBvcHVwX2RiMGQyM2M4ZWUxMjQyNTRiYTdiNjBhODE4YWJlZjFkKQogICAgICAgIDsKCiAgICAgICAgCiAgICAKICAgIAogICAgICAgICAgICB2YXIgY2lyY2xlX21hcmtlcl82MjM2MjViNWZmMWQ0YTgyYTlmYjk5ODViYjI1YTJkYiA9IEwuY2lyY2xlTWFya2VyKAogICAgICAgICAgICAgICAgWzQzLjY2Nzg1NTYsIC03OS41MzIyNDI0MDAwMDAwMl0sCiAgICAgICAgICAgICAgICB7ImJ1YmJsaW5nTW91c2VFdmVudHMiOiB0cnVlLCAiY29sb3IiOiAiYmx1ZSIsICJkYXNoQXJyYXkiOiBudWxsLCAiZGFzaE9mZnNldCI6IG51bGwsICJmaWxsIjogdHJ1ZSwgImZpbGxDb2xvciI6ICIjMzE4NmNjIiwgImZpbGxPcGFjaXR5IjogMC43LCAiZmlsbFJ1bGUiOiAiZXZlbm9kZCIsICJsaW5lQ2FwIjogInJvdW5kIiwgImxpbmVKb2luIjogInJvdW5kIiwgIm9wYWNpdHkiOiAxLjAsICJyYWRpdXMiOiA1LCAic3Ryb2tlIjogdHJ1ZSwgIndlaWdodCI6IDN9CiAgICAgICAgICAgICkuYWRkVG8obWFwXzExMWM4NzIyZDgzMDQ5NDNiOGEwMWYxNGMzNGUxZjAzKTsKICAgICAgICAKICAgIAogICAgICAgIHZhciBwb3B1cF83NzA3MzA1NzdmYjM0NTAxYTkxYThmY2ZjOWZiMmQ5OCA9IEwucG9wdXAoeyJtYXhXaWR0aCI6ICIxMDAlIn0pOwoKICAgICAgICAKICAgICAgICAgICAgdmFyIGh0bWxfYzA5YTc4YWFjZjBjNDA4OTlhM2M2YmRmMTA5NmNjMzkgPSAkKGA8ZGl2IGlkPSJodG1sX2MwOWE3OGFhY2YwYzQwODk5YTNjNmJkZjEwOTZjYzM5IiBzdHlsZT0id2lkdGg6IDEwMC4wJTsgaGVpZ2h0OiAxMDAuMCU7Ij5RdWVlbiYjMzk7cyBQYXJrPC9kaXY+YClbMF07CiAgICAgICAgICAgIHBvcHVwXzc3MDczMDU3N2ZiMzQ1MDFhOTFhOGZjZmM5ZmIyZDk4LnNldENvbnRlbnQoaHRtbF9jMDlhNzhhYWNmMGM0MDg5OWEzYzZiZGYxMDk2Y2MzOSk7CiAgICAgICAgCgogICAgICAgIGNpcmNsZV9tYXJrZXJfNjIzNjI1YjVmZjFkNGE4MmE5ZmI5OTg1YmIyNWEyZGIuYmluZFBvcHVwKHBvcHVwXzc3MDczMDU3N2ZiMzQ1MDFhOTFhOGZjZmM5ZmIyZDk4KQogICAgICAgIDsKCiAgICAgICAgCiAgICAKICAgIAogICAgICAgICAgICB2YXIgY2lyY2xlX21hcmtlcl8zNzg2ZWZjM2UxNWI0OTIyOTYxYWM5MzI4OWJhMjMxZiA9IEwuY2lyY2xlTWFya2VyKAogICAgICAgICAgICAgICAgWzQzLjY1MDk0MzIsIC03OS41NTQ3MjQ0MDAwMDAwMV0sCiAgICAgICAgICAgICAgICB7ImJ1YmJsaW5nTW91c2VFdmVudHMiOiB0cnVlLCAiY29sb3IiOiAiYmx1ZSIsICJkYXNoQXJyYXkiOiBudWxsLCAiZGFzaE9mZnNldCI6IG51bGwsICJmaWxsIjogdHJ1ZSwgImZpbGxDb2xvciI6ICIjMzE4NmNjIiwgImZpbGxPcGFjaXR5IjogMC43LCAiZmlsbFJ1bGUiOiAiZXZlbm9kZCIsICJsaW5lQ2FwIjogInJvdW5kIiwgImxpbmVKb2luIjogInJvdW5kIiwgIm9wYWNpdHkiOiAxLjAsICJyYWRpdXMiOiA1LCAic3Ryb2tlIjogdHJ1ZSwgIndlaWdodCI6IDN9CiAgICAgICAgICAgICkuYWRkVG8obWFwXzExMWM4NzIyZDgzMDQ5NDNiOGEwMWYxNGMzNGUxZjAzKTsKICAgICAgICAKICAgIAogICAgICAgIHZhciBwb3B1cF9iODQ2YzliM2ZiZDg0YzI5Yjc5NzhlNzFiMDM4NjA4ZiA9IEwucG9wdXAoeyJtYXhXaWR0aCI6ICIxMDAlIn0pOwoKICAgICAgICAKICAgICAgICAgICAgdmFyIGh0bWxfMjkyZjQ4MmRiMjhmNGQ3OGFhMTAzMGMxYzczMzE1ZmEgPSAkKGA8ZGl2IGlkPSJodG1sXzI5MmY0ODJkYjI4ZjRkNzhhYTEwMzBjMWM3MzMxNWZhIiBzdHlsZT0id2lkdGg6IDEwMC4wJTsgaGVpZ2h0OiAxMDAuMCU7Ij5DbG92ZXJkYWxlLCBJc2xpbmd0b24sIE1hcnRpbiBHcm92ZSwgUHJpbmNlc3MgR2FyZGVucywgV2VzdCBEZWFuZSBQYXJrPC9kaXY+YClbMF07CiAgICAgICAgICAgIHBvcHVwX2I4NDZjOWIzZmJkODRjMjliNzk3OGU3MWIwMzg2MDhmLnNldENvbnRlbnQoaHRtbF8yOTJmNDgyZGIyOGY0ZDc4YWExMDMwYzFjNzMzMTVmYSk7CiAgICAgICAgCgogICAgICAgIGNpcmNsZV9tYXJrZXJfMzc4NmVmYzNlMTViNDkyMjk2MWFjOTMyODliYTIzMWYuYmluZFBvcHVwKHBvcHVwX2I4NDZjOWIzZmJkODRjMjliNzk3OGU3MWIwMzg2MDhmKQogICAgICAgIDsKCiAgICAgICAgCiAgICAKICAgIAogICAgICAgICAgICB2YXIgY2lyY2xlX21hcmtlcl8zZGMwYmU5ZWMzMjQ0ZTgxYmQ2YTRhNGM0MDg2YWZkMyA9IEwuY2lyY2xlTWFya2VyKAogICAgICAgICAgICAgICAgWzQzLjY0MzUxNTIsIC03OS41NzcyMDA3OTk5OTk5OV0sCiAgICAgICAgICAgICAgICB7ImJ1YmJsaW5nTW91c2VFdmVudHMiOiB0cnVlLCAiY29sb3IiOiAiYmx1ZSIsICJkYXNoQXJyYXkiOiBudWxsLCAiZGFzaE9mZnNldCI6IG51bGwsICJmaWxsIjogdHJ1ZSwgImZpbGxDb2xvciI6ICIjMzE4NmNjIiwgImZpbGxPcGFjaXR5IjogMC43LCAiZmlsbFJ1bGUiOiAiZXZlbm9kZCIsICJsaW5lQ2FwIjogInJvdW5kIiwgImxpbmVKb2luIjogInJvdW5kIiwgIm9wYWNpdHkiOiAxLjAsICJyYWRpdXMiOiA1LCAic3Ryb2tlIjogdHJ1ZSwgIndlaWdodCI6IDN9CiAgICAgICAgICAgICkuYWRkVG8obWFwXzExMWM4NzIyZDgzMDQ5NDNiOGEwMWYxNGMzNGUxZjAzKTsKICAgICAgICAKICAgIAogICAgICAgIHZhciBwb3B1cF82YWMwZmJlM2JjMWQ0YTIyYjY0NjJjZGU2M2FiODI1OSA9IEwucG9wdXAoeyJtYXhXaWR0aCI6ICIxMDAlIn0pOwoKICAgICAgICAKICAgICAgICAgICAgdmFyIGh0bWxfYjdmODZjYmU3YmFkNGEzMzkxYjA0MDJhNjg2NjUyMzYgPSAkKGA8ZGl2IGlkPSJodG1sX2I3Zjg2Y2JlN2JhZDRhMzM5MWIwNDAyYTY4NjY1MjM2IiBzdHlsZT0id2lkdGg6IDEwMC4wJTsgaGVpZ2h0OiAxMDAuMCU7Ij5CbG9vcmRhbGUgR2FyZGVucywgRXJpbmdhdGUsIE1hcmtsYW5kIFdvb2QsIE9sZCBCdXJuaGFtdGhvcnBlPC9kaXY+YClbMF07CiAgICAgICAgICAgIHBvcHVwXzZhYzBmYmUzYmMxZDRhMjJiNjQ2MmNkZTYzYWI4MjU5LnNldENvbnRlbnQoaHRtbF9iN2Y4NmNiZTdiYWQ0YTMzOTFiMDQwMmE2ODY2NTIzNik7CiAgICAgICAgCgogICAgICAgIGNpcmNsZV9tYXJrZXJfM2RjMGJlOWVjMzI0NGU4MWJkNmE0YTRjNDA4NmFmZDMuYmluZFBvcHVwKHBvcHVwXzZhYzBmYmUzYmMxZDRhMjJiNjQ2MmNkZTYzYWI4MjU5KQogICAgICAgIDsKCiAgICAgICAgCiAgICAKICAgIAogICAgICAgICAgICB2YXIgY2lyY2xlX21hcmtlcl8zYzNhNTQ5MGU5ZjM0OWZmOWJlNTQyM2IzNTRlM2ZmNiA9IEwuY2lyY2xlTWFya2VyKAogICAgICAgICAgICAgICAgWzQzLjc1NjMwMzMsIC03OS41NjU5NjMyOTk5OTk5OV0sCiAgICAgICAgICAgICAgICB7ImJ1YmJsaW5nTW91c2VFdmVudHMiOiB0cnVlLCAiY29sb3IiOiAiYmx1ZSIsICJkYXNoQXJyYXkiOiBudWxsLCAiZGFzaE9mZnNldCI6IG51bGwsICJmaWxsIjogdHJ1ZSwgImZpbGxDb2xvciI6ICIjMzE4NmNjIiwgImZpbGxPcGFjaXR5IjogMC43LCAiZmlsbFJ1bGUiOiAiZXZlbm9kZCIsICJsaW5lQ2FwIjogInJvdW5kIiwgImxpbmVKb2luIjogInJvdW5kIiwgIm9wYWNpdHkiOiAxLjAsICJyYWRpdXMiOiA1LCAic3Ryb2tlIjogdHJ1ZSwgIndlaWdodCI6IDN9CiAgICAgICAgICAgICkuYWRkVG8obWFwXzExMWM4NzIyZDgzMDQ5NDNiOGEwMWYxNGMzNGUxZjAzKTsKICAgICAgICAKICAgIAogICAgICAgIHZhciBwb3B1cF9jN2M0ZjE0NWRhMjc0NGZkYTFkNWZlYmMxNmM4MDhhNCA9IEwucG9wdXAoeyJtYXhXaWR0aCI6ICIxMDAlIn0pOwoKICAgICAgICAKICAgICAgICAgICAgdmFyIGh0bWxfZTY3MDUwZGMyZWM1NGE5ZjgwMTE3N2I4NDAyN2EyNDMgPSAkKGA8ZGl2IGlkPSJodG1sX2U2NzA1MGRjMmVjNTRhOWY4MDExNzdiODQwMjdhMjQzIiBzdHlsZT0id2lkdGg6IDEwMC4wJTsgaGVpZ2h0OiAxMDAuMCU7Ij5IdW1iZXIgU3VtbWl0PC9kaXY+YClbMF07CiAgICAgICAgICAgIHBvcHVwX2M3YzRmMTQ1ZGEyNzQ0ZmRhMWQ1ZmViYzE2YzgwOGE0LnNldENvbnRlbnQoaHRtbF9lNjcwNTBkYzJlYzU0YTlmODAxMTc3Yjg0MDI3YTI0Myk7CiAgICAgICAgCgogICAgICAgIGNpcmNsZV9tYXJrZXJfM2MzYTU0OTBlOWYzNDlmZjliZTU0MjNiMzU0ZTNmZjYuYmluZFBvcHVwKHBvcHVwX2M3YzRmMTQ1ZGEyNzQ0ZmRhMWQ1ZmViYzE2YzgwOGE0KQogICAgICAgIDsKCiAgICAgICAgCiAgICAKICAgIAogICAgICAgICAgICB2YXIgY2lyY2xlX21hcmtlcl83ZDA0YWEyMTU4NmQ0YmM1OWFjNDU3ZmJmYzY5ZTUwZSA9IEwuY2lyY2xlTWFya2VyKAogICAgICAgICAgICAgICAgWzQzLjcyNDc2NTksIC03OS41MzIyNDI0MDAwMDAwMl0sCiAgICAgICAgICAgICAgICB7ImJ1YmJsaW5nTW91c2VFdmVudHMiOiB0cnVlLCAiY29sb3IiOiAiYmx1ZSIsICJkYXNoQXJyYXkiOiBudWxsLCAiZGFzaE9mZnNldCI6IG51bGwsICJmaWxsIjogdHJ1ZSwgImZpbGxDb2xvciI6ICIjMzE4NmNjIiwgImZpbGxPcGFjaXR5IjogMC43LCAiZmlsbFJ1bGUiOiAiZXZlbm9kZCIsICJsaW5lQ2FwIjogInJvdW5kIiwgImxpbmVKb2luIjogInJvdW5kIiwgIm9wYWNpdHkiOiAxLjAsICJyYWRpdXMiOiA1LCAic3Ryb2tlIjogdHJ1ZSwgIndlaWdodCI6IDN9CiAgICAgICAgICAgICkuYWRkVG8obWFwXzExMWM4NzIyZDgzMDQ5NDNiOGEwMWYxNGMzNGUxZjAzKTsKICAgICAgICAKICAgIAogICAgICAgIHZhciBwb3B1cF83MGI2MzI0NjFlNTg0NzMyOTllZjBhMDUzYWU4MWUwYSA9IEwucG9wdXAoeyJtYXhXaWR0aCI6ICIxMDAlIn0pOwoKICAgICAgICAKICAgICAgICAgICAgdmFyIGh0bWxfMWRjOTU3NzdlYTc5NDk4ZDk5NTdkMGIxZWY5NDI1ODQgPSAkKGA8ZGl2IGlkPSJodG1sXzFkYzk1Nzc3ZWE3OTQ5OGQ5OTU3ZDBiMWVmOTQyNTg0IiBzdHlsZT0id2lkdGg6IDEwMC4wJTsgaGVpZ2h0OiAxMDAuMCU7Ij5FbWVyeSwgSHVtYmVybGVhPC9kaXY+YClbMF07CiAgICAgICAgICAgIHBvcHVwXzcwYjYzMjQ2MWU1ODQ3MzI5OWVmMGEwNTNhZTgxZTBhLnNldENvbnRlbnQoaHRtbF8xZGM5NTc3N2VhNzk0OThkOTk1N2QwYjFlZjk0MjU4NCk7CiAgICAgICAgCgogICAgICAgIGNpcmNsZV9tYXJrZXJfN2QwNGFhMjE1ODZkNGJjNTlhYzQ1N2ZiZmM2OWU1MGUuYmluZFBvcHVwKHBvcHVwXzcwYjYzMjQ2MWU1ODQ3MzI5OWVmMGEwNTNhZTgxZTBhKQogICAgICAgIDsKCiAgICAgICAgCiAgICAKICAgIAogICAgICAgICAgICB2YXIgY2lyY2xlX21hcmtlcl9hNTQ2ZmVlNjg0OGE0ZWM1OTFiYjliYzYzYjc2NDA4OCA9IEwuY2lyY2xlTWFya2VyKAogICAgICAgICAgICAgICAgWzQzLjcwNjg3NiwgLTc5LjUxODE4ODQwMDAwMDAxXSwKICAgICAgICAgICAgICAgIHsiYnViYmxpbmdNb3VzZUV2ZW50cyI6IHRydWUsICJjb2xvciI6ICJibHVlIiwgImRhc2hBcnJheSI6IG51bGwsICJkYXNoT2Zmc2V0IjogbnVsbCwgImZpbGwiOiB0cnVlLCAiZmlsbENvbG9yIjogIiMzMTg2Y2MiLCAiZmlsbE9wYWNpdHkiOiAwLjcsICJmaWxsUnVsZSI6ICJldmVub2RkIiwgImxpbmVDYXAiOiAicm91bmQiLCAibGluZUpvaW4iOiAicm91bmQiLCAib3BhY2l0eSI6IDEuMCwgInJhZGl1cyI6IDUsICJzdHJva2UiOiB0cnVlLCAid2VpZ2h0IjogM30KICAgICAgICAgICAgKS5hZGRUbyhtYXBfMTExYzg3MjJkODMwNDk0M2I4YTAxZjE0YzM0ZTFmMDMpOwogICAgICAgIAogICAgCiAgICAgICAgdmFyIHBvcHVwX2EyN2RjZTYzMGE1ZDQ1ZWM5OThmY2U0NzBjOThiNjE5ID0gTC5wb3B1cCh7Im1heFdpZHRoIjogIjEwMCUifSk7CgogICAgICAgIAogICAgICAgICAgICB2YXIgaHRtbF8zZjc3Y2YzZjYyNGI0ZGM2ODA4YmUxMDU1MDRiMDQ0OCA9ICQoYDxkaXYgaWQ9Imh0bWxfM2Y3N2NmM2Y2MjRiNGRjNjgwOGJlMTA1NTA0YjA0NDgiIHN0eWxlPSJ3aWR0aDogMTAwLjAlOyBoZWlnaHQ6IDEwMC4wJTsiPldlc3RvbjwvZGl2PmApWzBdOwogICAgICAgICAgICBwb3B1cF9hMjdkY2U2MzBhNWQ0NWVjOTk4ZmNlNDcwYzk4YjYxOS5zZXRDb250ZW50KGh0bWxfM2Y3N2NmM2Y2MjRiNGRjNjgwOGJlMTA1NTA0YjA0NDgpOwogICAgICAgIAoKICAgICAgICBjaXJjbGVfbWFya2VyX2E1NDZmZWU2ODQ4YTRlYzU5MWJiOWJjNjNiNzY0MDg4LmJpbmRQb3B1cChwb3B1cF9hMjdkY2U2MzBhNWQ0NWVjOTk4ZmNlNDcwYzk4YjYxOSkKICAgICAgICA7CgogICAgICAgIAogICAgCiAgICAKICAgICAgICAgICAgdmFyIGNpcmNsZV9tYXJrZXJfOTI3Njc3NzU3MjI3NGIwODhkYzkxMTY2NTliMzc5YzAgPSBMLmNpcmNsZU1hcmtlcigKICAgICAgICAgICAgICAgIFs0My42OTYzMTksIC03OS41MzIyNDI0MDAwMDAwMl0sCiAgICAgICAgICAgICAgICB7ImJ1YmJsaW5nTW91c2VFdmVudHMiOiB0cnVlLCAiY29sb3IiOiAiYmx1ZSIsICJkYXNoQXJyYXkiOiBudWxsLCAiZGFzaE9mZnNldCI6IG51bGwsICJmaWxsIjogdHJ1ZSwgImZpbGxDb2xvciI6ICIjMzE4NmNjIiwgImZpbGxPcGFjaXR5IjogMC43LCAiZmlsbFJ1bGUiOiAiZXZlbm9kZCIsICJsaW5lQ2FwIjogInJvdW5kIiwgImxpbmVKb2luIjogInJvdW5kIiwgIm9wYWNpdHkiOiAxLjAsICJyYWRpdXMiOiA1LCAic3Ryb2tlIjogdHJ1ZSwgIndlaWdodCI6IDN9CiAgICAgICAgICAgICkuYWRkVG8obWFwXzExMWM4NzIyZDgzMDQ5NDNiOGEwMWYxNGMzNGUxZjAzKTsKICAgICAgICAKICAgIAogICAgICAgIHZhciBwb3B1cF8xOWRlMWM3MTkwMWQ0ZTBiYmU3Mjk5NTBiZjU2YTM2YiA9IEwucG9wdXAoeyJtYXhXaWR0aCI6ICIxMDAlIn0pOwoKICAgICAgICAKICAgICAgICAgICAgdmFyIGh0bWxfYWMzYjViYzAyNDc4NDVkMmFmYzRhMWQ2ZWJhMjg1MDcgPSAkKGA8ZGl2IGlkPSJodG1sX2FjM2I1YmMwMjQ3ODQ1ZDJhZmM0YTFkNmViYTI4NTA3IiBzdHlsZT0id2lkdGg6IDEwMC4wJTsgaGVpZ2h0OiAxMDAuMCU7Ij5XZXN0bW91bnQ8L2Rpdj5gKVswXTsKICAgICAgICAgICAgcG9wdXBfMTlkZTFjNzE5MDFkNGUwYmJlNzI5OTUwYmY1NmEzNmIuc2V0Q29udGVudChodG1sX2FjM2I1YmMwMjQ3ODQ1ZDJhZmM0YTFkNmViYTI4NTA3KTsKICAgICAgICAKCiAgICAgICAgY2lyY2xlX21hcmtlcl85Mjc2Nzc3NTcyMjc0YjA4OGRjOTExNjY1OWIzNzljMC5iaW5kUG9wdXAocG9wdXBfMTlkZTFjNzE5MDFkNGUwYmJlNzI5OTUwYmY1NmEzNmIpCiAgICAgICAgOwoKICAgICAgICAKICAgIAogICAgCiAgICAgICAgICAgIHZhciBjaXJjbGVfbWFya2VyX2IxY2VlMWFmNWM5ZjRjYzU5NmVkYWQzNmQ1MThkN2U5ID0gTC5jaXJjbGVNYXJrZXIoCiAgICAgICAgICAgICAgICBbNDMuNjg4OTA1NCwgLTc5LjU1NDcyNDQwMDAwMDAxXSwKICAgICAgICAgICAgICAgIHsiYnViYmxpbmdNb3VzZUV2ZW50cyI6IHRydWUsICJjb2xvciI6ICJibHVlIiwgImRhc2hBcnJheSI6IG51bGwsICJkYXNoT2Zmc2V0IjogbnVsbCwgImZpbGwiOiB0cnVlLCAiZmlsbENvbG9yIjogIiMzMTg2Y2MiLCAiZmlsbE9wYWNpdHkiOiAwLjcsICJmaWxsUnVsZSI6ICJldmVub2RkIiwgImxpbmVDYXAiOiAicm91bmQiLCAibGluZUpvaW4iOiAicm91bmQiLCAib3BhY2l0eSI6IDEuMCwgInJhZGl1cyI6IDUsICJzdHJva2UiOiB0cnVlLCAid2VpZ2h0IjogM30KICAgICAgICAgICAgKS5hZGRUbyhtYXBfMTExYzg3MjJkODMwNDk0M2I4YTAxZjE0YzM0ZTFmMDMpOwogICAgICAgIAogICAgCiAgICAgICAgdmFyIHBvcHVwX2E5OWQ3NWNkZmY1YjQxOTJhNDYyNDk2ZWEyMjM1NThmID0gTC5wb3B1cCh7Im1heFdpZHRoIjogIjEwMCUifSk7CgogICAgICAgIAogICAgICAgICAgICB2YXIgaHRtbF85ZjI4NjUxYzdjMDc0NDNhYjIxZTZhNTdjN2JlZTgxMCA9ICQoYDxkaXYgaWQ9Imh0bWxfOWYyODY1MWM3YzA3NDQzYWIyMWU2YTU3YzdiZWU4MTAiIHN0eWxlPSJ3aWR0aDogMTAwLjAlOyBoZWlnaHQ6IDEwMC4wJTsiPktpbmdzdmlldyBWaWxsYWdlLCBNYXJ0aW4gR3JvdmUgR2FyZGVucywgUmljaHZpZXcgR2FyZGVucywgU3QuIFBoaWxsaXBzPC9kaXY+YClbMF07CiAgICAgICAgICAgIHBvcHVwX2E5OWQ3NWNkZmY1YjQxOTJhNDYyNDk2ZWEyMjM1NThmLnNldENvbnRlbnQoaHRtbF85ZjI4NjUxYzdjMDc0NDNhYjIxZTZhNTdjN2JlZTgxMCk7CiAgICAgICAgCgogICAgICAgIGNpcmNsZV9tYXJrZXJfYjFjZWUxYWY1YzlmNGNjNTk2ZWRhZDM2ZDUxOGQ3ZTkuYmluZFBvcHVwKHBvcHVwX2E5OWQ3NWNkZmY1YjQxOTJhNDYyNDk2ZWEyMjM1NThmKQogICAgICAgIDsKCiAgICAgICAgCiAgICAKICAgIAogICAgICAgICAgICB2YXIgY2lyY2xlX21hcmtlcl81NGJkOWU3OWY5ZDA0M2EwYmY5NjI4ZWViNWQ1ZGUyZiA9IEwuY2lyY2xlTWFya2VyKAogICAgICAgICAgICAgICAgWzQzLjczOTQxNjM5OTk5OTk5NiwgLTc5LjU4ODQzNjldLAogICAgICAgICAgICAgICAgeyJidWJibGluZ01vdXNlRXZlbnRzIjogdHJ1ZSwgImNvbG9yIjogImJsdWUiLCAiZGFzaEFycmF5IjogbnVsbCwgImRhc2hPZmZzZXQiOiBudWxsLCAiZmlsbCI6IHRydWUsICJmaWxsQ29sb3IiOiAiIzMxODZjYyIsICJmaWxsT3BhY2l0eSI6IDAuNywgImZpbGxSdWxlIjogImV2ZW5vZGQiLCAibGluZUNhcCI6ICJyb3VuZCIsICJsaW5lSm9pbiI6ICJyb3VuZCIsICJvcGFjaXR5IjogMS4wLCAicmFkaXVzIjogNSwgInN0cm9rZSI6IHRydWUsICJ3ZWlnaHQiOiAzfQogICAgICAgICAgICApLmFkZFRvKG1hcF8xMTFjODcyMmQ4MzA0OTQzYjhhMDFmMTRjMzRlMWYwMyk7CiAgICAgICAgCiAgICAKICAgICAgICB2YXIgcG9wdXBfMzY4MzhlZWM0MzZhNDM0MDgyY2FmOGE3MjZiZTQyZTIgPSBMLnBvcHVwKHsibWF4V2lkdGgiOiAiMTAwJSJ9KTsKCiAgICAgICAgCiAgICAgICAgICAgIHZhciBodG1sX2E5ZTdhM2ZlY2Y5MzQ0NDRiY2UwOGIwZjA5MjEwNDBiID0gJChgPGRpdiBpZD0iaHRtbF9hOWU3YTNmZWNmOTM0NDQ0YmNlMDhiMGYwOTIxMDQwYiIgc3R5bGU9IndpZHRoOiAxMDAuMCU7IGhlaWdodDogMTAwLjAlOyI+QWxiaW9uIEdhcmRlbnMsIEJlYXVtb25kIEhlaWdodHMsIEh1bWJlcmdhdGUsIEphbWVzdG93biwgTW91bnQgT2xpdmUsIFNpbHZlcnN0b25lLCBTb3V0aCBTdGVlbGVzLCBUaGlzdGxldG93bjwvZGl2PmApWzBdOwogICAgICAgICAgICBwb3B1cF8zNjgzOGVlYzQzNmE0MzQwODJjYWY4YTcyNmJlNDJlMi5zZXRDb250ZW50KGh0bWxfYTllN2EzZmVjZjkzNDQ0NGJjZTA4YjBmMDkyMTA0MGIpOwogICAgICAgIAoKICAgICAgICBjaXJjbGVfbWFya2VyXzU0YmQ5ZTc5ZjlkMDQzYTBiZjk2MjhlZWI1ZDVkZTJmLmJpbmRQb3B1cChwb3B1cF8zNjgzOGVlYzQzNmE0MzQwODJjYWY4YTcyNmJlNDJlMikKICAgICAgICA7CgogICAgICAgIAogICAgCiAgICAKICAgICAgICAgICAgdmFyIGNpcmNsZV9tYXJrZXJfMTkxODM2NDQ5ODg2NDNhYjliOTcyYmI1NTI0MzA0YjYgPSBMLmNpcmNsZU1hcmtlcigKICAgICAgICAgICAgICAgIFs0My43MDY3NDgyOTk5OTk5OTQsIC03OS41OTQwNTQ0XSwKICAgICAgICAgICAgICAgIHsiYnViYmxpbmdNb3VzZUV2ZW50cyI6IHRydWUsICJjb2xvciI6ICJibHVlIiwgImRhc2hBcnJheSI6IG51bGwsICJkYXNoT2Zmc2V0IjogbnVsbCwgImZpbGwiOiB0cnVlLCAiZmlsbENvbG9yIjogIiMzMTg2Y2MiLCAiZmlsbE9wYWNpdHkiOiAwLjcsICJmaWxsUnVsZSI6ICJldmVub2RkIiwgImxpbmVDYXAiOiAicm91bmQiLCAibGluZUpvaW4iOiAicm91bmQiLCAib3BhY2l0eSI6IDEuMCwgInJhZGl1cyI6IDUsICJzdHJva2UiOiB0cnVlLCAid2VpZ2h0IjogM30KICAgICAgICAgICAgKS5hZGRUbyhtYXBfMTExYzg3MjJkODMwNDk0M2I4YTAxZjE0YzM0ZTFmMDMpOwogICAgICAgIAogICAgCiAgICAgICAgdmFyIHBvcHVwXzQ3ZDVmYTc1Zjc4ODQzOTA4ZWMwZjRmMGVlYWJiNmVjID0gTC5wb3B1cCh7Im1heFdpZHRoIjogIjEwMCUifSk7CgogICAgICAgIAogICAgICAgICAgICB2YXIgaHRtbF9hNDYzMTQ2OGMyNzI0MGU4OTM2ODQxMjk4MWM3N2I4NSA9ICQoYDxkaXYgaWQ9Imh0bWxfYTQ2MzE0NjhjMjcyNDBlODkzNjg0MTI5ODFjNzdiODUiIHN0eWxlPSJ3aWR0aDogMTAwLjAlOyBoZWlnaHQ6IDEwMC4wJTsiPk5vcnRod2VzdDwvZGl2PmApWzBdOwogICAgICAgICAgICBwb3B1cF80N2Q1ZmE3NWY3ODg0MzkwOGVjMGY0ZjBlZWFiYjZlYy5zZXRDb250ZW50KGh0bWxfYTQ2MzE0NjhjMjcyNDBlODkzNjg0MTI5ODFjNzdiODUpOwogICAgICAgIAoKICAgICAgICBjaXJjbGVfbWFya2VyXzE5MTgzNjQ0OTg4NjQzYWI5Yjk3MmJiNTUyNDMwNGI2LmJpbmRQb3B1cChwb3B1cF80N2Q1ZmE3NWY3ODg0MzkwOGVjMGY0ZjBlZWFiYjZlYykKICAgICAgICA7CgogICAgICAgIAogICAgCjwvc2NyaXB0Pg==\" style=\"position:absolute;width:100%;height:100%;left:0;top:0;border:none !important;\" allowfullscreen webkitallowfullscreen mozallowfullscreen></iframe></div></div>"
      ],
      "text/plain": [
       "<folium.folium.Map at 0x1a16924b70>"
      ]
     },
     "execution_count": 25,
     "metadata": {},
     "output_type": "execute_result"
    }
   ],
   "source": [
    "map_etr = folium.Map(location=[latitude, longitude], zoom_start=11)\n",
    "\n",
    "# add markers to map\n",
    "for lat, lng, label in zip(toronto_data['Latitude'], toronto_data['Longitude'], toronto_data['Neighbourhood']):\n",
    "    label = folium.Popup(label, parse_html=True)\n",
    "    folium.CircleMarker(\n",
    "        [lat, lng],\n",
    "        radius=5,\n",
    "        popup=label,\n",
    "        color='blue',\n",
    "        fill=True,\n",
    "        fill_color='#3186cc',\n",
    "        fill_opacity=0.7,\n",
    "        parse_html=False).add_to(map_etr)  \n",
    "    \n",
    "map_etr"
   ]
  },
  {
   "cell_type": "markdown",
   "metadata": {},
   "source": [
    "<h5> Declare the variables for FourSquare API </h5>"
   ]
  },
  {
   "cell_type": "code",
   "execution_count": 61,
   "metadata": {},
   "outputs": [
    {
     "name": "stdout",
     "output_type": "stream",
     "text": [
      "Your credentails:\n",
      "CLIENT_ID: RNZ2XIOEPJHNU4LBX433X0TLTVHTDT3UYUXP0NSICKBZZRME\n",
      "CLIENT_SECRET:S1II4AOOWNCDLDQMAXLO5OIDUFOJJRRDUFER5BFAMK0NH0ZM\n"
     ]
    }
   ],
   "source": [
    "CLIENT_ID = 'RNZ2XIOEPJHNU4LBX433X0TLTVHTDT3UYUXP0NSICKBZZRME' # your Foursquare ID\n",
    "CLIENT_SECRET = 'S1II4AOOWNCDLDQMAXLO5OIDUFOJJRRDUFER5BFAMK0NH0ZM' # your Foursquare Secret\n",
    "VERSION = '20180604'\n",
    "LIMIT = 100\n",
    "\n",
    "print('Your credentails:')\n",
    "print('CLIENT_ID: ' + CLIENT_ID)\n",
    "print('CLIENT_SECRET:' + CLIENT_SECRET)"
   ]
  },
  {
   "cell_type": "code",
   "execution_count": 50,
   "metadata": {},
   "outputs": [
    {
     "name": "stdout",
     "output_type": "stream",
     "text": [
      "The dataframe has 11 boroughs and 103 neighborhoods.\n"
     ]
    }
   ],
   "source": [
    "print('The dataframe has {} boroughs and {} neighborhoods.'.format(\n",
    "        len(toronto_data['Borough'].unique()),\n",
    "        toronto_data.shape[0]\n",
    "    )\n",
    ")"
   ]
  },
  {
   "cell_type": "markdown",
   "metadata": {},
   "source": [
    "<h5> Get the location of Scarborough </h5>"
   ]
  },
  {
   "cell_type": "code",
   "execution_count": 51,
   "metadata": {},
   "outputs": [
    {
     "name": "stdout",
     "output_type": "stream",
     "text": [
      "The geograpical coordinate of Scarborough are 43.773077, -79.257774.\n"
     ]
    }
   ],
   "source": [
    "address = 'Scarborough, Toronto'\n",
    "\n",
    "geolocator = Nominatim(user_agent=\"scar_explorer\")\n",
    "location = geolocator.geocode(address)\n",
    "latitude = location.latitude\n",
    "longitude = location.longitude\n",
    "print('The geograpical coordinate of Scarborough are {}, {}.'.format(latitude, longitude))"
   ]
  },
  {
   "cell_type": "code",
   "execution_count": 52,
   "metadata": {},
   "outputs": [],
   "source": [
    "scar_data = toronto_data[toronto_data['Borough'] == 'Scarborough'].reset_index(drop=True)"
   ]
  },
  {
   "cell_type": "markdown",
   "metadata": {},
   "source": [
    "<h5> Create a map of Scarborough using Folium </h5>"
   ]
  },
  {
   "cell_type": "code",
   "execution_count": 53,
   "metadata": {},
   "outputs": [
    {
     "data": {
      "text/html": [
       "<div style=\"width:100%;\"><div style=\"position:relative;width:100%;height:0;padding-bottom:60%;\"><iframe src=\"data:text/html;charset=utf-8;base64,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\" style=\"position:absolute;width:100%;height:100%;left:0;top:0;border:none !important;\" allowfullscreen webkitallowfullscreen mozallowfullscreen></iframe></div></div>"
      ],
      "text/plain": [
       "<folium.folium.Map at 0x1a16ea9400>"
      ]
     },
     "execution_count": 53,
     "metadata": {},
     "output_type": "execute_result"
    }
   ],
   "source": [
    "map_scar = folium.Map(location=[latitude, longitude], zoom_start=11)\n",
    "\n",
    "# add markers to map\n",
    "for lat, lng, label in zip(scar_data['Latitude'], scar_data['Longitude'], scar_data['Neighbourhood']):\n",
    "    label = folium.Popup(label, parse_html=True)\n",
    "    folium.CircleMarker(\n",
    "        [lat, lng],\n",
    "        radius=5,\n",
    "        popup=label,\n",
    "        color='blue',\n",
    "        fill=True,\n",
    "        fill_color='#3186cc',\n",
    "        fill_opacity=0.7,\n",
    "        parse_html=False).add_to(map_scar)  \n",
    "    \n",
    "map_scar"
   ]
  },
  {
   "cell_type": "markdown",
   "metadata": {},
   "source": [
    "<h5> Create a function to get Top 100 venues </h5>"
   ]
  },
  {
   "cell_type": "code",
   "execution_count": 60,
   "metadata": {},
   "outputs": [
    {
     "name": "stdout",
     "output_type": "stream",
     "text": [
      "Rouge, Malvern\n",
      "Highland Creek, Rouge Hill, Port Union\n",
      "Guildwood, Morningside, West Hill\n",
      "Woburn\n",
      "Cedarbrae\n",
      "Scarborough Village\n",
      "East Birchmount Park, Ionview, Kennedy Park\n",
      "Clairlea, Golden Mile, Oakridge\n",
      "Cliffcrest, Cliffside, Scarborough Village West\n",
      "Birch Cliff, Cliffside West\n",
      "Dorset Park, Scarborough Town Centre, Wexford Heights\n",
      "Maryvale, Wexford\n",
      "Agincourt\n",
      "Clarks Corners, Sullivan, Tam O'Shanter\n",
      "Agincourt North, L'Amoreaux East, Milliken, Steeles East\n",
      "L'Amoreaux West\n",
      "Upper Rouge\n"
     ]
    }
   ],
   "source": [
    "def getNearbyVenues(names, latitudes, longitudes, radius=1000):\n",
    "    \n",
    "    venues_list=[]\n",
    "    for name, lat, lng in zip(names, latitudes, longitudes):\n",
    "        print(name)\n",
    "            \n",
    "        # create the API request URL\n",
    "        url = 'https://api.foursquare.com/v2/venues/explore?&client_id={}&client_secret={}&v={}&ll={},{}&radius={}&limit={}'.format(\n",
    "            CLIENT_ID, \n",
    "            CLIENT_SECRET, \n",
    "            VERSION, \n",
    "            lat, \n",
    "            lng, \n",
    "            radius, \n",
    "            LIMIT)\n",
    "            \n",
    "        # make the GET request\n",
    "        results = requests.get(url).json()[\"response\"]['groups'][0]['items']\n",
    "        \n",
    "        # return only relevant information for each nearby venue\n",
    "        venues_list.append([(\n",
    "            name, \n",
    "            lat, \n",
    "            lng, \n",
    "            v['venue']['name'], \n",
    "            v['venue']['location']['lat'], \n",
    "            v['venue']['location']['lng'],  \n",
    "            v['venue']['categories'][0]['name']) for v in results])\n",
    "\n",
    "    nearby_venues = pd.DataFrame([item for venue_list in venues_list for item in venue_list])\n",
    "    nearby_venues.columns = ['Neighborhood', \n",
    "                  'Neighborhood Latitude', \n",
    "                  'Neighborhood Longitude', \n",
    "                  'Venue', \n",
    "                  'Venue Latitude', \n",
    "                  'Venue Longitude', \n",
    "                  'Venue Category']\n",
    "    \n",
    "    return(nearby_venues)\n",
    "\n",
    "scar_venues = getNearbyVenues(names=scar_data['Neighbourhood'],\n",
    "                                   latitudes=scar_data['Latitude'],\n",
    "                                   longitudes=scar_data['Longitude']\n",
    "                                  )\n",
    "\n"
   ]
  },
  {
   "cell_type": "markdown",
   "metadata": {},
   "source": [
    "<h5> Get number of unique venue categories </h5>"
   ]
  },
  {
   "cell_type": "code",
   "execution_count": 75,
   "metadata": {},
   "outputs": [
    {
     "data": {
      "text/plain": [
       "117"
      ]
     },
     "execution_count": 75,
     "metadata": {},
     "output_type": "execute_result"
    }
   ],
   "source": [
    "len(scar_venues['Venue Category'].unique())"
   ]
  },
  {
   "cell_type": "markdown",
   "metadata": {},
   "source": [
    "<h5> Get number of unique restaurants </h5>"
   ]
  },
  {
   "cell_type": "code",
   "execution_count": null,
   "metadata": {},
   "outputs": [],
   "source": [
    "scar_restaurants = scar_venues[scar_venues['Venue Category'].str.contains('Restaurant', regex=False)]\n",
    "print('{} restaurants were returned by Foursquare.'.format(scar_restaurants.shape[0]))"
   ]
  },
  {
   "cell_type": "markdown",
   "metadata": {},
   "source": [
    "<h5> EDA for Neighbourhoods </h5>"
   ]
  },
  {
   "cell_type": "code",
   "execution_count": 67,
   "metadata": {},
   "outputs": [
    {
     "data": {
      "text/html": [
       "<div>\n",
       "<style scoped>\n",
       "    .dataframe tbody tr th:only-of-type {\n",
       "        vertical-align: middle;\n",
       "    }\n",
       "\n",
       "    .dataframe tbody tr th {\n",
       "        vertical-align: top;\n",
       "    }\n",
       "\n",
       "    .dataframe thead th {\n",
       "        text-align: right;\n",
       "    }\n",
       "</style>\n",
       "<table border=\"1\" class=\"dataframe\">\n",
       "  <thead>\n",
       "    <tr style=\"text-align: right;\">\n",
       "      <th></th>\n",
       "      <th>Neighborhood Latitude</th>\n",
       "      <th>Neighborhood Longitude</th>\n",
       "      <th>Venue</th>\n",
       "      <th>Venue Latitude</th>\n",
       "      <th>Venue Longitude</th>\n",
       "      <th>Venue Category</th>\n",
       "    </tr>\n",
       "    <tr>\n",
       "      <th>Neighborhood</th>\n",
       "      <th></th>\n",
       "      <th></th>\n",
       "      <th></th>\n",
       "      <th></th>\n",
       "      <th></th>\n",
       "      <th></th>\n",
       "    </tr>\n",
       "  </thead>\n",
       "  <tbody>\n",
       "    <tr>\n",
       "      <th>Agincourt</th>\n",
       "      <td>22</td>\n",
       "      <td>22</td>\n",
       "      <td>22</td>\n",
       "      <td>22</td>\n",
       "      <td>22</td>\n",
       "      <td>22</td>\n",
       "    </tr>\n",
       "    <tr>\n",
       "      <th>Agincourt North, L'Amoreaux East, Milliken, Steeles East</th>\n",
       "      <td>10</td>\n",
       "      <td>10</td>\n",
       "      <td>10</td>\n",
       "      <td>10</td>\n",
       "      <td>10</td>\n",
       "      <td>10</td>\n",
       "    </tr>\n",
       "    <tr>\n",
       "      <th>Birch Cliff, Cliffside West</th>\n",
       "      <td>4</td>\n",
       "      <td>4</td>\n",
       "      <td>4</td>\n",
       "      <td>4</td>\n",
       "      <td>4</td>\n",
       "      <td>4</td>\n",
       "    </tr>\n",
       "    <tr>\n",
       "      <th>Cedarbrae</th>\n",
       "      <td>9</td>\n",
       "      <td>9</td>\n",
       "      <td>9</td>\n",
       "      <td>9</td>\n",
       "      <td>9</td>\n",
       "      <td>9</td>\n",
       "    </tr>\n",
       "    <tr>\n",
       "      <th>Clairlea, Golden Mile, Oakridge</th>\n",
       "      <td>4</td>\n",
       "      <td>4</td>\n",
       "      <td>4</td>\n",
       "      <td>4</td>\n",
       "      <td>4</td>\n",
       "      <td>4</td>\n",
       "    </tr>\n",
       "    <tr>\n",
       "      <th>Clarks Corners, Sullivan, Tam O'Shanter</th>\n",
       "      <td>12</td>\n",
       "      <td>12</td>\n",
       "      <td>12</td>\n",
       "      <td>12</td>\n",
       "      <td>12</td>\n",
       "      <td>12</td>\n",
       "    </tr>\n",
       "    <tr>\n",
       "      <th>Cliffcrest, Cliffside, Scarborough Village West</th>\n",
       "      <td>3</td>\n",
       "      <td>3</td>\n",
       "      <td>3</td>\n",
       "      <td>3</td>\n",
       "      <td>3</td>\n",
       "      <td>3</td>\n",
       "    </tr>\n",
       "    <tr>\n",
       "      <th>Dorset Park, Scarborough Town Centre, Wexford Heights</th>\n",
       "      <td>12</td>\n",
       "      <td>12</td>\n",
       "      <td>12</td>\n",
       "      <td>12</td>\n",
       "      <td>12</td>\n",
       "      <td>12</td>\n",
       "    </tr>\n",
       "    <tr>\n",
       "      <th>East Birchmount Park, Ionview, Kennedy Park</th>\n",
       "      <td>6</td>\n",
       "      <td>6</td>\n",
       "      <td>6</td>\n",
       "      <td>6</td>\n",
       "      <td>6</td>\n",
       "      <td>6</td>\n",
       "    </tr>\n",
       "    <tr>\n",
       "      <th>Guildwood, Morningside, West Hill</th>\n",
       "      <td>3</td>\n",
       "      <td>3</td>\n",
       "      <td>3</td>\n",
       "      <td>3</td>\n",
       "      <td>3</td>\n",
       "      <td>3</td>\n",
       "    </tr>\n",
       "    <tr>\n",
       "      <th>Highland Creek, Rouge Hill, Port Union</th>\n",
       "      <td>1</td>\n",
       "      <td>1</td>\n",
       "      <td>1</td>\n",
       "      <td>1</td>\n",
       "      <td>1</td>\n",
       "      <td>1</td>\n",
       "    </tr>\n",
       "    <tr>\n",
       "      <th>L'Amoreaux West</th>\n",
       "      <td>6</td>\n",
       "      <td>6</td>\n",
       "      <td>6</td>\n",
       "      <td>6</td>\n",
       "      <td>6</td>\n",
       "      <td>6</td>\n",
       "    </tr>\n",
       "    <tr>\n",
       "      <th>Maryvale, Wexford</th>\n",
       "      <td>9</td>\n",
       "      <td>9</td>\n",
       "      <td>9</td>\n",
       "      <td>9</td>\n",
       "      <td>9</td>\n",
       "      <td>9</td>\n",
       "    </tr>\n",
       "    <tr>\n",
       "      <th>Rouge, Malvern</th>\n",
       "      <td>6</td>\n",
       "      <td>6</td>\n",
       "      <td>6</td>\n",
       "      <td>6</td>\n",
       "      <td>6</td>\n",
       "      <td>6</td>\n",
       "    </tr>\n",
       "    <tr>\n",
       "      <th>Scarborough Village</th>\n",
       "      <td>5</td>\n",
       "      <td>5</td>\n",
       "      <td>5</td>\n",
       "      <td>5</td>\n",
       "      <td>5</td>\n",
       "      <td>5</td>\n",
       "    </tr>\n",
       "    <tr>\n",
       "      <th>Woburn</th>\n",
       "      <td>3</td>\n",
       "      <td>3</td>\n",
       "      <td>3</td>\n",
       "      <td>3</td>\n",
       "      <td>3</td>\n",
       "      <td>3</td>\n",
       "    </tr>\n",
       "  </tbody>\n",
       "</table>\n",
       "</div>"
      ],
      "text/plain": [
       "                                                    Neighborhood Latitude  \\\n",
       "Neighborhood                                                                \n",
       "Agincourt                                                              22   \n",
       "Agincourt North, L'Amoreaux East, Milliken, Ste...                     10   \n",
       "Birch Cliff, Cliffside West                                             4   \n",
       "Cedarbrae                                                               9   \n",
       "Clairlea, Golden Mile, Oakridge                                         4   \n",
       "Clarks Corners, Sullivan, Tam O'Shanter                                12   \n",
       "Cliffcrest, Cliffside, Scarborough Village West                         3   \n",
       "Dorset Park, Scarborough Town Centre, Wexford H...                     12   \n",
       "East Birchmount Park, Ionview, Kennedy Park                             6   \n",
       "Guildwood, Morningside, West Hill                                       3   \n",
       "Highland Creek, Rouge Hill, Port Union                                  1   \n",
       "L'Amoreaux West                                                         6   \n",
       "Maryvale, Wexford                                                       9   \n",
       "Rouge, Malvern                                                          6   \n",
       "Scarborough Village                                                     5   \n",
       "Woburn                                                                  3   \n",
       "\n",
       "                                                    Neighborhood Longitude  \\\n",
       "Neighborhood                                                                 \n",
       "Agincourt                                                               22   \n",
       "Agincourt North, L'Amoreaux East, Milliken, Ste...                      10   \n",
       "Birch Cliff, Cliffside West                                              4   \n",
       "Cedarbrae                                                                9   \n",
       "Clairlea, Golden Mile, Oakridge                                          4   \n",
       "Clarks Corners, Sullivan, Tam O'Shanter                                 12   \n",
       "Cliffcrest, Cliffside, Scarborough Village West                          3   \n",
       "Dorset Park, Scarborough Town Centre, Wexford H...                      12   \n",
       "East Birchmount Park, Ionview, Kennedy Park                              6   \n",
       "Guildwood, Morningside, West Hill                                        3   \n",
       "Highland Creek, Rouge Hill, Port Union                                   1   \n",
       "L'Amoreaux West                                                          6   \n",
       "Maryvale, Wexford                                                        9   \n",
       "Rouge, Malvern                                                           6   \n",
       "Scarborough Village                                                      5   \n",
       "Woburn                                                                   3   \n",
       "\n",
       "                                                    Venue  Venue Latitude  \\\n",
       "Neighborhood                                                                \n",
       "Agincourt                                              22              22   \n",
       "Agincourt North, L'Amoreaux East, Milliken, Ste...     10              10   \n",
       "Birch Cliff, Cliffside West                             4               4   \n",
       "Cedarbrae                                               9               9   \n",
       "Clairlea, Golden Mile, Oakridge                         4               4   \n",
       "Clarks Corners, Sullivan, Tam O'Shanter                12              12   \n",
       "Cliffcrest, Cliffside, Scarborough Village West         3               3   \n",
       "Dorset Park, Scarborough Town Centre, Wexford H...     12              12   \n",
       "East Birchmount Park, Ionview, Kennedy Park             6               6   \n",
       "Guildwood, Morningside, West Hill                       3               3   \n",
       "Highland Creek, Rouge Hill, Port Union                  1               1   \n",
       "L'Amoreaux West                                         6               6   \n",
       "Maryvale, Wexford                                       9               9   \n",
       "Rouge, Malvern                                          6               6   \n",
       "Scarborough Village                                     5               5   \n",
       "Woburn                                                  3               3   \n",
       "\n",
       "                                                    Venue Longitude  \\\n",
       "Neighborhood                                                          \n",
       "Agincourt                                                        22   \n",
       "Agincourt North, L'Amoreaux East, Milliken, Ste...               10   \n",
       "Birch Cliff, Cliffside West                                       4   \n",
       "Cedarbrae                                                         9   \n",
       "Clairlea, Golden Mile, Oakridge                                   4   \n",
       "Clarks Corners, Sullivan, Tam O'Shanter                          12   \n",
       "Cliffcrest, Cliffside, Scarborough Village West                   3   \n",
       "Dorset Park, Scarborough Town Centre, Wexford H...               12   \n",
       "East Birchmount Park, Ionview, Kennedy Park                       6   \n",
       "Guildwood, Morningside, West Hill                                 3   \n",
       "Highland Creek, Rouge Hill, Port Union                            1   \n",
       "L'Amoreaux West                                                   6   \n",
       "Maryvale, Wexford                                                 9   \n",
       "Rouge, Malvern                                                    6   \n",
       "Scarborough Village                                               5   \n",
       "Woburn                                                            3   \n",
       "\n",
       "                                                    Venue Category  \n",
       "Neighborhood                                                        \n",
       "Agincourt                                                       22  \n",
       "Agincourt North, L'Amoreaux East, Milliken, Ste...              10  \n",
       "Birch Cliff, Cliffside West                                      4  \n",
       "Cedarbrae                                                        9  \n",
       "Clairlea, Golden Mile, Oakridge                                  4  \n",
       "Clarks Corners, Sullivan, Tam O'Shanter                         12  \n",
       "Cliffcrest, Cliffside, Scarborough Village West                  3  \n",
       "Dorset Park, Scarborough Town Centre, Wexford H...              12  \n",
       "East Birchmount Park, Ionview, Kennedy Park                      6  \n",
       "Guildwood, Morningside, West Hill                                3  \n",
       "Highland Creek, Rouge Hill, Port Union                           1  \n",
       "L'Amoreaux West                                                  6  \n",
       "Maryvale, Wexford                                                9  \n",
       "Rouge, Malvern                                                   6  \n",
       "Scarborough Village                                              5  \n",
       "Woburn                                                           3  "
      ]
     },
     "execution_count": 67,
     "metadata": {},
     "output_type": "execute_result"
    }
   ],
   "source": [
    "scar_restaurants.groupby('Neighborhood').count()"
   ]
  },
  {
   "cell_type": "code",
   "execution_count": null,
   "metadata": {},
   "outputs": [],
   "source": []
  }
 ],
 "metadata": {
  "kernelspec": {
   "display_name": "Python 3",
   "language": "python",
   "name": "python3"
  },
  "language_info": {
   "codemirror_mode": {
    "name": "ipython",
    "version": 3
   },
   "file_extension": ".py",
   "mimetype": "text/x-python",
   "name": "python",
   "nbconvert_exporter": "python",
   "pygments_lexer": "ipython3",
   "version": "3.6.7"
  }
 },
 "nbformat": 4,
 "nbformat_minor": 2
}
